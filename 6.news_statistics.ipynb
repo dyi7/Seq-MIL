{
 "cells": [
  {
   "cell_type": "code",
   "execution_count": 1,
   "metadata": {},
   "outputs": [],
   "source": [
    "import pandas as pd"
   ]
  },
  {
   "cell_type": "code",
   "execution_count": 4,
   "metadata": {},
   "outputs": [],
   "source": [
    "x_train = pd.read_csv('news_set/train.csv').set_index('date')\n",
    "x_valid = pd.read_csv('news_set/validate.csv').set_index('date')\n",
    "x_test = pd.read_csv('news_set/test.csv').set_index('date')\n",
    "x_train = x_train['title'].groupby(x_train.index).apply(list).apply(pd.Series).fillna('')\n",
    "x_valid = x_valid['title'].groupby(x_valid.index).apply(list).apply(pd.Series).fillna('')\n",
    "x_test = x_test['title'].groupby(x_test.index).apply(list).apply(pd.Series).fillna('')\n",
    "label = pd.read_csv('price_set/train(1020)_label.csv').set_index('Date')\n",
    "#y_train = label['Close'].values"
   ]
  },
  {
   "cell_type": "code",
   "execution_count": 3,
   "metadata": {},
   "outputs": [
    {
     "data": {
      "text/html": [
       "<div>\n",
       "<style scoped>\n",
       "    .dataframe tbody tr th:only-of-type {\n",
       "        vertical-align: middle;\n",
       "    }\n",
       "\n",
       "    .dataframe tbody tr th {\n",
       "        vertical-align: top;\n",
       "    }\n",
       "\n",
       "    .dataframe thead th {\n",
       "        text-align: right;\n",
       "    }\n",
       "</style>\n",
       "<table border=\"1\" class=\"dataframe\">\n",
       "  <thead>\n",
       "    <tr style=\"text-align: right;\">\n",
       "      <th></th>\n",
       "      <th>Close</th>\n",
       "    </tr>\n",
       "    <tr>\n",
       "      <th>Date</th>\n",
       "      <th></th>\n",
       "    </tr>\n",
       "  </thead>\n",
       "  <tbody>\n",
       "    <tr>\n",
       "      <th>2006-10-20</th>\n",
       "      <td>1.0</td>\n",
       "    </tr>\n",
       "    <tr>\n",
       "      <th>2006-10-23</th>\n",
       "      <td>1.0</td>\n",
       "    </tr>\n",
       "    <tr>\n",
       "      <th>2006-10-24</th>\n",
       "      <td>1.0</td>\n",
       "    </tr>\n",
       "    <tr>\n",
       "      <th>2006-10-25</th>\n",
       "      <td>1.0</td>\n",
       "    </tr>\n",
       "    <tr>\n",
       "      <th>2006-10-26</th>\n",
       "      <td>1.0</td>\n",
       "    </tr>\n",
       "    <tr>\n",
       "      <th>...</th>\n",
       "      <td>...</td>\n",
       "    </tr>\n",
       "    <tr>\n",
       "      <th>2012-06-15</th>\n",
       "      <td>1.0</td>\n",
       "    </tr>\n",
       "    <tr>\n",
       "      <th>2012-06-18</th>\n",
       "      <td>1.0</td>\n",
       "    </tr>\n",
       "    <tr>\n",
       "      <th>2012-06-19</th>\n",
       "      <td>1.0</td>\n",
       "    </tr>\n",
       "    <tr>\n",
       "      <th>2012-06-20</th>\n",
       "      <td>0.0</td>\n",
       "    </tr>\n",
       "    <tr>\n",
       "      <th>2012-06-21</th>\n",
       "      <td>0.0</td>\n",
       "    </tr>\n",
       "  </tbody>\n",
       "</table>\n",
       "<p>1428 rows × 1 columns</p>\n",
       "</div>"
      ],
      "text/plain": [
       "            Close\n",
       "Date             \n",
       "2006-10-20    1.0\n",
       "2006-10-23    1.0\n",
       "2006-10-24    1.0\n",
       "2006-10-25    1.0\n",
       "2006-10-26    1.0\n",
       "...           ...\n",
       "2012-06-15    1.0\n",
       "2012-06-18    1.0\n",
       "2012-06-19    1.0\n",
       "2012-06-20    0.0\n",
       "2012-06-21    0.0\n",
       "\n",
       "[1428 rows x 1 columns]"
      ]
     },
     "execution_count": 3,
     "metadata": {},
     "output_type": "execute_result"
    }
   ],
   "source": [
    "###################@@@@@@@@@@@@@@@@@@@@@@@@@@@@@@@@@@@@@@@@@@@@@@@@@@@@@@@@@@@@@@@@@ label statistics\n",
    "#lable data doesn't conclude prices in weekends, however, news conclude\n",
    "label"
   ]
  },
  {
   "cell_type": "code",
   "execution_count": 5,
   "metadata": {},
   "outputs": [
    {
     "name": "stdout",
     "output_type": "stream",
     "text": [
      "total categories: 2\n",
      "Close\n",
      "0.0    647\n",
      "1.0    781\n",
      "dtype: int64\n"
     ]
    }
   ],
   "source": [
    "categories = label['Close']\n",
    "cates = label.groupby('Close')\n",
    "print(\"total categories:\", cates.ngroups)\n",
    "print(cates.size())"
   ]
  },
  {
   "cell_type": "code",
   "execution_count": null,
   "metadata": {},
   "outputs": [],
   "source": [
    "###########################################@@@@@@@@@@@@@@@@@@@@@@@@@@@@@@@@@@@@@@@@@@@"
   ]
  },
  {
   "cell_type": "code",
   "execution_count": 7,
   "metadata": {},
   "outputs": [
    {
     "data": {
      "text/html": [
       "<div>\n",
       "<style scoped>\n",
       "    .dataframe tbody tr th:only-of-type {\n",
       "        vertical-align: middle;\n",
       "    }\n",
       "\n",
       "    .dataframe tbody tr th {\n",
       "        vertical-align: top;\n",
       "    }\n",
       "\n",
       "    .dataframe thead th {\n",
       "        text-align: right;\n",
       "    }\n",
       "</style>\n",
       "<table border=\"1\" class=\"dataframe\">\n",
       "  <thead>\n",
       "    <tr style=\"text-align: right;\">\n",
       "      <th></th>\n",
       "      <th>0</th>\n",
       "      <th>1</th>\n",
       "      <th>2</th>\n",
       "      <th>3</th>\n",
       "      <th>4</th>\n",
       "      <th>5</th>\n",
       "      <th>6</th>\n",
       "      <th>7</th>\n",
       "      <th>8</th>\n",
       "      <th>9</th>\n",
       "      <th>...</th>\n",
       "      <th>122</th>\n",
       "      <th>123</th>\n",
       "      <th>124</th>\n",
       "      <th>125</th>\n",
       "      <th>126</th>\n",
       "      <th>127</th>\n",
       "      <th>128</th>\n",
       "      <th>129</th>\n",
       "      <th>130</th>\n",
       "      <th>131</th>\n",
       "    </tr>\n",
       "    <tr>\n",
       "      <th>date</th>\n",
       "      <th></th>\n",
       "      <th></th>\n",
       "      <th></th>\n",
       "      <th></th>\n",
       "      <th></th>\n",
       "      <th></th>\n",
       "      <th></th>\n",
       "      <th></th>\n",
       "      <th></th>\n",
       "      <th></th>\n",
       "      <th></th>\n",
       "      <th></th>\n",
       "      <th></th>\n",
       "      <th></th>\n",
       "      <th></th>\n",
       "      <th></th>\n",
       "      <th></th>\n",
       "      <th></th>\n",
       "      <th></th>\n",
       "      <th></th>\n",
       "      <th></th>\n",
       "    </tr>\n",
       "  </thead>\n",
       "  <tbody>\n",
       "    <tr>\n",
       "      <th>2006-10-20</th>\n",
       "      <td>exxon mobil offer plan to end alaska dispute .</td>\n",
       "      <td></td>\n",
       "      <td></td>\n",
       "      <td></td>\n",
       "      <td></td>\n",
       "      <td></td>\n",
       "      <td></td>\n",
       "      <td></td>\n",
       "      <td></td>\n",
       "      <td></td>\n",
       "      <td>...</td>\n",
       "      <td></td>\n",
       "      <td></td>\n",
       "      <td></td>\n",
       "      <td></td>\n",
       "      <td></td>\n",
       "      <td></td>\n",
       "      <td></td>\n",
       "      <td></td>\n",
       "      <td></td>\n",
       "      <td></td>\n",
       "    </tr>\n",
       "    <tr>\n",
       "      <th>2006-10-23</th>\n",
       "      <td>royal dutch bid for shell canada low sharehold...</td>\n",
       "      <td>dow end at record high texas instrument off la...</td>\n",
       "      <td>shell look to buy out canada unit for c xxx bi...</td>\n",
       "      <td>ford be review all product brand ceo .</td>\n",
       "      <td>at t earnings beat expectation .</td>\n",
       "      <td>australia foster say confident on target .</td>\n",
       "      <td>ford win t sell ford credit .</td>\n",
       "      <td>kimberly clark see high cost this year .</td>\n",
       "      <td></td>\n",
       "      <td></td>\n",
       "      <td>...</td>\n",
       "      <td></td>\n",
       "      <td></td>\n",
       "      <td></td>\n",
       "      <td></td>\n",
       "      <td></td>\n",
       "      <td></td>\n",
       "      <td></td>\n",
       "      <td></td>\n",
       "      <td></td>\n",
       "      <td></td>\n",
       "    </tr>\n",
       "    <tr>\n",
       "      <th>2006-10-24</th>\n",
       "      <td>microsoft to start vista coupon plan for pc bu...</td>\n",
       "      <td>dst system post low q3 net profit .</td>\n",
       "      <td>u . s . tech stock fall on texas instrument ou...</td>\n",
       "      <td>ge wal mart shenzhen bank tie up on china cred...</td>\n",
       "      <td>lockheed martin ups forecast .</td>\n",
       "      <td>microsoft to defer xxx billion in sale to thir...</td>\n",
       "      <td>jim cramer bare escentuals allergan medicis av...</td>\n",
       "      <td>pepsico look to new product acquisition .</td>\n",
       "      <td>amazon profit beat expectation .</td>\n",
       "      <td>phelps dodge net double but off wall st . targ...</td>\n",
       "      <td>...</td>\n",
       "      <td></td>\n",
       "      <td></td>\n",
       "      <td></td>\n",
       "      <td></td>\n",
       "      <td></td>\n",
       "      <td></td>\n",
       "      <td></td>\n",
       "      <td></td>\n",
       "      <td></td>\n",
       "      <td></td>\n",
       "    </tr>\n",
       "    <tr>\n",
       "      <th>2006-10-25</th>\n",
       "      <td>boeing profit tops view but forecast disappoin...</td>\n",
       "      <td>u . s . stock gain exxon and altria jump .</td>\n",
       "      <td>amazon profit beat forecast .</td>\n",
       "      <td>honda q2 drop on finance loss yen lift f cast .</td>\n",
       "      <td>exist home sale fall for 6th straight month .</td>\n",
       "      <td>radioshack post quarter loss a cost rise .</td>\n",
       "      <td>altria net hit by spain conwood lifts reynolds .</td>\n",
       "      <td>stock see up slightly after amazon result .</td>\n",
       "      <td>altria promise january detail for kraft .</td>\n",
       "      <td>gm signal it be closer to labor deal with delp...</td>\n",
       "      <td>...</td>\n",
       "      <td></td>\n",
       "      <td></td>\n",
       "      <td></td>\n",
       "      <td></td>\n",
       "      <td></td>\n",
       "      <td></td>\n",
       "      <td></td>\n",
       "      <td></td>\n",
       "      <td></td>\n",
       "      <td></td>\n",
       "    </tr>\n",
       "    <tr>\n",
       "      <th>2006-10-26</th>\n",
       "      <td>analyst sound note of caution on gm cash burn .</td>\n",
       "      <td>comcast third quarter profit up on record sub ...</td>\n",
       "      <td>microsoft profit rise 11 percent .</td>\n",
       "      <td>instant view 4 microsoft post high result .</td>\n",
       "      <td>dow chemical earnings rise on strong sale .</td>\n",
       "      <td>stock gain on strong profit microsoft up late .</td>\n",
       "      <td>microsoft cfo say tender offer lower outlook .</td>\n",
       "      <td>exxon post huge profit on high price output .</td>\n",
       "      <td>gm post profit but recovery loom .</td>\n",
       "      <td>u . s . sept new home sale durables rise .</td>\n",
       "      <td>...</td>\n",
       "      <td></td>\n",
       "      <td></td>\n",
       "      <td></td>\n",
       "      <td></td>\n",
       "      <td></td>\n",
       "      <td></td>\n",
       "      <td></td>\n",
       "      <td></td>\n",
       "      <td></td>\n",
       "      <td></td>\n",
       "    </tr>\n",
       "    <tr>\n",
       "      <th>...</th>\n",
       "      <td>...</td>\n",
       "      <td>...</td>\n",
       "      <td>...</td>\n",
       "      <td>...</td>\n",
       "      <td>...</td>\n",
       "      <td>...</td>\n",
       "      <td>...</td>\n",
       "      <td>...</td>\n",
       "      <td>...</td>\n",
       "      <td>...</td>\n",
       "      <td>...</td>\n",
       "      <td>...</td>\n",
       "      <td>...</td>\n",
       "      <td>...</td>\n",
       "      <td>...</td>\n",
       "      <td>...</td>\n",
       "      <td>...</td>\n",
       "      <td>...</td>\n",
       "      <td>...</td>\n",
       "      <td>...</td>\n",
       "      <td>...</td>\n",
       "    </tr>\n",
       "    <tr>\n",
       "      <th>2012-06-17</th>\n",
       "      <td>u . k . home seller push ask price to record r...</td>\n",
       "      <td>end u . s . student loan don t make them cheap .</td>\n",
       "      <td>third fed stimulus win t be good than qe2 romn...</td>\n",
       "      <td>iran nuclear offer isn t enough to delay eu oi...</td>\n",
       "      <td>rwe win t build more nuclear power station sue...</td>\n",
       "      <td>supreme court s super monday don t serve justi...</td>\n",
       "      <td>new index show low growth for major economy .</td>\n",
       "      <td>microsoft nears deal to buy yammer source .</td>\n",
       "      <td>exxon drop shale exploration plan in poland pa...</td>\n",
       "      <td>irish asset sale win t be impact by euro crisi...</td>\n",
       "      <td>...</td>\n",
       "      <td></td>\n",
       "      <td></td>\n",
       "      <td></td>\n",
       "      <td></td>\n",
       "      <td></td>\n",
       "      <td></td>\n",
       "      <td></td>\n",
       "      <td></td>\n",
       "      <td></td>\n",
       "      <td></td>\n",
       "    </tr>\n",
       "    <tr>\n",
       "      <th>2012-06-18</th>\n",
       "      <td>dollar shortage see in 2 trillion gap say morg...</td>\n",
       "      <td>microsoft tablet must shed office image to cha...</td>\n",
       "      <td>ups sell xxx million yuan commercial paper for...</td>\n",
       "      <td>kenya coffee auction recess start on july 18 a...</td>\n",
       "      <td>morgan stanley may settle nuns u . k . bond la...</td>\n",
       "      <td>blackrock s rice to stop co manage five energy...</td>\n",
       "      <td>wto china steel facebook sec gupta verdict com...</td>\n",
       "      <td>pfizer s drug for rare nerve disease reject by...</td>\n",
       "      <td>tui see no jump in cost of travel to greece ce...</td>\n",
       "      <td>gm say to report xxxth facility go landfill fr...</td>\n",
       "      <td>...</td>\n",
       "      <td></td>\n",
       "      <td></td>\n",
       "      <td></td>\n",
       "      <td></td>\n",
       "      <td></td>\n",
       "      <td></td>\n",
       "      <td></td>\n",
       "      <td></td>\n",
       "      <td></td>\n",
       "      <td></td>\n",
       "    </tr>\n",
       "    <tr>\n",
       "      <th>2012-06-19</th>\n",
       "      <td>wal mart mom tear on health care become campai...</td>\n",
       "      <td>pemex sell xxx billion of bond abroad amid rec...</td>\n",
       "      <td>danone cut profitability goal on southern euro...</td>\n",
       "      <td>sumitomo mitsui trust target 32 increase in ov...</td>\n",
       "      <td>metlife win feed extension to resubmit capital...</td>\n",
       "      <td>kodak sue apple in bid to quash claim over pat...</td>\n",
       "      <td>microsoft unveils surface tablet computer to r...</td>\n",
       "      <td>deutsche bahn see eu20 million airport delay c...</td>\n",
       "      <td>u . s . soybean stock see low a shipment stren...</td>\n",
       "      <td>nestle shrug off low spain demand a danone cut...</td>\n",
       "      <td>...</td>\n",
       "      <td></td>\n",
       "      <td></td>\n",
       "      <td></td>\n",
       "      <td></td>\n",
       "      <td></td>\n",
       "      <td></td>\n",
       "      <td></td>\n",
       "      <td></td>\n",
       "      <td></td>\n",
       "      <td></td>\n",
       "    </tr>\n",
       "    <tr>\n",
       "      <th>2012-06-20</th>\n",
       "      <td>sanofi s blood clot drug doesn t show benefit ...</td>\n",
       "      <td>j j pfizer alzheimer s study will be present i...</td>\n",
       "      <td>merck s marketing of drug with madagascar 3 dr...</td>\n",
       "      <td>taiwan shut central southern area a storm appr...</td>\n",
       "      <td>oil fall to eight month low on u . s . stockpi...</td>\n",
       "      <td>microsoft debut windows 8 phone software to ri...</td>\n",
       "      <td>boeing xxx dimmable window not dark enough say...</td>\n",
       "      <td>so you think beat queen s horse carlton house ...</td>\n",
       "      <td>apple motorola mobility spar in court over pho...</td>\n",
       "      <td>euro erase xxx drop v yen trade little change ...</td>\n",
       "      <td>...</td>\n",
       "      <td></td>\n",
       "      <td></td>\n",
       "      <td></td>\n",
       "      <td></td>\n",
       "      <td></td>\n",
       "      <td></td>\n",
       "      <td></td>\n",
       "      <td></td>\n",
       "      <td></td>\n",
       "      <td></td>\n",
       "    </tr>\n",
       "    <tr>\n",
       "      <th>2012-06-21</th>\n",
       "      <td>blackrock energy fund manager leave firm .</td>\n",
       "      <td>peugeot examine impact of gm on bmw hybrid all...</td>\n",
       "      <td>exist home sale fall xxx percent in may .</td>\n",
       "      <td>apple fin in australia for mislead ipad advert...</td>\n",
       "      <td>exclusive blackrock discloses doll model not a...</td>\n",
       "      <td>spain to seek bank aid a borrowing cost soar .</td>\n",
       "      <td>exxon to reconfigure uk plant close a crude un...</td>\n",
       "      <td>executive who criticize oracle president quits .</td>\n",
       "      <td>analysis smart logic samsung chip away at inte...</td>\n",
       "      <td>analysis texas refinery crisis rattle saudi oi...</td>\n",
       "      <td>...</td>\n",
       "      <td></td>\n",
       "      <td></td>\n",
       "      <td></td>\n",
       "      <td></td>\n",
       "      <td></td>\n",
       "      <td></td>\n",
       "      <td></td>\n",
       "      <td></td>\n",
       "      <td></td>\n",
       "      <td></td>\n",
       "    </tr>\n",
       "  </tbody>\n",
       "</table>\n",
       "<p>1976 rows × 132 columns</p>\n",
       "</div>"
      ],
      "text/plain": [
       "                                                          0    \\\n",
       "date                                                            \n",
       "2006-10-20     exxon mobil offer plan to end alaska dispute .   \n",
       "2006-10-23  royal dutch bid for shell canada low sharehold...   \n",
       "2006-10-24  microsoft to start vista coupon plan for pc bu...   \n",
       "2006-10-25  boeing profit tops view but forecast disappoin...   \n",
       "2006-10-26    analyst sound note of caution on gm cash burn .   \n",
       "...                                                       ...   \n",
       "2012-06-17  u . k . home seller push ask price to record r...   \n",
       "2012-06-18  dollar shortage see in 2 trillion gap say morg...   \n",
       "2012-06-19  wal mart mom tear on health care become campai...   \n",
       "2012-06-20  sanofi s blood clot drug doesn t show benefit ...   \n",
       "2012-06-21         blackrock energy fund manager leave firm .   \n",
       "\n",
       "                                                          1    \\\n",
       "date                                                            \n",
       "2006-10-20                                                      \n",
       "2006-10-23  dow end at record high texas instrument off la...   \n",
       "2006-10-24                dst system post low q3 net profit .   \n",
       "2006-10-25         u . s . stock gain exxon and altria jump .   \n",
       "2006-10-26  comcast third quarter profit up on record sub ...   \n",
       "...                                                       ...   \n",
       "2012-06-17   end u . s . student loan don t make them cheap .   \n",
       "2012-06-18  microsoft tablet must shed office image to cha...   \n",
       "2012-06-19  pemex sell xxx billion of bond abroad amid rec...   \n",
       "2012-06-20  j j pfizer alzheimer s study will be present i...   \n",
       "2012-06-21  peugeot examine impact of gm on bmw hybrid all...   \n",
       "\n",
       "                                                          2    \\\n",
       "date                                                            \n",
       "2006-10-20                                                      \n",
       "2006-10-23  shell look to buy out canada unit for c xxx bi...   \n",
       "2006-10-24  u . s . tech stock fall on texas instrument ou...   \n",
       "2006-10-25                      amazon profit beat forecast .   \n",
       "2006-10-26                 microsoft profit rise 11 percent .   \n",
       "...                                                       ...   \n",
       "2012-06-17  third fed stimulus win t be good than qe2 romn...   \n",
       "2012-06-18  ups sell xxx million yuan commercial paper for...   \n",
       "2012-06-19  danone cut profitability goal on southern euro...   \n",
       "2012-06-20  merck s marketing of drug with madagascar 3 dr...   \n",
       "2012-06-21          exist home sale fall xxx percent in may .   \n",
       "\n",
       "                                                          3    \\\n",
       "date                                                            \n",
       "2006-10-20                                                      \n",
       "2006-10-23             ford be review all product brand ceo .   \n",
       "2006-10-24  ge wal mart shenzhen bank tie up on china cred...   \n",
       "2006-10-25    honda q2 drop on finance loss yen lift f cast .   \n",
       "2006-10-26        instant view 4 microsoft post high result .   \n",
       "...                                                       ...   \n",
       "2012-06-17  iran nuclear offer isn t enough to delay eu oi...   \n",
       "2012-06-18  kenya coffee auction recess start on july 18 a...   \n",
       "2012-06-19  sumitomo mitsui trust target 32 increase in ov...   \n",
       "2012-06-20  taiwan shut central southern area a storm appr...   \n",
       "2012-06-21  apple fin in australia for mislead ipad advert...   \n",
       "\n",
       "                                                          4    \\\n",
       "date                                                            \n",
       "2006-10-20                                                      \n",
       "2006-10-23                   at t earnings beat expectation .   \n",
       "2006-10-24                     lockheed martin ups forecast .   \n",
       "2006-10-25      exist home sale fall for 6th straight month .   \n",
       "2006-10-26        dow chemical earnings rise on strong sale .   \n",
       "...                                                       ...   \n",
       "2012-06-17  rwe win t build more nuclear power station sue...   \n",
       "2012-06-18  morgan stanley may settle nuns u . k . bond la...   \n",
       "2012-06-19  metlife win feed extension to resubmit capital...   \n",
       "2012-06-20  oil fall to eight month low on u . s . stockpi...   \n",
       "2012-06-21  exclusive blackrock discloses doll model not a...   \n",
       "\n",
       "                                                          5    \\\n",
       "date                                                            \n",
       "2006-10-20                                                      \n",
       "2006-10-23         australia foster say confident on target .   \n",
       "2006-10-24  microsoft to defer xxx billion in sale to thir...   \n",
       "2006-10-25         radioshack post quarter loss a cost rise .   \n",
       "2006-10-26    stock gain on strong profit microsoft up late .   \n",
       "...                                                       ...   \n",
       "2012-06-17  supreme court s super monday don t serve justi...   \n",
       "2012-06-18  blackrock s rice to stop co manage five energy...   \n",
       "2012-06-19  kodak sue apple in bid to quash claim over pat...   \n",
       "2012-06-20  microsoft debut windows 8 phone software to ri...   \n",
       "2012-06-21     spain to seek bank aid a borrowing cost soar .   \n",
       "\n",
       "                                                          6    \\\n",
       "date                                                            \n",
       "2006-10-20                                                      \n",
       "2006-10-23                      ford win t sell ford credit .   \n",
       "2006-10-24  jim cramer bare escentuals allergan medicis av...   \n",
       "2006-10-25   altria net hit by spain conwood lifts reynolds .   \n",
       "2006-10-26     microsoft cfo say tender offer lower outlook .   \n",
       "...                                                       ...   \n",
       "2012-06-17      new index show low growth for major economy .   \n",
       "2012-06-18  wto china steel facebook sec gupta verdict com...   \n",
       "2012-06-19  microsoft unveils surface tablet computer to r...   \n",
       "2012-06-20  boeing xxx dimmable window not dark enough say...   \n",
       "2012-06-21  exxon to reconfigure uk plant close a crude un...   \n",
       "\n",
       "                                                          7    \\\n",
       "date                                                            \n",
       "2006-10-20                                                      \n",
       "2006-10-23           kimberly clark see high cost this year .   \n",
       "2006-10-24          pepsico look to new product acquisition .   \n",
       "2006-10-25        stock see up slightly after amazon result .   \n",
       "2006-10-26      exxon post huge profit on high price output .   \n",
       "...                                                       ...   \n",
       "2012-06-17        microsoft nears deal to buy yammer source .   \n",
       "2012-06-18  pfizer s drug for rare nerve disease reject by...   \n",
       "2012-06-19  deutsche bahn see eu20 million airport delay c...   \n",
       "2012-06-20  so you think beat queen s horse carlton house ...   \n",
       "2012-06-21   executive who criticize oracle president quits .   \n",
       "\n",
       "                                                          8    \\\n",
       "date                                                            \n",
       "2006-10-20                                                      \n",
       "2006-10-23                                                      \n",
       "2006-10-24                   amazon profit beat expectation .   \n",
       "2006-10-25          altria promise january detail for kraft .   \n",
       "2006-10-26                 gm post profit but recovery loom .   \n",
       "...                                                       ...   \n",
       "2012-06-17  exxon drop shale exploration plan in poland pa...   \n",
       "2012-06-18  tui see no jump in cost of travel to greece ce...   \n",
       "2012-06-19  u . s . soybean stock see low a shipment stren...   \n",
       "2012-06-20  apple motorola mobility spar in court over pho...   \n",
       "2012-06-21  analysis smart logic samsung chip away at inte...   \n",
       "\n",
       "                                                          9    ... 122 123  \\\n",
       "date                                                           ...           \n",
       "2006-10-20                                                     ...           \n",
       "2006-10-23                                                     ...           \n",
       "2006-10-24  phelps dodge net double but off wall st . targ...  ...           \n",
       "2006-10-25  gm signal it be closer to labor deal with delp...  ...           \n",
       "2006-10-26         u . s . sept new home sale durables rise .  ...           \n",
       "...                                                       ...  ...  ..  ..   \n",
       "2012-06-17  irish asset sale win t be impact by euro crisi...  ...           \n",
       "2012-06-18  gm say to report xxxth facility go landfill fr...  ...           \n",
       "2012-06-19  nestle shrug off low spain demand a danone cut...  ...           \n",
       "2012-06-20  euro erase xxx drop v yen trade little change ...  ...           \n",
       "2012-06-21  analysis texas refinery crisis rattle saudi oi...  ...           \n",
       "\n",
       "           124 125 126 127 128 129 130 131  \n",
       "date                                        \n",
       "2006-10-20                                  \n",
       "2006-10-23                                  \n",
       "2006-10-24                                  \n",
       "2006-10-25                                  \n",
       "2006-10-26                                  \n",
       "...         ..  ..  ..  ..  ..  ..  ..  ..  \n",
       "2012-06-17                                  \n",
       "2012-06-18                                  \n",
       "2012-06-19                                  \n",
       "2012-06-20                                  \n",
       "2012-06-21                                  \n",
       "\n",
       "[1976 rows x 132 columns]"
      ]
     },
     "execution_count": 7,
     "metadata": {},
     "output_type": "execute_result"
    }
   ],
   "source": [
    "x_train"
   ]
  },
  {
   "cell_type": "code",
   "execution_count": 6,
   "metadata": {},
   "outputs": [
    {
     "data": {
      "text/plain": [
       "((1976, 132), (1428, 1))"
      ]
     },
     "execution_count": 6,
     "metadata": {},
     "output_type": "execute_result"
    }
   ],
   "source": [
    "x_train.shape, label.shape"
   ]
  },
  {
   "cell_type": "code",
   "execution_count": 8,
   "metadata": {},
   "outputs": [],
   "source": [
    "x_train_buffer = []\n",
    "label_buffer = []\n",
    "#batch_size = 32\n",
    "#k = batch_size * 20\n",
    "index = 0\n",
    "\n",
    "def __iter__(self):\n",
    "        return self\n",
    "\n",
    "def reset():\n",
    "    # self.source.seek(0)\n",
    "    # self.label.seek(0)\n",
    "    index = 0\n",
    "\n",
    "def __next__():\n",
    "    if end_of_data:\n",
    "        end_of_data = False\n",
    "        reset()\n",
    "        raise StopIteration\n"
   ]
  },
  {
   "cell_type": "code",
   "execution_count": 9,
   "metadata": {},
   "outputs": [],
   "source": [
    "assert len(x_train_buffer) == len(label_buffer), 'Buffer size mismatch!'"
   ]
  },
  {
   "cell_type": "code",
   "execution_count": 10,
   "metadata": {},
   "outputs": [
    {
     "name": "stdout",
     "output_type": "stream",
     "text": [
      "2006-11-27 '2006-11-27'\n",
      "2009-08-19 '2009-08-19'\n",
      "1428\n"
     ]
    }
   ],
   "source": [
    "count = 0\n",
    "for j, i in enumerate(label.index.values[index:]):\n",
    "    count+=1\n",
    "    #print(i) #20061020-20090507\n",
    "    try:\n",
    "        #print(x_train.loc[i].values)\n",
    "        ss = list(filter(lambda x: len(x.split()) > 0, x_train.loc[i].values))\n",
    "        ll = label.loc[i].values\n",
    "    except KeyError as e:  # out of length\n",
    "            print(i + ' ' + str(e))\n",
    "            continue\n",
    "            \n",
    "    x_train_buffer.append(ss)\n",
    "    label_buffer.append(int(ll))\n",
    "if 'j' in locals():\n",
    "    index += j + 1\n",
    "#print(ss)\n",
    "print(count) #index:index+k-->640 = 32 *20; index: 1428(2012-06-21)"
   ]
  },
  {
   "cell_type": "code",
   "execution_count": 11,
   "metadata": {},
   "outputs": [
    {
     "data": {
      "text/plain": [
       "(1426, 1426)"
      ]
     },
     "execution_count": 11,
     "metadata": {},
     "output_type": "execute_result"
    }
   ],
   "source": [
    "len(x_train_buffer),len(label_buffer)"
   ]
  },
  {
   "cell_type": "code",
   "execution_count": 12,
   "metadata": {},
   "outputs": [],
   "source": [
    "assert len(x_train_buffer) == len(label_buffer), 'Buffer size mismatch!'"
   ]
  },
  {
   "cell_type": "code",
   "execution_count": 13,
   "metadata": {},
   "outputs": [
    {
     "data": {
      "text/plain": [
       "array([   0,  779,  810, ..., 1247, 1236, 1235])"
      ]
     },
     "execution_count": 13,
     "metadata": {},
     "output_type": "execute_result"
    }
   ],
   "source": [
    "import numpy\n",
    "\n",
    "tlen = numpy.array([len(t) for t in x_train_buffer])  # len(t)-->每天的新闻条数\n",
    "tidx = tlen.argsort() #返回索引值，数组值从小到大排列之后的索引值\n",
    "tidx"
   ]
  },
  {
   "cell_type": "code",
   "execution_count": 29,
   "metadata": {},
   "outputs": [
    {
     "data": {
      "text/plain": [
       "1426"
      ]
     },
     "execution_count": 29,
     "metadata": {},
     "output_type": "execute_result"
    }
   ],
   "source": [
    "len(tlen)"
   ]
  },
  {
   "cell_type": "code",
   "execution_count": 28,
   "metadata": {},
   "outputs": [
    {
     "name": "stdout",
     "output_type": "stream",
     "text": [
      "[18, 11, 8, 12, 21, 19, 10, 44, 16, 33, 39, 38, 1, 15, 2, 32, 22, 29, 3, 31, 20, 0, 9, 42, 13, 4, 17, 36, 26, 7, 43, 25, 27, 37, 30, 28, 5, 24, 34, 40, 23, 41, 6, 35, 14]\n"
     ]
    }
   ],
   "source": [
    "import math\n",
    "import random\n",
    "\n",
    "batch_size = 32\n",
    "tindex = []\n",
    "##Todo shuffle\n",
    "small_index = list(range(int(math.ceil(len(tidx) * 1. /batch_size)))) #len(tidx)=1425 / 32 = 44.53125    math.ceil(44.53125)=45\n",
    "#math.ceil-->传回大于等于所给数字的最小整数，eg math.ceil(0.95)=1\n",
    "#print(small_index)   - [0,1,...,44]\n",
    "random.shuffle(small_index)\n",
    "print(small_index)\n",
    "# len(tidx)#1425"
   ]
  },
  {
   "cell_type": "code",
   "execution_count": 30,
   "metadata": {},
   "outputs": [
    {
     "data": {
      "text/plain": [
       "1426"
      ]
     },
     "execution_count": 30,
     "metadata": {},
     "output_type": "execute_result"
    }
   ],
   "source": [
    "#can only run once!!!有extend!!\n",
    "\n",
    "for i in small_index:\n",
    "    #print(i)\n",
    "    if (i + 1) * batch_size > len(tidx):\n",
    "        tindex.extend(tidx[i * batch_size:])\n",
    "    else:\n",
    "        tindex.extend(tidx[i * batch_size:(i + 1) * batch_size])\n",
    "tidx = tindex\n",
    "len(tidx)#1425"
   ]
  },
  {
   "cell_type": "code",
   "execution_count": 31,
   "metadata": {},
   "outputs": [],
   "source": [
    "_sbuf = [x_train_buffer[i] for i in tidx]\n",
    "_lbuf = [label_buffer[i] for i in tidx]\n",
    "x_train_buffer = _sbuf\n",
    "label_buffer = _lbuf\n",
    "##TODO delete useless\n",
    "del _sbuf, _lbuf\n"
   ]
  },
  {
   "cell_type": "code",
   "execution_count": 32,
   "metadata": {},
   "outputs": [],
   "source": [
    "temp = []\n",
    "for i in (x_train_buffer):\n",
    "    temp.append([j.strip().split() for j in i])  # split words and save to array\n",
    "    \n",
    "x_train_buffer = temp\n",
    "##TODO delete useless\n",
    "del temp"
   ]
  },
  {
   "cell_type": "code",
   "execution_count": 33,
   "metadata": {},
   "outputs": [
    {
     "data": {
      "text/plain": [
       "[['infineon',\n",
       "  'up',\n",
       "  'on',\n",
       "  'talk',\n",
       "  'of',\n",
       "  'interest',\n",
       "  'from',\n",
       "  'samsung',\n",
       "  'intel',\n",
       "  '.'],\n",
       " ['medtronic', 'to', 'cut', 'about', 'xxx', 'job', '.'],\n",
       " ['blackrock',\n",
       "  'buying',\n",
       "  'ubs',\n",
       "  'subprime',\n",
       "  'debt',\n",
       "  'for',\n",
       "  '15',\n",
       "  'billion',\n",
       "  'ft',\n",
       "  '.'],\n",
       " ['ubs', 'to', 'cut', 'xxx', 'job', 'have', 'blackrock', 'debt', 'deal', '.'],\n",
       " ['pfizer', 'drop', 'glaucoma', 'drug', 'nicox', 'share', 'slump', '.'],\n",
       " ['microsoft', 'exec', 'say', 'at', 'end', 'of', 'road', 'on', 'yahoo', '.'],\n",
       " ['yahoo', 'ceo', 'open', 'to', 'more', 'microsoft', 'talk', '.'],\n",
       " ['qwest', 'post', 'low', 'quarter', 'profit', '.'],\n",
       " ['without', 'yahoo', 'microsoft', 'remain', 'alone', 'on', 'the', 'web', '.'],\n",
       " ['microsoft', 'gate', 'not', 'rule', 'out', 'deal', 'post', 'yahoo', '.']]"
      ]
     },
     "execution_count": 33,
     "metadata": {},
     "output_type": "execute_result"
    }
   ],
   "source": [
    "x_train_buffer[0]"
   ]
  },
  {
   "cell_type": "code",
   "execution_count": 34,
   "metadata": {},
   "outputs": [
    {
     "name": "stdout",
     "output_type": "stream",
     "text": [
      "vocabulary size:7283\n"
     ]
    }
   ],
   "source": [
    "import pickle as pkl\n",
    "\n",
    "#vocabulary size:24759\n",
    "#n_words = 24759 #7634 only train-->from vocab_cased_title.pickle'\n",
    "\n",
    "#processing the vocab cases for title\n",
    "#before dropping the words that occurs less than 5 times 23383\n",
    "#Dict size 7283\n",
    "#Done\n",
    "\n",
    "with open('news_set/vocab_cased_new_title.pickle', 'rb') as f:\n",
    "          dict = pkl.load(f)\n",
    "        \n",
    "#print(dict[])\n",
    "word_index = max(list(dict.values()))\n",
    "vocab_size = word_index+1\n",
    "print('vocabulary size:{}'.format(vocab_size))  #vocabulary size:24759"
   ]
  },
  {
   "cell_type": "code",
   "execution_count": 35,
   "metadata": {},
   "outputs": [],
   "source": [
    "########## 有pop(0),只能运行一次！！\n",
    "sour = []\n",
    "lab = []\n",
    "sour_ori = []\n",
    "\n",
    "\n",
    "try:\n",
    "    while True:\n",
    "        source_temp = []\n",
    "        try:\n",
    "            j = x_train_buffer.pop(0)  # 1 day before\n",
    "            sour_ori.append(j)\n",
    "        except IndexError:\n",
    "            break\n",
    "            \n",
    "        for i in j:  # deal with 1 day before\n",
    "            sss = [dict[w] if w in dict else 1 for w in i]  # 1 means _UNK_\n",
    "            if vocab_size > 0:\n",
    "                sss = [w if w < vocab_size else 1 for w in sss]  # 1 means _UNK_\n",
    "            source_temp.append(sss)\n",
    "        \n",
    "        # read label\n",
    "        ll1 = label_buffer.pop(0)\n",
    "        sour.append(source_temp)\n",
    "        lab.append(ll1)\n",
    "\n",
    "except IOError:\n",
    "    end_of_data = True"
   ]
  },
  {
   "cell_type": "code",
   "execution_count": 48,
   "metadata": {},
   "outputs": [
    {
     "data": {
      "text/plain": [
       "22"
      ]
     },
     "execution_count": 48,
     "metadata": {},
     "output_type": "execute_result"
    }
   ],
   "source": [
    "#sour[0],sour_ori[0]\n",
    "changdu = []   #training set里所有新闻的长度 < 22\n",
    "for jj in range(len(sour)):\n",
    "    for kk in range(len(sour[jj])):\n",
    "        changdu.append(len(sour[jj][kk]))\n",
    "\n",
    "#changdu.index(max(changdu))\n",
    "#len(changdu)  #42529  --> 46136减去了部分weekends的新闻\n",
    "#max(changdu)  22"
   ]
  },
  {
   "cell_type": "code",
   "execution_count": 41,
   "metadata": {},
   "outputs": [
    {
     "name": "stdout",
     "output_type": "stream",
     "text": [
      "[10, 10, 10, 10, 10, 10, 10, 10, 10, 10, 10, 10, 10, 10, 10, 10, 10, 10, 10, 10, 10, 10, 10, 10, 10, 10, 10, 10, 10, 11, 11, 11, 8, 8, 8, 8, 8, 8, 8, 8, 8, 8, 8, 8, 8, 8, 8, 8, 8, 8, 8, 8, 8, 8, 8, 8, 8, 8, 8, 8, 8, 8, 8, 8, 7, 7, 7, 7, 7, 7, 7, 7, 7, 7, 7, 7, 7, 7, 7, 7, 7, 7, 7, 7, 7, 7, 7, 7, 7, 7, 7, 7, 7, 7, 7, 7, 8, 8, 8, 8, 8, 8, 8, 8, 8, 8, 8, 8, 8, 8, 8, 8, 8, 8, 8, 8, 8, 8, 8, 8, 8, 8, 8, 8, 8, 8, 8, 8, 12, 12, 12, 12, 12, 12, 12, 12, 12, 12, 12, 12, 12, 12, 12, 12, 12, 12, 12, 12, 12, 12, 12, 12, 12, 12, 12, 12, 12, 12, 12, 12, 11, 11, 11, 11, 11, 11, 11, 11, 11, 11, 11, 11, 11, 11, 11, 11, 11, 11, 11, 11, 11, 11, 11, 11, 11, 11, 11, 11, 11, 11, 11, 11, 7, 7, 7, 7, 7, 7, 7, 7, 7, 7, 7, 7, 7, 7, 7, 7, 7, 7, 8, 8, 8, 8, 8, 8, 8, 8, 8, 8, 8, 8, 8, 8, 109, 110, 111, 111, 111, 112, 112, 113, 114, 115, 116, 117, 121, 125, 125, 125, 132, 132, 9, 9, 9, 10, 10, 10, 10, 10, 10, 10, 10, 10, 10, 10, 10, 10, 10, 10, 10, 10, 10, 10, 10, 10, 10, 10, 10, 10, 10, 10, 10, 10, 57, 57, 57, 57, 57, 57, 58, 58, 58, 58, 58, 58, 58, 59, 59, 59, 59, 59, 59, 59, 60, 60, 60, 60, 60, 60, 60, 61, 61, 61, 61, 61, 78, 78, 78, 78, 78, 78, 78, 78, 78, 78, 79, 79, 79, 79, 79, 79, 79, 79, 79, 80, 80, 80, 80, 80, 80, 80, 80, 80, 80, 81, 81, 81, 74, 74, 74, 74, 74, 74, 75, 75, 75, 75, 75, 75, 76, 76, 76, 76, 76, 76, 76, 76, 76, 76, 76, 77, 77, 77, 77, 77, 77, 78, 78, 78, 3, 3, 3, 3, 3, 3, 3, 3, 3, 3, 3, 3, 3, 4, 4, 4, 4, 4, 4, 4, 4, 4, 4, 4, 4, 4, 4, 4, 4, 4, 4, 4, 9, 9, 9, 9, 9, 9, 9, 9, 9, 9, 9, 9, 9, 9, 9, 9, 9, 9, 9, 9, 9, 9, 9, 9, 9, 9, 9, 9, 9, 9, 9, 9, 4, 4, 4, 4, 4, 4, 4, 4, 4, 4, 4, 4, 4, 4, 4, 4, 4, 4, 5, 5, 5, 5, 5, 5, 5, 5, 5, 5, 5, 5, 5, 5, 52, 52, 52, 52, 53, 53, 53, 53, 53, 53, 53, 54, 54, 54, 54, 54, 54, 54, 54, 54, 54, 55, 55, 55, 55, 56, 56, 56, 56, 56, 57, 57, 12, 12, 12, 12, 12, 12, 12, 12, 12, 12, 12, 12, 12, 12, 12, 12, 12, 12, 12, 12, 12, 12, 13, 13, 13, 13, 13, 13, 13, 13, 13, 13, 18, 18, 18, 18, 18, 18, 19, 19, 19, 19, 19, 19, 19, 19, 19, 19, 20, 20, 20, 20, 20, 20, 20, 20, 20, 21, 21, 21, 21, 21, 21, 21, 5, 5, 5, 5, 5, 5, 5, 5, 5, 5, 5, 5, 5, 5, 5, 5, 5, 5, 5, 5, 5, 5, 5, 5, 5, 5, 5, 5, 5, 5, 5, 5, 33, 33, 34, 34, 35, 38, 40, 41, 42, 43, 45, 45, 45, 45, 46, 46, 46, 47, 48, 49, 49, 49, 50, 50, 50, 50, 51, 51, 51, 52, 52, 52, 11, 11, 11, 11, 11, 11, 11, 11, 11, 11, 11, 11, 11, 11, 11, 11, 11, 11, 11, 11, 11, 11, 11, 11, 11, 11, 11, 11, 11, 11, 11, 12, 1, 1, 1, 1, 2, 2, 2, 2, 2, 2, 2, 2, 2, 2, 3, 3, 3, 3, 3, 3, 3, 3, 3, 3, 3, 3, 3, 3, 3, 3, 3, 3, 7, 7, 7, 7, 7, 7, 7, 7, 7, 7, 7, 7, 7, 7, 7, 7, 7, 7, 7, 7, 7, 7, 7, 7, 7, 7, 7, 7, 7, 7, 7, 7, 90, 90, 90, 90, 90, 91, 91, 91, 91, 92, 92, 92, 92, 92, 92, 93, 93, 93, 93, 94, 94, 95, 95, 95, 95, 95, 96, 96, 97, 97, 97, 97, 8, 8, 8, 8, 8, 8, 8, 8, 8, 8, 8, 8, 8, 8, 8, 9, 9, 9, 9, 9, 9, 9, 9, 9, 9, 9, 9, 9, 9, 9, 9, 9, 5, 5, 5, 5, 5, 5, 5, 5, 5, 5, 5, 5, 5, 5, 5, 5, 5, 5, 5, 5, 5, 5, 5, 5, 5, 5, 5, 6, 6, 6, 6, 6, 10, 10, 10, 10, 10, 10, 10, 10, 10, 10, 10, 10, 10, 10, 10, 10, 10, 10, 10, 10, 10, 10, 10, 10, 10, 10, 10, 10, 10, 10, 10, 10, 68, 68, 68, 69, 69, 69, 69, 69, 69, 69, 69, 69, 69, 70, 70, 70, 70, 70, 70, 70, 70, 70, 70, 70, 71, 71, 71, 71, 71, 71, 71, 71, 15, 15, 15, 15, 15, 15, 15, 15, 15, 15, 15, 15, 15, 15, 15, 15, 15, 15, 15, 15, 15, 15, 16, 16, 16, 16, 16, 16, 16, 16, 16, 16, 6, 6, 6, 6, 6, 6, 6, 6, 6, 6, 6, 6, 6, 6, 6, 6, 6, 6, 6, 6, 7, 7, 7, 7, 7, 7, 7, 7, 7, 7, 7, 7, 98, 98, 98, 98, 99, 99, 99, 99, 100, 100, 101, 101, 101, 101, 101, 101, 102, 102, 102, 103, 103, 103, 103, 104, 105, 105, 105, 107, 107, 108, 108, 109, 14, 14, 14, 14, 14, 14, 14, 14, 14, 14, 14, 14, 14, 14, 14, 14, 14, 14, 14, 14, 14, 14, 14, 14, 14, 14, 14, 14, 14, 15, 15, 15, 16, 16, 16, 16, 16, 16, 16, 16, 16, 16, 16, 16, 16, 16, 16, 16, 16, 16, 16, 16, 16, 16, 16, 16, 16, 16, 16, 16, 16, 16, 16, 17, 72, 72, 72, 72, 72, 72, 72, 72, 72, 72, 72, 72, 72, 73, 73, 73, 73, 73, 73, 73, 74, 74, 74, 74, 74, 74, 74, 74, 74, 74, 74, 74, 21, 21, 21, 21, 21, 21, 21, 22, 22, 22, 22, 23, 23, 23, 23, 23, 23, 24, 25, 25, 25, 25, 25, 26, 27, 29, 30, 30, 30, 32, 32, 33, 17, 17, 17, 17, 17, 17, 17, 17, 17, 17, 17, 17, 17, 17, 17, 18, 18, 18, 18, 18, 18, 18, 18, 18, 18, 18, 18, 18, 18, 18, 18, 18, 6, 6, 6, 6, 6, 6, 6, 6, 6, 6, 6, 6, 6, 6, 6, 6, 6, 6, 6, 6, 6, 6, 6, 6, 6, 6, 6, 6, 6, 6, 6, 6, 13, 13, 13, 13, 13, 13, 13, 13, 13, 13, 13, 13, 13, 13, 13, 13, 13, 13, 13, 13, 13, 14, 14, 14, 14, 14, 14, 14, 14, 14, 14, 14, 61, 61, 61, 61, 62, 62, 62, 62, 62, 62, 62, 63, 63, 63, 63, 63, 63, 63, 63, 63, 63, 63, 64, 64, 64, 64, 64, 64, 64, 64, 64, 64, 81, 81, 81, 81, 81, 82, 82, 82, 82, 82, 82, 82, 82, 82, 82, 82, 83, 83, 83, 83, 83, 84, 84, 84, 84, 84, 84, 84, 84, 85, 85, 85, 13, 13, 13, 13, 13, 13, 13, 13, 13, 13, 13, 13, 13, 13, 13, 13, 13, 13, 13, 13, 13, 13, 13, 13, 13, 13, 13, 13, 13, 13, 13, 13, 85, 85, 85, 85, 85, 85, 85, 86, 86, 86, 86, 86, 86, 86, 87, 87, 87, 88, 88, 88, 88, 88, 88, 89, 89, 89, 89, 89, 89, 90, 90, 90, 6, 6, 6, 6, 6, 6, 6, 6, 6, 6, 6, 6, 6, 6, 6, 6, 6, 6, 6, 6, 6, 6, 6, 6, 6, 6, 6, 6, 6, 6, 6, 6, 65, 65, 65, 65, 65, 65, 65, 65, 65, 66, 66, 66, 66, 66, 66, 66, 66, 66, 66, 67, 67, 67, 67, 67, 67, 67, 67, 67, 67, 67, 67, 68, 9, 9, 9, 9, 9, 9, 9, 9, 9, 9, 9, 9, 9, 9, 9, 9, 9, 9, 9, 9, 9, 9, 9, 9, 9, 9, 9, 9, 9, 9, 9, 9]\n"
     ]
    },
    {
     "data": {
      "text/plain": [
       "132"
      ]
     },
     "execution_count": 41,
     "metadata": {},
     "output_type": "execute_result"
    }
   ],
   "source": [
    "####################################################@@@@@@@@@@@@@@@@@@@@@@@@@@@@@@@@@@@@@@@@@@@@@@@@@@  News numbers in one day  --> statistics\n",
    "#maxlen_titles = 92  #--> 所有新闻条数中每天最多有92 个字\n",
    "#maxlen_titles = 22 #--> 所有新闻条数中每天最多有92 条\n",
    "counter = []\n",
    "for i in range(len(sour)):\n",
    "    counter.append(len(sour[i]))  #每天的新闻条数\n",
    "print(counter)  \n",
    "#len(counter) #1426个date\n",
    "#maxlen__x = counter.index(max(counter))  index[432]maxsequence=104条\n",
    "maxlen__x = max(counter)\n",
    "maxlen__x  ##一天的新闻条数 -- 一天最多有104条"
   ]
  },
  {
   "cell_type": "code",
   "execution_count": 49,
   "metadata": {},
   "outputs": [
    {
     "data": {
      "text/plain": [
       "count    1426.000000\n",
       "mean       29.823983\n",
       "std        31.665697\n",
       "min         1.000000\n",
       "25%         8.000000\n",
       "50%        12.000000\n",
       "75%        58.750000\n",
       "max       132.000000\n",
       "dtype: float64"
      ]
     },
     "execution_count": 49,
     "metadata": {},
     "output_type": "execute_result"
    }
   ],
   "source": [
    "pd.Series(counter).describe()"
   ]
  },
  {
   "cell_type": "code",
   "execution_count": 52,
   "metadata": {},
   "outputs": [
    {
     "data": {
      "image/png": "[encoded data removed]",
      "text/plain": [
       "<Figure size 432x288 with 1 Axes>"
      ]
     },
     "metadata": {
      "needs_background": "light"
     },
     "output_type": "display_data"
    }
   ],
   "source": [
    "import seaborn as sns\n",
    "import matplotlib.pyplot as plt\n",
    "\n",
    "sns.distplot(counter)#, bins=10)\n",
    "plt.show()"
   ]
  },
  {
   "cell_type": "code",
   "execution_count": 59,
   "metadata": {},
   "outputs": [],
   "source": [
    "#"
   ]
  },
  {
   "cell_type": "code",
   "execution_count": null,
   "metadata": {},
   "outputs": [],
   "source": []
  }
 ],
 "metadata": {
  "kernelspec": {
   "display_name": "Python 3",
   "language": "python",
   "name": "python3"
  },
  "language_info": {
   "codemirror_mode": {
    "name": "ipython",
    "version": 3
   },
   "file_extension": ".py",
   "mimetype": "text/x-python",
   "name": "python",
   "nbconvert_exporter": "python",
   "pygments_lexer": "ipython3",
   "version": "3.7.6"
  }
 },
 "nbformat": 4,
 "nbformat_minor": 4
}
