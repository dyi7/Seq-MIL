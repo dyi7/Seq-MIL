{
 "cells": [
  {
   "cell_type": "code",
   "execution_count": 1,
   "metadata": {},
   "outputs": [],
   "source": [
    "import matplotlib.pyplot as plt\n",
    "import pickle"
   ]
  },
  {
   "cell_type": "code",
   "execution_count": 2,
   "metadata": {},
   "outputs": [],
   "source": [
    "def main():\n",
    "    #source1 = \"300D6B_video_LSTM_\"\n",
    "    #source2 = \"300D6B_grocery_LSTM_\"\n",
    "    #source3 = \"300D6B_digital_music_LSTM_\"\n",
    "    #source4 = \"300D6B_clothing_LSTM_\"\n",
    "    #source5 = \"300D6B_electronics_LSTM_\"\n",
    "\n",
    "\n",
    "    with open(\"results/MIL/important_plot.pickle\",\n",
    "              'rb') as handle:\n",
    "        diction = pickle.load(handle)\n",
    "    for key, value in diction.items():\n",
    "        print(key)\n",
    "        #print(len(value[0]))\n",
    "    ##TODO show the training accuracy\n",
    "    plt.plot(diction['training'])\n",
    "    plt.title('training loss')\n",
    "    plt.ylabel('loss')\n",
    "    plt.xlabel('per batch')\n",
    "    plt.legend(['training'], loc='upper left')\n",
    "    #plt.legend(['50D', '100D', '200D', '300D'], loc='upper left')\n",
    "    plt.show()\n",
    "    \n",
    "    plt.plot(diction['training_ep'])\n",
    "    plt.title('training loss')\n",
    "    plt.ylabel('loss')\n",
    "    plt.xlabel('per epoch')\n",
    "    plt.legend(['training'], loc='upper left')\n",
    "    #plt.legend(['50D', '100D', '200D', '300D'], loc='upper left')\n",
    "    plt.show()\n",
    "\n",
    "    ##TODO show the testing accuracy\n",
    "    plt.plot(diction['validate'])\n",
    "    plt.plot(diction['testing'])\n",
    "    plt.title('validate and testing loss')\n",
    "    plt.ylabel('loss')\n",
    "    plt.xlabel('per batch')\n",
    "    plt.legend(['validate', 'testing'], loc='upper left')\n",
    "    plt.show()\n",
    "\n",
    "    plt.plot(diction['validate_ep'])\n",
    "    plt.plot(diction['testing_ep'])\n",
    "    plt.title('validate and testing loss')\n",
    "    plt.ylabel('loss')\n",
    "    plt.xlabel('per epoch')\n",
    "    plt.legend(['validate', 'testing'], loc='upper left')\n",
    "    plt.show()\n",
    "    '''\n",
    "    ##TODO show the training loss\n",
    "    plt.plot(diction[source1 + 'loss'])\n",
    "    plt.plot(diction[source2 + 'loss'])\n",
    "    plt.plot(diction[source3 + 'loss'])\n",
    "    plt.plot(diction[source4 + 'loss'])\n",
    "    plt.plot(diction[source5 + 'loss'])\n",
    "    plt.title('testing loss')\n",
    "    plt.ylabel('loss')\n",
    "    plt.xlabel('epoch')\n",
    "    #plt.legend(['50D', '100D', '200D', '300D'], loc='upper left')\n",
    "    plt.legend(['video', 'grocery', 'digital_music', 'clothing','electronics'], loc='upper left')\n",
    "    plt.show()\n",
    "    ##TODO show the testing loss\n",
    "    plt.plot(diction[source1 + 'val_loss'])\n",
    "    plt.plot(diction[source2 + 'val_loss'])\n",
    "    plt.plot(diction[source3 + 'val_loss'])\n",
    "    plt.plot(diction[source4 + 'val_loss'])\n",
    "    plt.plot(diction[source5 + 'val_loss'])\n",
    "    plt.title('testing loss')\n",
    "    plt.ylabel('loss')\n",
    "    plt.xlabel('epoch')\n",
    "    #plt.legend(['50D', '100D', '200D', '300D'], loc='upper left')\n",
    "    plt.legend(['video', 'grocery', 'digital_music', 'clothing','electronics'], loc='upper left')\n",
    "    plt.show()\n",
    "    # summarize history for loss\n",
    "    '''"
   ]
  },
  {
   "cell_type": "code",
   "execution_count": 3,
   "metadata": {},
   "outputs": [
    {
     "ename": "FileNotFoundError",
     "evalue": "[Errno 2] No such file or directory: 'results/MIL/important_plot.pickle'",
     "output_type": "error",
     "traceback": [
      "\u001b[0;31m---------------------------------------------------------------------------\u001b[0m",
      "\u001b[0;31mFileNotFoundError\u001b[0m                         Traceback (most recent call last)",
      "\u001b[0;32m<ipython-input-3-c7bc734e5e35>\u001b[0m in \u001b[0;36m<module>\u001b[0;34m\u001b[0m\n\u001b[1;32m      1\u001b[0m \u001b[0;32mif\u001b[0m \u001b[0m__name__\u001b[0m \u001b[0;34m==\u001b[0m \u001b[0;34m'__main__'\u001b[0m\u001b[0;34m:\u001b[0m\u001b[0;34m\u001b[0m\u001b[0;34m\u001b[0m\u001b[0m\n\u001b[0;32m----> 2\u001b[0;31m     \u001b[0mmain\u001b[0m\u001b[0;34m(\u001b[0m\u001b[0;34m)\u001b[0m\u001b[0;34m\u001b[0m\u001b[0;34m\u001b[0m\u001b[0m\n\u001b[0m",
      "\u001b[0;32m<ipython-input-2-cf531c9cbfd8>\u001b[0m in \u001b[0;36mmain\u001b[0;34m()\u001b[0m\n\u001b[1;32m      8\u001b[0m \u001b[0;34m\u001b[0m\u001b[0m\n\u001b[1;32m      9\u001b[0m     with open(\"results/MIL/important_plot.pickle\",\n\u001b[0;32m---> 10\u001b[0;31m               'rb') as handle:\n\u001b[0m\u001b[1;32m     11\u001b[0m         \u001b[0mdiction\u001b[0m \u001b[0;34m=\u001b[0m \u001b[0mpickle\u001b[0m\u001b[0;34m.\u001b[0m\u001b[0mload\u001b[0m\u001b[0;34m(\u001b[0m\u001b[0mhandle\u001b[0m\u001b[0;34m)\u001b[0m\u001b[0;34m\u001b[0m\u001b[0;34m\u001b[0m\u001b[0m\n\u001b[1;32m     12\u001b[0m     \u001b[0;32mfor\u001b[0m \u001b[0mkey\u001b[0m\u001b[0;34m,\u001b[0m \u001b[0mvalue\u001b[0m \u001b[0;32min\u001b[0m \u001b[0mdiction\u001b[0m\u001b[0;34m.\u001b[0m\u001b[0mitems\u001b[0m\u001b[0;34m(\u001b[0m\u001b[0;34m)\u001b[0m\u001b[0;34m:\u001b[0m\u001b[0;34m\u001b[0m\u001b[0;34m\u001b[0m\u001b[0m\n",
      "\u001b[0;31mFileNotFoundError\u001b[0m: [Errno 2] No such file or directory: 'results/MIL/important_plot.pickle'"
     ]
    }
   ],
   "source": [
    "if __name__ == '__main__':\n",
    "    main()"
   ]
  },
  {
   "cell_type": "code",
   "execution_count": null,
   "metadata": {},
   "outputs": [],
   "source": []
  },
  {
   "cell_type": "code",
   "execution_count": null,
   "metadata": {},
   "outputs": [],
   "source": []
  }
 ],
 "metadata": {
  "kernelspec": {
   "display_name": "Python 3",
   "language": "python",
   "name": "python3"
  },
  "language_info": {
   "codemirror_mode": {
    "name": "ipython",
    "version": 3
   },
   "file_extension": ".py",
   "mimetype": "text/x-python",
   "name": "python",
   "nbconvert_exporter": "python",
   "pygments_lexer": "ipython3",
   "version": "3.7.6"
  }
 },
 "nbformat": 4,
 "nbformat_minor": 4
}
