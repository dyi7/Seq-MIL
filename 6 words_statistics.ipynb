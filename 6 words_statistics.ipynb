{
 "cells": [
  {
   "cell_type": "code",
   "execution_count": 1,
   "metadata": {},
   "outputs": [
    {
     "name": "stderr",
     "output_type": "stream",
     "text": [
      "/userhome/35/yqdeng/anaconda3/lib/python3.7/site-packages/tensorflow/python/framework/dtypes.py:516: FutureWarning: Passing (type, 1) or '1type' as a synonym of type is deprecated; in a future version of numpy, it will be understood as (type, (1,)) / '(1,)type'.\n",
      "  _np_qint8 = np.dtype([(\"qint8\", np.int8, 1)])\n",
      "/userhome/35/yqdeng/anaconda3/lib/python3.7/site-packages/tensorflow/python/framework/dtypes.py:517: FutureWarning: Passing (type, 1) or '1type' as a synonym of type is deprecated; in a future version of numpy, it will be understood as (type, (1,)) / '(1,)type'.\n",
      "  _np_quint8 = np.dtype([(\"quint8\", np.uint8, 1)])\n",
      "/userhome/35/yqdeng/anaconda3/lib/python3.7/site-packages/tensorflow/python/framework/dtypes.py:518: FutureWarning: Passing (type, 1) or '1type' as a synonym of type is deprecated; in a future version of numpy, it will be understood as (type, (1,)) / '(1,)type'.\n",
      "  _np_qint16 = np.dtype([(\"qint16\", np.int16, 1)])\n",
      "/userhome/35/yqdeng/anaconda3/lib/python3.7/site-packages/tensorflow/python/framework/dtypes.py:519: FutureWarning: Passing (type, 1) or '1type' as a synonym of type is deprecated; in a future version of numpy, it will be understood as (type, (1,)) / '(1,)type'.\n",
      "  _np_quint16 = np.dtype([(\"quint16\", np.uint16, 1)])\n",
      "/userhome/35/yqdeng/anaconda3/lib/python3.7/site-packages/tensorflow/python/framework/dtypes.py:520: FutureWarning: Passing (type, 1) or '1type' as a synonym of type is deprecated; in a future version of numpy, it will be understood as (type, (1,)) / '(1,)type'.\n",
      "  _np_qint32 = np.dtype([(\"qint32\", np.int32, 1)])\n",
      "/userhome/35/yqdeng/anaconda3/lib/python3.7/site-packages/tensorflow/python/framework/dtypes.py:525: FutureWarning: Passing (type, 1) or '1type' as a synonym of type is deprecated; in a future version of numpy, it will be understood as (type, (1,)) / '(1,)type'.\n",
      "  np_resource = np.dtype([(\"resource\", np.ubyte, 1)])\n",
      "/userhome/35/yqdeng/anaconda3/lib/python3.7/site-packages/tensorboard/compat/tensorflow_stub/dtypes.py:541: FutureWarning: Passing (type, 1) or '1type' as a synonym of type is deprecated; in a future version of numpy, it will be understood as (type, (1,)) / '(1,)type'.\n",
      "  _np_qint8 = np.dtype([(\"qint8\", np.int8, 1)])\n",
      "/userhome/35/yqdeng/anaconda3/lib/python3.7/site-packages/tensorboard/compat/tensorflow_stub/dtypes.py:542: FutureWarning: Passing (type, 1) or '1type' as a synonym of type is deprecated; in a future version of numpy, it will be understood as (type, (1,)) / '(1,)type'.\n",
      "  _np_quint8 = np.dtype([(\"quint8\", np.uint8, 1)])\n",
      "/userhome/35/yqdeng/anaconda3/lib/python3.7/site-packages/tensorboard/compat/tensorflow_stub/dtypes.py:543: FutureWarning: Passing (type, 1) or '1type' as a synonym of type is deprecated; in a future version of numpy, it will be understood as (type, (1,)) / '(1,)type'.\n",
      "  _np_qint16 = np.dtype([(\"qint16\", np.int16, 1)])\n",
      "/userhome/35/yqdeng/anaconda3/lib/python3.7/site-packages/tensorboard/compat/tensorflow_stub/dtypes.py:544: FutureWarning: Passing (type, 1) or '1type' as a synonym of type is deprecated; in a future version of numpy, it will be understood as (type, (1,)) / '(1,)type'.\n",
      "  _np_quint16 = np.dtype([(\"quint16\", np.uint16, 1)])\n",
      "/userhome/35/yqdeng/anaconda3/lib/python3.7/site-packages/tensorboard/compat/tensorflow_stub/dtypes.py:545: FutureWarning: Passing (type, 1) or '1type' as a synonym of type is deprecated; in a future version of numpy, it will be understood as (type, (1,)) / '(1,)type'.\n",
      "  _np_qint32 = np.dtype([(\"qint32\", np.int32, 1)])\n",
      "/userhome/35/yqdeng/anaconda3/lib/python3.7/site-packages/tensorboard/compat/tensorflow_stub/dtypes.py:550: FutureWarning: Passing (type, 1) or '1type' as a synonym of type is deprecated; in a future version of numpy, it will be understood as (type, (1,)) / '(1,)type'.\n",
      "  np_resource = np.dtype([(\"resource\", np.ubyte, 1)])\n",
      "Using TensorFlow backend.\n"
     ]
    }
   ],
   "source": [
    "############# Updated on 25/11/2020\n",
    "import pandas as pd\n",
    "import numpy as np\n",
    "import tensorflow as tf\n",
    "import keras.backend as K"
   ]
  },
  {
   "cell_type": "code",
   "execution_count": 2,
   "metadata": {},
   "outputs": [],
   "source": [
    "df_train = pd.read_csv('news_set/train.csv')  #[date, title,abstract,article]\n",
    "df_valid = pd.read_csv(\"news_set/validate.csv\")\n",
    "df_test = pd.read_csv(\"news_set/test.csv\")"
   ]
  },
  {
   "cell_type": "code",
   "execution_count": 3,
   "metadata": {},
   "outputs": [],
   "source": [
    "s_train = df_train['title'].values\n",
    "s_valid = df_valid['title'].values\n",
    "s_test = df_test['title'].values"
   ]
  },
  {
   "cell_type": "code",
   "execution_count": 4,
   "metadata": {},
   "outputs": [
    {
     "data": {
      "text/plain": [
       "((46136,), (13284,), (12398,))"
      ]
     },
     "execution_count": 4,
     "metadata": {},
     "output_type": "execute_result"
    }
   ],
   "source": [
    "s_train.shape,s_valid.shape,s_test.shape"
   ]
  },
  {
   "cell_type": "code",
   "execution_count": 5,
   "metadata": {},
   "outputs": [
    {
     "data": {
      "text/plain": [
       "(71818,)"
      ]
     },
     "execution_count": 5,
     "metadata": {},
     "output_type": "execute_result"
    }
   ],
   "source": [
    "s = np.r_[s_train,s_valid,s_test]\n",
    "s.shape"
   ]
  },
  {
   "cell_type": "code",
   "execution_count": 6,
   "metadata": {},
   "outputs": [
    {
     "data": {
      "text/plain": [
       "count                                                 71818\n",
       "unique                                                71818\n",
       "top       aig in talk for complete government exit ceo s...\n",
       "freq                                                      1\n",
       "dtype: object"
      ]
     },
     "execution_count": 6,
     "metadata": {},
     "output_type": "execute_result"
    }
   ],
   "source": [
    "pd.Series(s).describe()"
   ]
  },
  {
   "cell_type": "code",
   "execution_count": null,
   "metadata": {},
   "outputs": [],
   "source": []
  },
  {
   "cell_type": "code",
   "execution_count": 2,
   "metadata": {},
   "outputs": [],
   "source": [
    "#x_train = pd.read_csv('news_set/train.csv').set_index('date')\n",
    "#x_train = x_train['title'].groupby(x_train.index).apply(list).apply(pd.Series).fillna('')\n",
    "#label = pd.read_csv('price_set/train(1020)_label.csv').set_index('Date')\n"
   ]
  },
  {
   "cell_type": "code",
   "execution_count": 3,
   "metadata": {},
   "outputs": [
    {
     "data": {
      "text/html": [
       "<div>\n",
       "<style scoped>\n",
       "    .dataframe tbody tr th:only-of-type {\n",
       "        vertical-align: middle;\n",
       "    }\n",
       "\n",
       "    .dataframe tbody tr th {\n",
       "        vertical-align: top;\n",
       "    }\n",
       "\n",
       "    .dataframe thead th {\n",
       "        text-align: right;\n",
       "    }\n",
       "</style>\n",
       "<table border=\"1\" class=\"dataframe\">\n",
       "  <thead>\n",
       "    <tr style=\"text-align: right;\">\n",
       "      <th></th>\n",
       "      <th>0</th>\n",
       "      <th>1</th>\n",
       "      <th>2</th>\n",
       "      <th>3</th>\n",
       "      <th>4</th>\n",
       "      <th>5</th>\n",
       "      <th>6</th>\n",
       "      <th>7</th>\n",
       "      <th>8</th>\n",
       "      <th>9</th>\n",
       "      <th>...</th>\n",
       "      <th>122</th>\n",
       "      <th>123</th>\n",
       "      <th>124</th>\n",
       "      <th>125</th>\n",
       "      <th>126</th>\n",
       "      <th>127</th>\n",
       "      <th>128</th>\n",
       "      <th>129</th>\n",
       "      <th>130</th>\n",
       "      <th>131</th>\n",
       "    </tr>\n",
       "    <tr>\n",
       "      <th>date</th>\n",
       "      <th></th>\n",
       "      <th></th>\n",
       "      <th></th>\n",
       "      <th></th>\n",
       "      <th></th>\n",
       "      <th></th>\n",
       "      <th></th>\n",
       "      <th></th>\n",
       "      <th></th>\n",
       "      <th></th>\n",
       "      <th></th>\n",
       "      <th></th>\n",
       "      <th></th>\n",
       "      <th></th>\n",
       "      <th></th>\n",
       "      <th></th>\n",
       "      <th></th>\n",
       "      <th></th>\n",
       "      <th></th>\n",
       "      <th></th>\n",
       "      <th></th>\n",
       "    </tr>\n",
       "  </thead>\n",
       "  <tbody>\n",
       "    <tr>\n",
       "      <th>2006-10-20</th>\n",
       "      <td>exxon mobil offer plan to end alaska dispute .</td>\n",
       "      <td></td>\n",
       "      <td></td>\n",
       "      <td></td>\n",
       "      <td></td>\n",
       "      <td></td>\n",
       "      <td></td>\n",
       "      <td></td>\n",
       "      <td></td>\n",
       "      <td></td>\n",
       "      <td>...</td>\n",
       "      <td></td>\n",
       "      <td></td>\n",
       "      <td></td>\n",
       "      <td></td>\n",
       "      <td></td>\n",
       "      <td></td>\n",
       "      <td></td>\n",
       "      <td></td>\n",
       "      <td></td>\n",
       "      <td></td>\n",
       "    </tr>\n",
       "    <tr>\n",
       "      <th>2006-10-23</th>\n",
       "      <td>royal dutch bid for shell canada low sharehold...</td>\n",
       "      <td>dow end at record high texas instrument off la...</td>\n",
       "      <td>shell look to buy out canada unit for c xxx bi...</td>\n",
       "      <td>ford be review all product brand ceo .</td>\n",
       "      <td>at t earnings beat expectation .</td>\n",
       "      <td>australia foster say confident on target .</td>\n",
       "      <td>ford win t sell ford credit .</td>\n",
       "      <td>kimberly clark see high cost this year .</td>\n",
       "      <td></td>\n",
       "      <td></td>\n",
       "      <td>...</td>\n",
       "      <td></td>\n",
       "      <td></td>\n",
       "      <td></td>\n",
       "      <td></td>\n",
       "      <td></td>\n",
       "      <td></td>\n",
       "      <td></td>\n",
       "      <td></td>\n",
       "      <td></td>\n",
       "      <td></td>\n",
       "    </tr>\n",
       "    <tr>\n",
       "      <th>2006-10-24</th>\n",
       "      <td>microsoft to start vista coupon plan for pc bu...</td>\n",
       "      <td>dst system post low q3 net profit .</td>\n",
       "      <td>u . s . tech stock fall on texas instrument ou...</td>\n",
       "      <td>ge wal mart shenzhen bank tie up on china cred...</td>\n",
       "      <td>lockheed martin ups forecast .</td>\n",
       "      <td>microsoft to defer xxx billion in sale to thir...</td>\n",
       "      <td>jim cramer bare escentuals allergan medicis av...</td>\n",
       "      <td>pepsico look to new product acquisition .</td>\n",
       "      <td>amazon profit beat expectation .</td>\n",
       "      <td>phelps dodge net double but off wall st . targ...</td>\n",
       "      <td>...</td>\n",
       "      <td></td>\n",
       "      <td></td>\n",
       "      <td></td>\n",
       "      <td></td>\n",
       "      <td></td>\n",
       "      <td></td>\n",
       "      <td></td>\n",
       "      <td></td>\n",
       "      <td></td>\n",
       "      <td></td>\n",
       "    </tr>\n",
       "    <tr>\n",
       "      <th>2006-10-25</th>\n",
       "      <td>boeing profit tops view but forecast disappoin...</td>\n",
       "      <td>u . s . stock gain exxon and altria jump .</td>\n",
       "      <td>amazon profit beat forecast .</td>\n",
       "      <td>honda q2 drop on finance loss yen lift f cast .</td>\n",
       "      <td>exist home sale fall for 6th straight month .</td>\n",
       "      <td>radioshack post quarter loss a cost rise .</td>\n",
       "      <td>altria net hit by spain conwood lifts reynolds .</td>\n",
       "      <td>stock see up slightly after amazon result .</td>\n",
       "      <td>altria promise january detail for kraft .</td>\n",
       "      <td>gm signal it be closer to labor deal with delp...</td>\n",
       "      <td>...</td>\n",
       "      <td></td>\n",
       "      <td></td>\n",
       "      <td></td>\n",
       "      <td></td>\n",
       "      <td></td>\n",
       "      <td></td>\n",
       "      <td></td>\n",
       "      <td></td>\n",
       "      <td></td>\n",
       "      <td></td>\n",
       "    </tr>\n",
       "    <tr>\n",
       "      <th>2006-10-26</th>\n",
       "      <td>analyst sound note of caution on gm cash burn .</td>\n",
       "      <td>comcast third quarter profit up on record sub ...</td>\n",
       "      <td>microsoft profit rise 11 percent .</td>\n",
       "      <td>instant view 4 microsoft post high result .</td>\n",
       "      <td>dow chemical earnings rise on strong sale .</td>\n",
       "      <td>stock gain on strong profit microsoft up late .</td>\n",
       "      <td>microsoft cfo say tender offer lower outlook .</td>\n",
       "      <td>exxon post huge profit on high price output .</td>\n",
       "      <td>gm post profit but recovery loom .</td>\n",
       "      <td>u . s . sept new home sale durables rise .</td>\n",
       "      <td>...</td>\n",
       "      <td></td>\n",
       "      <td></td>\n",
       "      <td></td>\n",
       "      <td></td>\n",
       "      <td></td>\n",
       "      <td></td>\n",
       "      <td></td>\n",
       "      <td></td>\n",
       "      <td></td>\n",
       "      <td></td>\n",
       "    </tr>\n",
       "    <tr>\n",
       "      <th>...</th>\n",
       "      <td>...</td>\n",
       "      <td>...</td>\n",
       "      <td>...</td>\n",
       "      <td>...</td>\n",
       "      <td>...</td>\n",
       "      <td>...</td>\n",
       "      <td>...</td>\n",
       "      <td>...</td>\n",
       "      <td>...</td>\n",
       "      <td>...</td>\n",
       "      <td>...</td>\n",
       "      <td>...</td>\n",
       "      <td>...</td>\n",
       "      <td>...</td>\n",
       "      <td>...</td>\n",
       "      <td>...</td>\n",
       "      <td>...</td>\n",
       "      <td>...</td>\n",
       "      <td>...</td>\n",
       "      <td>...</td>\n",
       "      <td>...</td>\n",
       "    </tr>\n",
       "    <tr>\n",
       "      <th>2012-06-17</th>\n",
       "      <td>u . k . home seller push ask price to record r...</td>\n",
       "      <td>end u . s . student loan don t make them cheap .</td>\n",
       "      <td>third fed stimulus win t be good than qe2 romn...</td>\n",
       "      <td>iran nuclear offer isn t enough to delay eu oi...</td>\n",
       "      <td>rwe win t build more nuclear power station sue...</td>\n",
       "      <td>supreme court s super monday don t serve justi...</td>\n",
       "      <td>new index show low growth for major economy .</td>\n",
       "      <td>microsoft nears deal to buy yammer source .</td>\n",
       "      <td>exxon drop shale exploration plan in poland pa...</td>\n",
       "      <td>irish asset sale win t be impact by euro crisi...</td>\n",
       "      <td>...</td>\n",
       "      <td></td>\n",
       "      <td></td>\n",
       "      <td></td>\n",
       "      <td></td>\n",
       "      <td></td>\n",
       "      <td></td>\n",
       "      <td></td>\n",
       "      <td></td>\n",
       "      <td></td>\n",
       "      <td></td>\n",
       "    </tr>\n",
       "    <tr>\n",
       "      <th>2012-06-18</th>\n",
       "      <td>dollar shortage see in 2 trillion gap say morg...</td>\n",
       "      <td>microsoft tablet must shed office image to cha...</td>\n",
       "      <td>ups sell xxx million yuan commercial paper for...</td>\n",
       "      <td>kenya coffee auction recess start on july 18 a...</td>\n",
       "      <td>morgan stanley may settle nuns u . k . bond la...</td>\n",
       "      <td>blackrock s rice to stop co manage five energy...</td>\n",
       "      <td>wto china steel facebook sec gupta verdict com...</td>\n",
       "      <td>pfizer s drug for rare nerve disease reject by...</td>\n",
       "      <td>tui see no jump in cost of travel to greece ce...</td>\n",
       "      <td>gm say to report xxxth facility go landfill fr...</td>\n",
       "      <td>...</td>\n",
       "      <td></td>\n",
       "      <td></td>\n",
       "      <td></td>\n",
       "      <td></td>\n",
       "      <td></td>\n",
       "      <td></td>\n",
       "      <td></td>\n",
       "      <td></td>\n",
       "      <td></td>\n",
       "      <td></td>\n",
       "    </tr>\n",
       "    <tr>\n",
       "      <th>2012-06-19</th>\n",
       "      <td>wal mart mom tear on health care become campai...</td>\n",
       "      <td>pemex sell xxx billion of bond abroad amid rec...</td>\n",
       "      <td>danone cut profitability goal on southern euro...</td>\n",
       "      <td>sumitomo mitsui trust target 32 increase in ov...</td>\n",
       "      <td>metlife win feed extension to resubmit capital...</td>\n",
       "      <td>kodak sue apple in bid to quash claim over pat...</td>\n",
       "      <td>microsoft unveils surface tablet computer to r...</td>\n",
       "      <td>deutsche bahn see eu20 million airport delay c...</td>\n",
       "      <td>u . s . soybean stock see low a shipment stren...</td>\n",
       "      <td>nestle shrug off low spain demand a danone cut...</td>\n",
       "      <td>...</td>\n",
       "      <td></td>\n",
       "      <td></td>\n",
       "      <td></td>\n",
       "      <td></td>\n",
       "      <td></td>\n",
       "      <td></td>\n",
       "      <td></td>\n",
       "      <td></td>\n",
       "      <td></td>\n",
       "      <td></td>\n",
       "    </tr>\n",
       "    <tr>\n",
       "      <th>2012-06-20</th>\n",
       "      <td>sanofi s blood clot drug doesn t show benefit ...</td>\n",
       "      <td>j j pfizer alzheimer s study will be present i...</td>\n",
       "      <td>merck s marketing of drug with madagascar 3 dr...</td>\n",
       "      <td>taiwan shut central southern area a storm appr...</td>\n",
       "      <td>oil fall to eight month low on u . s . stockpi...</td>\n",
       "      <td>microsoft debut windows 8 phone software to ri...</td>\n",
       "      <td>boeing xxx dimmable window not dark enough say...</td>\n",
       "      <td>so you think beat queen s horse carlton house ...</td>\n",
       "      <td>apple motorola mobility spar in court over pho...</td>\n",
       "      <td>euro erase xxx drop v yen trade little change ...</td>\n",
       "      <td>...</td>\n",
       "      <td></td>\n",
       "      <td></td>\n",
       "      <td></td>\n",
       "      <td></td>\n",
       "      <td></td>\n",
       "      <td></td>\n",
       "      <td></td>\n",
       "      <td></td>\n",
       "      <td></td>\n",
       "      <td></td>\n",
       "    </tr>\n",
       "    <tr>\n",
       "      <th>2012-06-21</th>\n",
       "      <td>blackrock energy fund manager leave firm .</td>\n",
       "      <td>peugeot examine impact of gm on bmw hybrid all...</td>\n",
       "      <td>exist home sale fall xxx percent in may .</td>\n",
       "      <td>apple fin in australia for mislead ipad advert...</td>\n",
       "      <td>exclusive blackrock discloses doll model not a...</td>\n",
       "      <td>spain to seek bank aid a borrowing cost soar .</td>\n",
       "      <td>exxon to reconfigure uk plant close a crude un...</td>\n",
       "      <td>executive who criticize oracle president quits .</td>\n",
       "      <td>analysis smart logic samsung chip away at inte...</td>\n",
       "      <td>analysis texas refinery crisis rattle saudi oi...</td>\n",
       "      <td>...</td>\n",
       "      <td></td>\n",
       "      <td></td>\n",
       "      <td></td>\n",
       "      <td></td>\n",
       "      <td></td>\n",
       "      <td></td>\n",
       "      <td></td>\n",
       "      <td></td>\n",
       "      <td></td>\n",
       "      <td></td>\n",
       "    </tr>\n",
       "  </tbody>\n",
       "</table>\n",
       "<p>1976 rows × 132 columns</p>\n",
       "</div>"
      ],
      "text/plain": [
       "                                                          0    \\\n",
       "date                                                            \n",
       "2006-10-20     exxon mobil offer plan to end alaska dispute .   \n",
       "2006-10-23  royal dutch bid for shell canada low sharehold...   \n",
       "2006-10-24  microsoft to start vista coupon plan for pc bu...   \n",
       "2006-10-25  boeing profit tops view but forecast disappoin...   \n",
       "2006-10-26    analyst sound note of caution on gm cash burn .   \n",
       "...                                                       ...   \n",
       "2012-06-17  u . k . home seller push ask price to record r...   \n",
       "2012-06-18  dollar shortage see in 2 trillion gap say morg...   \n",
       "2012-06-19  wal mart mom tear on health care become campai...   \n",
       "2012-06-20  sanofi s blood clot drug doesn t show benefit ...   \n",
       "2012-06-21         blackrock energy fund manager leave firm .   \n",
       "\n",
       "                                                          1    \\\n",
       "date                                                            \n",
       "2006-10-20                                                      \n",
       "2006-10-23  dow end at record high texas instrument off la...   \n",
       "2006-10-24                dst system post low q3 net profit .   \n",
       "2006-10-25         u . s . stock gain exxon and altria jump .   \n",
       "2006-10-26  comcast third quarter profit up on record sub ...   \n",
       "...                                                       ...   \n",
       "2012-06-17   end u . s . student loan don t make them cheap .   \n",
       "2012-06-18  microsoft tablet must shed office image to cha...   \n",
       "2012-06-19  pemex sell xxx billion of bond abroad amid rec...   \n",
       "2012-06-20  j j pfizer alzheimer s study will be present i...   \n",
       "2012-06-21  peugeot examine impact of gm on bmw hybrid all...   \n",
       "\n",
       "                                                          2    \\\n",
       "date                                                            \n",
       "2006-10-20                                                      \n",
       "2006-10-23  shell look to buy out canada unit for c xxx bi...   \n",
       "2006-10-24  u . s . tech stock fall on texas instrument ou...   \n",
       "2006-10-25                      amazon profit beat forecast .   \n",
       "2006-10-26                 microsoft profit rise 11 percent .   \n",
       "...                                                       ...   \n",
       "2012-06-17  third fed stimulus win t be good than qe2 romn...   \n",
       "2012-06-18  ups sell xxx million yuan commercial paper for...   \n",
       "2012-06-19  danone cut profitability goal on southern euro...   \n",
       "2012-06-20  merck s marketing of drug with madagascar 3 dr...   \n",
       "2012-06-21          exist home sale fall xxx percent in may .   \n",
       "\n",
       "                                                          3    \\\n",
       "date                                                            \n",
       "2006-10-20                                                      \n",
       "2006-10-23             ford be review all product brand ceo .   \n",
       "2006-10-24  ge wal mart shenzhen bank tie up on china cred...   \n",
       "2006-10-25    honda q2 drop on finance loss yen lift f cast .   \n",
       "2006-10-26        instant view 4 microsoft post high result .   \n",
       "...                                                       ...   \n",
       "2012-06-17  iran nuclear offer isn t enough to delay eu oi...   \n",
       "2012-06-18  kenya coffee auction recess start on july 18 a...   \n",
       "2012-06-19  sumitomo mitsui trust target 32 increase in ov...   \n",
       "2012-06-20  taiwan shut central southern area a storm appr...   \n",
       "2012-06-21  apple fin in australia for mislead ipad advert...   \n",
       "\n",
       "                                                          4    \\\n",
       "date                                                            \n",
       "2006-10-20                                                      \n",
       "2006-10-23                   at t earnings beat expectation .   \n",
       "2006-10-24                     lockheed martin ups forecast .   \n",
       "2006-10-25      exist home sale fall for 6th straight month .   \n",
       "2006-10-26        dow chemical earnings rise on strong sale .   \n",
       "...                                                       ...   \n",
       "2012-06-17  rwe win t build more nuclear power station sue...   \n",
       "2012-06-18  morgan stanley may settle nuns u . k . bond la...   \n",
       "2012-06-19  metlife win feed extension to resubmit capital...   \n",
       "2012-06-20  oil fall to eight month low on u . s . stockpi...   \n",
       "2012-06-21  exclusive blackrock discloses doll model not a...   \n",
       "\n",
       "                                                          5    \\\n",
       "date                                                            \n",
       "2006-10-20                                                      \n",
       "2006-10-23         australia foster say confident on target .   \n",
       "2006-10-24  microsoft to defer xxx billion in sale to thir...   \n",
       "2006-10-25         radioshack post quarter loss a cost rise .   \n",
       "2006-10-26    stock gain on strong profit microsoft up late .   \n",
       "...                                                       ...   \n",
       "2012-06-17  supreme court s super monday don t serve justi...   \n",
       "2012-06-18  blackrock s rice to stop co manage five energy...   \n",
       "2012-06-19  kodak sue apple in bid to quash claim over pat...   \n",
       "2012-06-20  microsoft debut windows 8 phone software to ri...   \n",
       "2012-06-21     spain to seek bank aid a borrowing cost soar .   \n",
       "\n",
       "                                                          6    \\\n",
       "date                                                            \n",
       "2006-10-20                                                      \n",
       "2006-10-23                      ford win t sell ford credit .   \n",
       "2006-10-24  jim cramer bare escentuals allergan medicis av...   \n",
       "2006-10-25   altria net hit by spain conwood lifts reynolds .   \n",
       "2006-10-26     microsoft cfo say tender offer lower outlook .   \n",
       "...                                                       ...   \n",
       "2012-06-17      new index show low growth for major economy .   \n",
       "2012-06-18  wto china steel facebook sec gupta verdict com...   \n",
       "2012-06-19  microsoft unveils surface tablet computer to r...   \n",
       "2012-06-20  boeing xxx dimmable window not dark enough say...   \n",
       "2012-06-21  exxon to reconfigure uk plant close a crude un...   \n",
       "\n",
       "                                                          7    \\\n",
       "date                                                            \n",
       "2006-10-20                                                      \n",
       "2006-10-23           kimberly clark see high cost this year .   \n",
       "2006-10-24          pepsico look to new product acquisition .   \n",
       "2006-10-25        stock see up slightly after amazon result .   \n",
       "2006-10-26      exxon post huge profit on high price output .   \n",
       "...                                                       ...   \n",
       "2012-06-17        microsoft nears deal to buy yammer source .   \n",
       "2012-06-18  pfizer s drug for rare nerve disease reject by...   \n",
       "2012-06-19  deutsche bahn see eu20 million airport delay c...   \n",
       "2012-06-20  so you think beat queen s horse carlton house ...   \n",
       "2012-06-21   executive who criticize oracle president quits .   \n",
       "\n",
       "                                                          8    \\\n",
       "date                                                            \n",
       "2006-10-20                                                      \n",
       "2006-10-23                                                      \n",
       "2006-10-24                   amazon profit beat expectation .   \n",
       "2006-10-25          altria promise january detail for kraft .   \n",
       "2006-10-26                 gm post profit but recovery loom .   \n",
       "...                                                       ...   \n",
       "2012-06-17  exxon drop shale exploration plan in poland pa...   \n",
       "2012-06-18  tui see no jump in cost of travel to greece ce...   \n",
       "2012-06-19  u . s . soybean stock see low a shipment stren...   \n",
       "2012-06-20  apple motorola mobility spar in court over pho...   \n",
       "2012-06-21  analysis smart logic samsung chip away at inte...   \n",
       "\n",
       "                                                          9    ... 122 123  \\\n",
       "date                                                           ...           \n",
       "2006-10-20                                                     ...           \n",
       "2006-10-23                                                     ...           \n",
       "2006-10-24  phelps dodge net double but off wall st . targ...  ...           \n",
       "2006-10-25  gm signal it be closer to labor deal with delp...  ...           \n",
       "2006-10-26         u . s . sept new home sale durables rise .  ...           \n",
       "...                                                       ...  ...  ..  ..   \n",
       "2012-06-17  irish asset sale win t be impact by euro crisi...  ...           \n",
       "2012-06-18  gm say to report xxxth facility go landfill fr...  ...           \n",
       "2012-06-19  nestle shrug off low spain demand a danone cut...  ...           \n",
       "2012-06-20  euro erase xxx drop v yen trade little change ...  ...           \n",
       "2012-06-21  analysis texas refinery crisis rattle saudi oi...  ...           \n",
       "\n",
       "           124 125 126 127 128 129 130 131  \n",
       "date                                        \n",
       "2006-10-20                                  \n",
       "2006-10-23                                  \n",
       "2006-10-24                                  \n",
       "2006-10-25                                  \n",
       "2006-10-26                                  \n",
       "...         ..  ..  ..  ..  ..  ..  ..  ..  \n",
       "2012-06-17                                  \n",
       "2012-06-18                                  \n",
       "2012-06-19                                  \n",
       "2012-06-20                                  \n",
       "2012-06-21                                  \n",
       "\n",
       "[1976 rows x 132 columns]"
      ]
     },
     "execution_count": 3,
     "metadata": {},
     "output_type": "execute_result"
    }
   ],
   "source": [
    "x_train"
   ]
  },
  {
   "cell_type": "code",
   "execution_count": 4,
   "metadata": {},
   "outputs": [
    {
     "data": {
      "text/plain": [
       "((1976, 132), (1428, 1))"
      ]
     },
     "execution_count": 4,
     "metadata": {},
     "output_type": "execute_result"
    }
   ],
   "source": [
    "x_train.shape, label.shape"
   ]
  },
  {
   "cell_type": "code",
   "execution_count": 7,
   "metadata": {},
   "outputs": [],
   "source": [
    "from keras.preprocessing import text,sequence\n",
    "from keras.preprocessing.text import Tokenizer\n",
    "from keras.preprocessing.sequence import pad_sequences"
   ]
  },
  {
   "cell_type": "code",
   "execution_count": 8,
   "metadata": {},
   "outputs": [],
   "source": [
    "seed = 7\n",
    "np.random.seed(seed)\n",
    "tf.set_random_seed(seed)\n",
    "sess = tf.Session(graph = tf.get_default_graph())\n",
    "K.set_session(sess)"
   ]
  },
  {
   "cell_type": "code",
   "execution_count": 9,
   "metadata": {},
   "outputs": [],
   "source": [
    "tokenizer = Tokenizer(lower = True,filters='\\n\\t')\n",
    "tokenizer.fit_on_texts(s)"
   ]
  },
  {
   "cell_type": "code",
   "execution_count": 10,
   "metadata": {},
   "outputs": [
    {
     "name": "stdout",
     "output_type": "stream",
     "text": [
      "vocabulary size:23364\n"
     ]
    }
   ],
   "source": [
    "#######################@@@@@@@@@@@@@@@@@@@@@@@@@@@@@@@@@@@@@@@@@@@@@@@@@@@@@@@@@@@@@@@@@@@@@@@@@@@@@@@@Vocabulary size\n",
    "vocab_size = len(tokenizer.word_index)+1\n",
    "print('vocabulary size:{}'.format(vocab_size))  #vocabulary size:23364"
   ]
  },
  {
   "cell_type": "code",
   "execution_count": null,
   "metadata": {},
   "outputs": [],
   "source": [
    "#processing the vocab cases for title\n",
    "#before dropping the words that occurs less than 5 times 23383\n",
    "#Dict size 7283"
   ]
  },
  {
   "cell_type": "code",
   "execution_count": 32,
   "metadata": {},
   "outputs": [],
   "source": [
    "x_train= tokenizer.texts_to_sequences(s_train)\n",
    "x_valid= tokenizer.texts_to_sequences(s_valid)\n",
    "x_test= tokenizer.texts_to_sequences(s_test)\n",
    "x_all = tokenizer.texts_to_sequences(s)"
   ]
  },
  {
   "cell_type": "code",
   "execution_count": 88,
   "metadata": {},
   "outputs": [
    {
     "data": {
      "text/plain": [
       "(46136, 13284, 12398, 71818)"
      ]
     },
     "execution_count": 88,
     "metadata": {},
     "output_type": "execute_result"
    }
   ],
   "source": [
    "word_num_train = [] #word_num in each sentence\n",
    "word_num_valid = [] \n",
    "word_num_test = [] \n",
    "word_num_all = []   #word_num_all与其他不一样\n",
    "\n",
    "for i in range(len(x_train)):\n",
    "    word_num_train.append(len(x_train[i]))\n",
    "#word_num \n",
    "for i in range(len(x_valid)):\n",
    "    word_num_valid.append(len(x_valid[i]))\n",
    "\n",
    "for i in range(len(x_test)):\n",
    "    word_num_test.append(len(x_test[i]))\n",
    "\n",
    "for i in range(len(x_all)):\n",
    "    word_num_all.append(len(x_all[i]))\n",
    "\n",
    "\n",
    "\n",
    "len(word_num_train),len(word_num_valid),len(word_num_test),len(word_num_all)"
   ]
  },
  {
   "cell_type": "code",
   "execution_count": 13,
   "metadata": {},
   "outputs": [
    {
     "data": {
      "text/plain": [
       "([145, 976, 136, 51, 2, 117, 2259, 632, 1],\n",
       " 'exxon mobil offer plan to end alaska dispute .',\n",
       " 9)"
      ]
     },
     "execution_count": 13,
     "metadata": {},
     "output_type": "execute_result"
    }
   ],
   "source": [
    "x_train[0],s_train[0],len(x_train[0])"
   ]
  },
  {
   "cell_type": "code",
   "execution_count": 15,
   "metadata": {},
   "outputs": [],
   "source": [
    "############################################################################## Training set, Validation set, Test set statistics\n",
    "#word_num_train  #training set里面每个sentence的句子长度"
   ]
  },
  {
   "cell_type": "code",
   "execution_count": 16,
   "metadata": {},
   "outputs": [
    {
     "data": {
      "text/plain": [
       "count    46136.000000\n",
       "mean        11.171992\n",
       "std          2.370204\n",
       "min          4.000000\n",
       "25%          9.000000\n",
       "50%         11.000000\n",
       "75%         13.000000\n",
       "max         22.000000\n",
       "dtype: float64"
      ]
     },
     "execution_count": 16,
     "metadata": {},
     "output_type": "execute_result"
    }
   ],
   "source": [
    "pd.Series(word_num_train).describe()"
   ]
  },
  {
   "cell_type": "code",
   "execution_count": 17,
   "metadata": {},
   "outputs": [
    {
     "data": {
      "text/plain": [
       "count    13284.000000\n",
       "mean        11.123908\n",
       "std          1.829107\n",
       "min          4.000000\n",
       "25%         10.000000\n",
       "50%         11.000000\n",
       "75%         12.000000\n",
       "max         19.000000\n",
       "dtype: float64"
      ]
     },
     "execution_count": 17,
     "metadata": {},
     "output_type": "execute_result"
    }
   ],
   "source": [
    "pd.Series(word_num_valid).describe()"
   ]
  },
  {
   "cell_type": "code",
   "execution_count": 18,
   "metadata": {},
   "outputs": [
    {
     "data": {
      "text/plain": [
       "count    12398.000000\n",
       "mean        11.221891\n",
       "std          1.880485\n",
       "min          5.000000\n",
       "25%         10.000000\n",
       "50%         11.000000\n",
       "75%         12.000000\n",
       "max         19.000000\n",
       "dtype: float64"
      ]
     },
     "execution_count": 18,
     "metadata": {},
     "output_type": "execute_result"
    }
   ],
   "source": [
    "pd.Series(word_num_test).describe()"
   ]
  },
  {
   "cell_type": "code",
   "execution_count": 89,
   "metadata": {},
   "outputs": [
    {
     "data": {
      "text/plain": [
       "count    71818.000000\n",
       "mean        11.171712\n",
       "std          2.199766\n",
       "min          4.000000\n",
       "25%         10.000000\n",
       "50%         11.000000\n",
       "75%         13.000000\n",
       "max         22.000000\n",
       "dtype: float64"
      ]
     },
     "execution_count": 89,
     "metadata": {},
     "output_type": "execute_result"
    }
   ],
   "source": [
    "pd.Series(word_num_all).describe()"
   ]
  },
  {
   "cell_type": "code",
   "execution_count": 24,
   "metadata": {},
   "outputs": [
    {
     "data": {
      "text/plain": [
       "count    71818.000000\n",
       "mean        57.011070\n",
       "std          9.193571\n",
       "min         18.000000\n",
       "25%         51.000000\n",
       "50%         57.000000\n",
       "75%         63.000000\n",
       "max         92.000000\n",
       "dtype: float64"
      ]
     },
     "execution_count": 24,
     "metadata": {},
     "output_type": "execute_result"
    }
   ],
   "source": [
    "word_num_all = []\n",
    "s_list = list(s)\n",
    "for i in range(len(s_list)):\n",
    "    word_num_all.append(len(s_list[i]))\n",
    "\n",
    "pd.Series(word_num_all).describe()"
   ]
  },
  {
   "cell_type": "code",
   "execution_count": 36,
   "metadata": {},
   "outputs": [],
   "source": [
    "#x_all"
   ]
  },
  {
   "cell_type": "code",
   "execution_count": 127,
   "metadata": {},
   "outputs": [
    {
     "data": {
      "image/png": "[encoded data removed]",
      "text/plain": [
       "<Figure size 432x288 with 1 Axes>"
      ]
     },
     "metadata": {
      "needs_background": "light"
     },
     "output_type": "display_data"
    }
   ],
   "source": [
    "import seaborn as sns\n",
    "import matplotlib.pyplot as plt\n",
    "\n",
    "sns.distplot(word_num_train, bins=15)\n",
    "plt.show()"
   ]
  },
  {
   "cell_type": "code",
   "execution_count": 126,
   "metadata": {},
   "outputs": [
    {
     "data": {
      "image/png": "[encoded data removed]",
      "text/plain": [
       "<Figure size 432x288 with 1 Axes>"
      ]
     },
     "metadata": {
      "needs_background": "light"
     },
     "output_type": "display_data"
    }
   ],
   "source": [
    "sns.distplot(word_num_valid, bins=15)\n",
    "plt.show()"
   ]
  },
  {
   "cell_type": "code",
   "execution_count": 122,
   "metadata": {},
   "outputs": [
    {
     "data": {
      "image/png": "[encoded data removed]",
      "text/plain": [
       "<Figure size 432x288 with 1 Axes>"
      ]
     },
     "metadata": {
      "needs_background": "light"
     },
     "output_type": "display_data"
    }
   ],
   "source": [
    "sns.distplot(word_num_test, bins=15)\n",
    "plt.show()"
   ]
  },
  {
   "cell_type": "code",
   "execution_count": 123,
   "metadata": {},
   "outputs": [
    {
     "data": {
      "image/png": "[encoded data removed]",
      "text/plain": [
       "<Figure size 432x288 with 1 Axes>"
      ]
     },
     "metadata": {
      "needs_background": "light"
     },
     "output_type": "display_data"
    }
   ],
   "source": [
    "sns.distplot(word_num_all, bins=15)\n",
    "plt.show()"
   ]
  },
  {
   "cell_type": "code",
   "execution_count": 94,
   "metadata": {},
   "outputs": [
    {
     "data": {
      "text/plain": [
       "('u . s . yield be two basis point from the month s low on u . s . growth outlook .',\n",
       " [12,\n",
       "  1,\n",
       "  3,\n",
       "  1,\n",
       "  65,\n",
       "  33,\n",
       "  74,\n",
       "  1846,\n",
       "  706,\n",
       "  36,\n",
       "  82,\n",
       "  22,\n",
       "  3,\n",
       "  4,\n",
       "  7,\n",
       "  12,\n",
       "  1,\n",
       "  3,\n",
       "  1,\n",
       "  71,\n",
       "  133,\n",
       "  1],\n",
       " 22)"
      ]
     },
     "execution_count": 94,
     "metadata": {},
     "output_type": "execute_result"
    }
   ],
   "source": [
    "word_num_train.index(max(word_num_train))\n",
    "s_train[27412],x_train[27412],word_num_train[27412]"
   ]
  },
  {
   "cell_type": "code",
   "execution_count": 95,
   "metadata": {},
   "outputs": [
    {
     "data": {
      "text/plain": [
       "(15, 15)"
      ]
     },
     "execution_count": 95,
     "metadata": {},
     "output_type": "execute_result"
    }
   ],
   "source": [
    "word_num_valid[1978],word_num_all[48114]"
   ]
  },
  {
   "cell_type": "code",
   "execution_count": 96,
   "metadata": {},
   "outputs": [
    {
     "data": {
      "text/plain": [
       "('u . k . stock drop to one month low on u . s . data rio fall .',\n",
       " [12, 1, 110, 1, 43, 32, 2, 112, 22, 4, 7, 12, 1, 3, 1, 179, 968, 19, 1],\n",
       " 19)"
      ]
     },
     "execution_count": 96,
     "metadata": {},
     "output_type": "execute_result"
    }
   ],
   "source": [
    "word_num_valid.index(max(word_num_valid))\n",
    "s_valid[3712],x_valid[3712],word_num_valid[3712]"
   ]
  },
  {
   "cell_type": "code",
   "execution_count": 97,
   "metadata": {},
   "outputs": [
    {
     "data": {
      "text/plain": [
       "('ecclestone say allege u . s . dollar f 1 bribe not under u . s . law .',\n",
       " [3672,\n",
       "  5,\n",
       "  2570,\n",
       "  12,\n",
       "  1,\n",
       "  3,\n",
       "  1,\n",
       "  76,\n",
       "  123,\n",
       "  137,\n",
       "  3049,\n",
       "  196,\n",
       "  625,\n",
       "  12,\n",
       "  1,\n",
       "  3,\n",
       "  1,\n",
       "  431,\n",
       "  1],\n",
       " 19)"
      ]
     },
     "execution_count": 97,
     "metadata": {},
     "output_type": "execute_result"
    }
   ],
   "source": [
    "word_num_test.index(max(word_num_test))\n",
    "s_test[1375],x_test[1375],word_num_test[1375]"
   ]
  },
  {
   "cell_type": "code",
   "execution_count": 106,
   "metadata": {},
   "outputs": [
    {
     "data": {
      "text/plain": [
       "('samsung sell xxx million smartphones in second quarter almost twice what apple sell report .',\n",
       " [214, 60, 9, 45, 1985, 6, 178, 78, 644, 3941, 803, 25, 60, 38, 1],\n",
       " 15,\n",
       " 92)"
      ]
     },
     "execution_count": 106,
     "metadata": {},
     "output_type": "execute_result"
    }
   ],
   "source": [
    "word_num_all.index(max(word_num_all))\n",
    "s[48114],x_all[48114],word_num_all[48114],len(s[48114])######### word_num_all 不等于 s"
   ]
  },
  {
   "cell_type": "code",
   "execution_count": 100,
   "metadata": {},
   "outputs": [],
   "source": [
    "#a = tokenizer.texts_to_sequences(s[48114])\n",
    "#for i in range(len(a)):\n",
    "#    print(a[i])\n",
    "#    print(s[48114][i])"
   ]
  },
  {
   "cell_type": "code",
   "execution_count": 101,
   "metadata": {},
   "outputs": [
    {
     "name": "stdout",
     "output_type": "stream",
     "text": [
      "maxlen_titles:92\n"
     ]
    }
   ],
   "source": [
    "maxlen1 = len(max((s for s in np.r_[s_train,s_valid,s_test]),key =len))\n",
    "print('maxlen_titles:{}'.format(maxlen1)) #92"
   ]
  },
  {
   "cell_type": "code",
   "execution_count": 104,
   "metadata": {},
   "outputs": [
    {
     "data": {
      "text/plain": [
       "('samsung sell xxx million smartphones in second quarter almost twice what apple sell report .',\n",
       " [214, 60, 9, 45, 1985, 6, 178, 78, 644, 3941, 803, 25, 60, 38, 1],\n",
       " 92)"
      ]
     },
     "execution_count": 104,
     "metadata": {},
     "output_type": "execute_result"
    }
   ],
   "source": [
    "word_num_all.index(max(word_num_all))\n",
    "s[48114],x_all[48114],len(s[48114])"
   ]
  },
  {
   "cell_type": "code",
   "execution_count": 103,
   "metadata": {},
   "outputs": [
    {
     "data": {
      "text/plain": [
       "82"
      ]
     },
     "execution_count": 103,
     "metadata": {},
     "output_type": "execute_result"
    }
   ],
   "source": [
    "maxlen = len(max((s for s in s_train),key =len))\n",
    "maxlen"
   ]
  },
  {
   "cell_type": "code",
   "execution_count": 49,
   "metadata": {},
   "outputs": [
    {
     "data": {
      "text/plain": [
       "('u . s . yield be two basis point from the month s low on u . s . growth outlook .',\n",
       " [12,\n",
       "  1,\n",
       "  3,\n",
       "  1,\n",
       "  65,\n",
       "  33,\n",
       "  74,\n",
       "  1846,\n",
       "  706,\n",
       "  36,\n",
       "  82,\n",
       "  22,\n",
       "  3,\n",
       "  4,\n",
       "  7,\n",
       "  12,\n",
       "  1,\n",
       "  3,\n",
       "  1,\n",
       "  71,\n",
       "  133,\n",
       "  1],\n",
       " 81)"
      ]
     },
     "execution_count": 49,
     "metadata": {},
     "output_type": "execute_result"
    }
   ],
   "source": [
    "word_num_train.index(max(word_num_train))\n",
    "s_train[27412],x_train[27412],len(s_train[27412])"
   ]
  },
  {
   "cell_type": "code",
   "execution_count": 53,
   "metadata": {},
   "outputs": [
    {
     "data": {
      "text/plain": [
       "92"
      ]
     },
     "execution_count": 53,
     "metadata": {},
     "output_type": "execute_result"
    }
   ],
   "source": [
    "maxlen2 = len(max((s for s in s_valid),key =len))\n",
    "maxlen2"
   ]
  },
  {
   "cell_type": "code",
   "execution_count": 55,
   "metadata": {},
   "outputs": [
    {
     "data": {
      "text/plain": [
       "('u . k . stock drop to one month low on u . s . data rio fall .',\n",
       " [12, 1, 110, 1, 43, 32, 2, 112, 22, 4, 7, 12, 1, 3, 1, 179, 968, 19, 1],\n",
       " 62)"
      ]
     },
     "execution_count": 55,
     "metadata": {},
     "output_type": "execute_result"
    }
   ],
   "source": [
    "word_num_valid.index(max(word_num_valid))\n",
    "s_valid[3712],x_valid[3712],len(s_valid[3712])"
   ]
  },
  {
   "cell_type": "code",
   "execution_count": 58,
   "metadata": {},
   "outputs": [
    {
     "data": {
      "text/plain": [
       "85"
      ]
     },
     "execution_count": 58,
     "metadata": {},
     "output_type": "execute_result"
    }
   ],
   "source": [
    "maxlen3 = len(max((s for s in s_test),key =len))\n",
    "maxlen3"
   ]
  },
  {
   "cell_type": "code",
   "execution_count": 60,
   "metadata": {},
   "outputs": [
    {
     "data": {
      "text/plain": [
       "('ecclestone say allege u . s . dollar f 1 bribe not under u . s . law .',\n",
       " [3672,\n",
       "  5,\n",
       "  2570,\n",
       "  12,\n",
       "  1,\n",
       "  3,\n",
       "  1,\n",
       "  76,\n",
       "  123,\n",
       "  137,\n",
       "  3049,\n",
       "  196,\n",
       "  625,\n",
       "  12,\n",
       "  1,\n",
       "  3,\n",
       "  1,\n",
       "  431,\n",
       "  1],\n",
       " 70)"
      ]
     },
     "execution_count": 60,
     "metadata": {},
     "output_type": "execute_result"
    }
   ],
   "source": [
    "word_num_test.index(max(word_num_test))\n",
    "s_test[1375],x_test[1375],len(s_test[1375])"
   ]
  },
  {
   "cell_type": "code",
   "execution_count": null,
   "metadata": {},
   "outputs": [],
   "source": []
  }
 ],
 "metadata": {
  "kernelspec": {
   "display_name": "Python 3",
   "language": "python",
   "name": "python3"
  },
  "language_info": {
   "codemirror_mode": {
    "name": "ipython",
    "version": 3
   },
   "file_extension": ".py",
   "mimetype": "text/x-python",
   "name": "python",
   "nbconvert_exporter": "python",
   "pygments_lexer": "ipython3",
   "version": "3.7.6"
  }
 },
 "nbformat": 4,
 "nbformat_minor": 4
}
