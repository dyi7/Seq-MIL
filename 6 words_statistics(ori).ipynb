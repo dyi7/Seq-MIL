{
 "cells": [
  {
   "cell_type": "code",
   "execution_count": 1,
   "metadata": {},
   "outputs": [
    {
     "name": "stderr",
     "output_type": "stream",
     "text": [
      "/userhome/35/yqdeng/anaconda3/lib/python3.7/site-packages/tensorflow/python/framework/dtypes.py:516: FutureWarning: Passing (type, 1) or '1type' as a synonym of type is deprecated; in a future version of numpy, it will be understood as (type, (1,)) / '(1,)type'.\n",
      "  _np_qint8 = np.dtype([(\"qint8\", np.int8, 1)])\n",
      "/userhome/35/yqdeng/anaconda3/lib/python3.7/site-packages/tensorflow/python/framework/dtypes.py:517: FutureWarning: Passing (type, 1) or '1type' as a synonym of type is deprecated; in a future version of numpy, it will be understood as (type, (1,)) / '(1,)type'.\n",
      "  _np_quint8 = np.dtype([(\"quint8\", np.uint8, 1)])\n",
      "/userhome/35/yqdeng/anaconda3/lib/python3.7/site-packages/tensorflow/python/framework/dtypes.py:518: FutureWarning: Passing (type, 1) or '1type' as a synonym of type is deprecated; in a future version of numpy, it will be understood as (type, (1,)) / '(1,)type'.\n",
      "  _np_qint16 = np.dtype([(\"qint16\", np.int16, 1)])\n",
      "/userhome/35/yqdeng/anaconda3/lib/python3.7/site-packages/tensorflow/python/framework/dtypes.py:519: FutureWarning: Passing (type, 1) or '1type' as a synonym of type is deprecated; in a future version of numpy, it will be understood as (type, (1,)) / '(1,)type'.\n",
      "  _np_quint16 = np.dtype([(\"quint16\", np.uint16, 1)])\n",
      "/userhome/35/yqdeng/anaconda3/lib/python3.7/site-packages/tensorflow/python/framework/dtypes.py:520: FutureWarning: Passing (type, 1) or '1type' as a synonym of type is deprecated; in a future version of numpy, it will be understood as (type, (1,)) / '(1,)type'.\n",
      "  _np_qint32 = np.dtype([(\"qint32\", np.int32, 1)])\n",
      "/userhome/35/yqdeng/anaconda3/lib/python3.7/site-packages/tensorflow/python/framework/dtypes.py:525: FutureWarning: Passing (type, 1) or '1type' as a synonym of type is deprecated; in a future version of numpy, it will be understood as (type, (1,)) / '(1,)type'.\n",
      "  np_resource = np.dtype([(\"resource\", np.ubyte, 1)])\n",
      "/userhome/35/yqdeng/anaconda3/lib/python3.7/site-packages/tensorboard/compat/tensorflow_stub/dtypes.py:541: FutureWarning: Passing (type, 1) or '1type' as a synonym of type is deprecated; in a future version of numpy, it will be understood as (type, (1,)) / '(1,)type'.\n",
      "  _np_qint8 = np.dtype([(\"qint8\", np.int8, 1)])\n",
      "/userhome/35/yqdeng/anaconda3/lib/python3.7/site-packages/tensorboard/compat/tensorflow_stub/dtypes.py:542: FutureWarning: Passing (type, 1) or '1type' as a synonym of type is deprecated; in a future version of numpy, it will be understood as (type, (1,)) / '(1,)type'.\n",
      "  _np_quint8 = np.dtype([(\"quint8\", np.uint8, 1)])\n",
      "/userhome/35/yqdeng/anaconda3/lib/python3.7/site-packages/tensorboard/compat/tensorflow_stub/dtypes.py:543: FutureWarning: Passing (type, 1) or '1type' as a synonym of type is deprecated; in a future version of numpy, it will be understood as (type, (1,)) / '(1,)type'.\n",
      "  _np_qint16 = np.dtype([(\"qint16\", np.int16, 1)])\n",
      "/userhome/35/yqdeng/anaconda3/lib/python3.7/site-packages/tensorboard/compat/tensorflow_stub/dtypes.py:544: FutureWarning: Passing (type, 1) or '1type' as a synonym of type is deprecated; in a future version of numpy, it will be understood as (type, (1,)) / '(1,)type'.\n",
      "  _np_quint16 = np.dtype([(\"quint16\", np.uint16, 1)])\n",
      "/userhome/35/yqdeng/anaconda3/lib/python3.7/site-packages/tensorboard/compat/tensorflow_stub/dtypes.py:545: FutureWarning: Passing (type, 1) or '1type' as a synonym of type is deprecated; in a future version of numpy, it will be understood as (type, (1,)) / '(1,)type'.\n",
      "  _np_qint32 = np.dtype([(\"qint32\", np.int32, 1)])\n",
      "/userhome/35/yqdeng/anaconda3/lib/python3.7/site-packages/tensorboard/compat/tensorflow_stub/dtypes.py:550: FutureWarning: Passing (type, 1) or '1type' as a synonym of type is deprecated; in a future version of numpy, it will be understood as (type, (1,)) / '(1,)type'.\n",
      "  np_resource = np.dtype([(\"resource\", np.ubyte, 1)])\n",
      "Using TensorFlow backend.\n"
     ]
    }
   ],
   "source": [
    "############# Updated on 15/1/2021\n",
    "import pandas as pd\n",
    "import numpy as np\n",
    "import tensorflow as tf\n",
    "import keras.backend as K"
   ]
  },
  {
   "cell_type": "code",
   "execution_count": 2,
   "metadata": {},
   "outputs": [],
   "source": [
    "df_train = pd.read_csv('news_set/train(originalwrong).csv')  #[date, title,abstract,article]\n",
    "df_valid = pd.read_csv(\"news_set/validate(originalwrong).csv\")\n",
    "df_test = pd.read_csv(\"news_set/test(originalwrong).csv\")"
   ]
  },
  {
   "cell_type": "code",
   "execution_count": 3,
   "metadata": {},
   "outputs": [],
   "source": [
    "s_train = df_train['title'].values\n",
    "s_valid = df_valid['title'].values\n",
    "s_test = df_test['title'].values"
   ]
  },
  {
   "cell_type": "code",
   "execution_count": 4,
   "metadata": {},
   "outputs": [
    {
     "data": {
      "text/plain": [
       "((38454,), (13237,), (11712,))"
      ]
     },
     "execution_count": 4,
     "metadata": {},
     "output_type": "execute_result"
    }
   ],
   "source": [
    "s_train.shape,s_valid.shape,s_test.shape"
   ]
  },
  {
   "cell_type": "code",
   "execution_count": 5,
   "metadata": {},
   "outputs": [
    {
     "data": {
      "text/plain": [
       "(63403,)"
      ]
     },
     "execution_count": 5,
     "metadata": {},
     "output_type": "execute_result"
    }
   ],
   "source": [
    "s = np.r_[s_train,s_valid,s_test]\n",
    "s.shape"
   ]
  },
  {
   "cell_type": "code",
   "execution_count": 6,
   "metadata": {},
   "outputs": [
    {
     "data": {
      "text/plain": [
       "count                                                 63403\n",
       "unique                                                58508\n",
       "top       boeing expects to overtake airbus sales reports .\n",
       "freq                                                      2\n",
       "dtype: object"
      ]
     },
     "execution_count": 6,
     "metadata": {},
     "output_type": "execute_result"
    }
   ],
   "source": [
    "pd.Series(s).describe()"
   ]
  },
  {
   "cell_type": "code",
   "execution_count": 8,
   "metadata": {},
   "outputs": [],
   "source": [
    "x_train = pd.read_csv('news_set/train(originalwrong).csv').set_index('date')\n",
    "x_train = x_train['title'].groupby(x_train.index).apply(list).apply(pd.Series).fillna('')\n",
    "label = pd.read_csv('price_set/train_label(original wrong).csv').set_index('Date')"
   ]
  },
  {
   "cell_type": "code",
   "execution_count": 9,
   "metadata": {},
   "outputs": [
    {
     "data": {
      "text/html": [
       "<div>\n",
       "<style scoped>\n",
       "    .dataframe tbody tr th:only-of-type {\n",
       "        vertical-align: middle;\n",
       "    }\n",
       "\n",
       "    .dataframe tbody tr th {\n",
       "        vertical-align: top;\n",
       "    }\n",
       "\n",
       "    .dataframe thead th {\n",
       "        text-align: right;\n",
       "    }\n",
       "</style>\n",
       "<table border=\"1\" class=\"dataframe\">\n",
       "  <thead>\n",
       "    <tr style=\"text-align: right;\">\n",
       "      <th></th>\n",
       "      <th>0</th>\n",
       "      <th>1</th>\n",
       "      <th>2</th>\n",
       "      <th>3</th>\n",
       "      <th>4</th>\n",
       "      <th>5</th>\n",
       "      <th>6</th>\n",
       "      <th>7</th>\n",
       "      <th>8</th>\n",
       "      <th>9</th>\n",
       "      <th>...</th>\n",
       "      <th>94</th>\n",
       "      <th>95</th>\n",
       "      <th>96</th>\n",
       "      <th>97</th>\n",
       "      <th>98</th>\n",
       "      <th>99</th>\n",
       "      <th>100</th>\n",
       "      <th>101</th>\n",
       "      <th>102</th>\n",
       "      <th>103</th>\n",
       "    </tr>\n",
       "    <tr>\n",
       "      <th>date</th>\n",
       "      <th></th>\n",
       "      <th></th>\n",
       "      <th></th>\n",
       "      <th></th>\n",
       "      <th></th>\n",
       "      <th></th>\n",
       "      <th></th>\n",
       "      <th></th>\n",
       "      <th></th>\n",
       "      <th></th>\n",
       "      <th></th>\n",
       "      <th></th>\n",
       "      <th></th>\n",
       "      <th></th>\n",
       "      <th></th>\n",
       "      <th></th>\n",
       "      <th></th>\n",
       "      <th></th>\n",
       "      <th></th>\n",
       "      <th></th>\n",
       "      <th></th>\n",
       "    </tr>\n",
       "  </thead>\n",
       "  <tbody>\n",
       "    <tr>\n",
       "      <th>2006-10-20</th>\n",
       "      <td>exxon mobil offers plan to end alaska dispute .</td>\n",
       "      <td></td>\n",
       "      <td></td>\n",
       "      <td></td>\n",
       "      <td></td>\n",
       "      <td></td>\n",
       "      <td></td>\n",
       "      <td></td>\n",
       "      <td></td>\n",
       "      <td></td>\n",
       "      <td>...</td>\n",
       "      <td></td>\n",
       "      <td></td>\n",
       "      <td></td>\n",
       "      <td></td>\n",
       "      <td></td>\n",
       "      <td></td>\n",
       "      <td></td>\n",
       "      <td></td>\n",
       "      <td></td>\n",
       "      <td></td>\n",
       "    </tr>\n",
       "    <tr>\n",
       "      <th>2006-10-23</th>\n",
       "      <td>royal dutch bid for shell canada low sharehold...</td>\n",
       "      <td>dow ends at record high texas instruments off ...</td>\n",
       "      <td>shell looks to buy out canada unit for c xxx b...</td>\n",
       "      <td>ford is reviewing all products brands ceo .</td>\n",
       "      <td>at t earnings beat expectations .</td>\n",
       "      <td>ford won t sell ford credit .</td>\n",
       "      <td></td>\n",
       "      <td></td>\n",
       "      <td></td>\n",
       "      <td></td>\n",
       "      <td>...</td>\n",
       "      <td></td>\n",
       "      <td></td>\n",
       "      <td></td>\n",
       "      <td></td>\n",
       "      <td></td>\n",
       "      <td></td>\n",
       "      <td></td>\n",
       "      <td></td>\n",
       "      <td></td>\n",
       "      <td></td>\n",
       "    </tr>\n",
       "    <tr>\n",
       "      <th>2006-10-24</th>\n",
       "      <td>microsoft to start vista coupon plan for pc bu...</td>\n",
       "      <td>options scandal hits xxx companies us study .</td>\n",
       "      <td>u . s . tech stocks fall on texas instruments ...</td>\n",
       "      <td>ge wal mart shenzhen bank tie up on china cred...</td>\n",
       "      <td>lockheed martin ups forecast .</td>\n",
       "      <td>microsoft to defer xxx billion in sales to thi...</td>\n",
       "      <td>jim cramer bare escentuals allergan medicis av...</td>\n",
       "      <td>pepsico looks to new products acquisitions .</td>\n",
       "      <td>amazon profit beats expectations .</td>\n",
       "      <td>phelps dodge net doubles but off wall st . tar...</td>\n",
       "      <td>...</td>\n",
       "      <td></td>\n",
       "      <td></td>\n",
       "      <td></td>\n",
       "      <td></td>\n",
       "      <td></td>\n",
       "      <td></td>\n",
       "      <td></td>\n",
       "      <td></td>\n",
       "      <td></td>\n",
       "      <td></td>\n",
       "    </tr>\n",
       "    <tr>\n",
       "      <th>2006-10-25</th>\n",
       "      <td>boeing profit tops views but forecast disappoi...</td>\n",
       "      <td>u . s . stocks gain exxon and altria jump .</td>\n",
       "      <td>amazon profit beats forecasts .</td>\n",
       "      <td>honda q2 drops on finance losses yen lifts f c...</td>\n",
       "      <td>existing home sales fall for 6th straight month .</td>\n",
       "      <td>altria net hit by spain conwood lifts reynolds .</td>\n",
       "      <td>stocks seen up slightly after amazon results .</td>\n",
       "      <td>altria promises january details for kraft .</td>\n",
       "      <td>gm signals it is closer to labor deal with del...</td>\n",
       "      <td>gm posts profit but tough part of recovery loo...</td>\n",
       "      <td>...</td>\n",
       "      <td></td>\n",
       "      <td></td>\n",
       "      <td></td>\n",
       "      <td></td>\n",
       "      <td></td>\n",
       "      <td></td>\n",
       "      <td></td>\n",
       "      <td></td>\n",
       "      <td></td>\n",
       "      <td></td>\n",
       "    </tr>\n",
       "    <tr>\n",
       "      <th>2006-10-26</th>\n",
       "      <td>analysts sound note of caution on gm cash burn .</td>\n",
       "      <td>us airways reports loss after hedging .</td>\n",
       "      <td>comcast third quarter profit up on record subs...</td>\n",
       "      <td>microsoft profit rises 11 percent .</td>\n",
       "      <td>instant view 4 microsoft posts higher results .</td>\n",
       "      <td>dow chemical earnings rise on strong sales .</td>\n",
       "      <td>nissan us sales on track for oct double digit ...</td>\n",
       "      <td>us durable goods orders surge in september .</td>\n",
       "      <td>stocks gain on strong profits microsoft up late .</td>\n",
       "      <td>microsoft cfo says tender offer lowered outlook .</td>\n",
       "      <td>...</td>\n",
       "      <td></td>\n",
       "      <td></td>\n",
       "      <td></td>\n",
       "      <td></td>\n",
       "      <td></td>\n",
       "      <td></td>\n",
       "      <td></td>\n",
       "      <td></td>\n",
       "      <td></td>\n",
       "      <td></td>\n",
       "    </tr>\n",
       "    <tr>\n",
       "      <th>...</th>\n",
       "      <td>...</td>\n",
       "      <td>...</td>\n",
       "      <td>...</td>\n",
       "      <td>...</td>\n",
       "      <td>...</td>\n",
       "      <td>...</td>\n",
       "      <td>...</td>\n",
       "      <td>...</td>\n",
       "      <td>...</td>\n",
       "      <td>...</td>\n",
       "      <td>...</td>\n",
       "      <td>...</td>\n",
       "      <td>...</td>\n",
       "      <td>...</td>\n",
       "      <td>...</td>\n",
       "      <td>...</td>\n",
       "      <td>...</td>\n",
       "      <td>...</td>\n",
       "      <td>...</td>\n",
       "      <td>...</td>\n",
       "      <td>...</td>\n",
       "    </tr>\n",
       "    <tr>\n",
       "      <th>2012-07-17</th>\n",
       "      <td>bank of america wins initial approval of 20 mi...</td>\n",
       "      <td>german budget committee won t give guidance on...</td>\n",
       "      <td>intel s sales forecast falls short of some ana...</td>\n",
       "      <td>volkswagen wins france with financing peugeot ...</td>\n",
       "      <td>morgan stanley german chief notheis steps down...</td>\n",
       "      <td>bank of america syncora settle mortgage fraud ...</td>\n",
       "      <td>mali preparing military action to take control...</td>\n",
       "      <td>german property sale said to draw blackstone m...</td>\n",
       "      <td>defense industry says budget cuts may cost 2 m...</td>\n",
       "      <td>gross says u . s . nearing recession as blackr...</td>\n",
       "      <td>...</td>\n",
       "      <td></td>\n",
       "      <td></td>\n",
       "      <td></td>\n",
       "      <td></td>\n",
       "      <td></td>\n",
       "      <td></td>\n",
       "      <td></td>\n",
       "      <td></td>\n",
       "      <td></td>\n",
       "      <td></td>\n",
       "    </tr>\n",
       "    <tr>\n",
       "      <th>2012-07-18</th>\n",
       "      <td>u . s . bancorp sells xxx billion of bonds aft...</td>\n",
       "      <td>abbott profit tops estimates as humira drug sa...</td>\n",
       "      <td>turkey yields sink third day to 10 month low o...</td>\n",
       "      <td>brazil said to plan tax rate cuts to lower ene...</td>\n",
       "      <td>visa europe should match mastercard fee cut al...</td>\n",
       "      <td>thai beverage to pay s xxx billion for ocbc s ...</td>\n",
       "      <td>bernanke says inflation to remain near fed s 2...</td>\n",
       "      <td>franken questions facebook on facial recogniti...</td>\n",
       "      <td>a netflix for magazines comes to ipad rich jar...</td>\n",
       "      <td>france will miss xxx offshore wind capacity ta...</td>\n",
       "      <td>...</td>\n",
       "      <td></td>\n",
       "      <td></td>\n",
       "      <td></td>\n",
       "      <td></td>\n",
       "      <td></td>\n",
       "      <td></td>\n",
       "      <td></td>\n",
       "      <td></td>\n",
       "      <td></td>\n",
       "      <td></td>\n",
       "    </tr>\n",
       "    <tr>\n",
       "      <th>2012-07-19</th>\n",
       "      <td>morgan stanley cuts pay pool for investment ba...</td>\n",
       "      <td>citigroup sees charge on smith barney valuation .</td>\n",
       "      <td>kazakhstan isn t planning to limit grain expor...</td>\n",
       "      <td>philly fed contracts home sales fall .</td>\n",
       "      <td>aig scorned by old republic for insuring homes...</td>\n",
       "      <td>kit digital shares fall to month low in prague...</td>\n",
       "      <td>textron earnings soar past wall street target .</td>\n",
       "      <td>amr ceo said to tell suitor he won t be rushed...</td>\n",
       "      <td>exxon mobil said to sell fuel oil shipment to ...</td>\n",
       "      <td>russian weather center predicts southern rain ...</td>\n",
       "      <td>...</td>\n",
       "      <td></td>\n",
       "      <td></td>\n",
       "      <td></td>\n",
       "      <td></td>\n",
       "      <td></td>\n",
       "      <td></td>\n",
       "      <td></td>\n",
       "      <td></td>\n",
       "      <td></td>\n",
       "      <td></td>\n",
       "    </tr>\n",
       "    <tr>\n",
       "      <th>2012-07-20</th>\n",
       "      <td>nasdaq increases payout in facebook ipo to 62 ...</td>\n",
       "      <td>new sleeping pill thwarts brain s up all night...</td>\n",
       "      <td>acron agrees phosphate price with phosagro won...</td>\n",
       "      <td>eu wants google concessions for all platforms ...</td>\n",
       "      <td>ge second quarter profit tops wall street view .</td>\n",
       "      <td>nasdaq to unveil facebook compensation plan ne...</td>\n",
       "      <td>wall street week ahead apple facebook take the...</td>\n",
       "      <td>ups faces extended eu antitrust review over bi...</td>\n",
       "      <td>bank of america defends china s gdp data .</td>\n",
       "      <td>korea southern power to buy wood pellets for r...</td>\n",
       "      <td>...</td>\n",
       "      <td></td>\n",
       "      <td></td>\n",
       "      <td></td>\n",
       "      <td></td>\n",
       "      <td></td>\n",
       "      <td></td>\n",
       "      <td></td>\n",
       "      <td></td>\n",
       "      <td></td>\n",
       "      <td></td>\n",
       "    </tr>\n",
       "    <tr>\n",
       "      <th>2012-07-21</th>\n",
       "      <td>ecopetrol halts pumping at southern colombia w...</td>\n",
       "      <td>apple google s motorola unit each appeal paten...</td>\n",
       "      <td>credit suisse won t sell investment bank chair...</td>\n",
       "      <td>hollywood studios won t file box office sales ...</td>\n",
       "      <td>robot clears bombs from home of suspect in mov...</td>\n",
       "      <td>euro at 12 year low versus yen on crisis dolla...</td>\n",
       "      <td>at t cwa reach agreements in concept .</td>\n",
       "      <td>thome s home run no . xxx moves him into seven...</td>\n",
       "      <td>pfizer loses prempro ruling must pay xxx milli...</td>\n",
       "      <td>nasdaq boosts facebook compensation plan to 62...</td>\n",
       "      <td>...</td>\n",
       "      <td></td>\n",
       "      <td></td>\n",
       "      <td></td>\n",
       "      <td></td>\n",
       "      <td></td>\n",
       "      <td></td>\n",
       "      <td></td>\n",
       "      <td></td>\n",
       "      <td></td>\n",
       "      <td></td>\n",
       "    </tr>\n",
       "  </tbody>\n",
       "</table>\n",
       "<p>1994 rows × 104 columns</p>\n",
       "</div>"
      ],
      "text/plain": [
       "                                                          0    \\\n",
       "date                                                            \n",
       "2006-10-20    exxon mobil offers plan to end alaska dispute .   \n",
       "2006-10-23  royal dutch bid for shell canada low sharehold...   \n",
       "2006-10-24  microsoft to start vista coupon plan for pc bu...   \n",
       "2006-10-25  boeing profit tops views but forecast disappoi...   \n",
       "2006-10-26   analysts sound note of caution on gm cash burn .   \n",
       "...                                                       ...   \n",
       "2012-07-17  bank of america wins initial approval of 20 mi...   \n",
       "2012-07-18  u . s . bancorp sells xxx billion of bonds aft...   \n",
       "2012-07-19  morgan stanley cuts pay pool for investment ba...   \n",
       "2012-07-20  nasdaq increases payout in facebook ipo to 62 ...   \n",
       "2012-07-21  ecopetrol halts pumping at southern colombia w...   \n",
       "\n",
       "                                                          1    \\\n",
       "date                                                            \n",
       "2006-10-20                                                      \n",
       "2006-10-23  dow ends at record high texas instruments off ...   \n",
       "2006-10-24      options scandal hits xxx companies us study .   \n",
       "2006-10-25        u . s . stocks gain exxon and altria jump .   \n",
       "2006-10-26            us airways reports loss after hedging .   \n",
       "...                                                       ...   \n",
       "2012-07-17  german budget committee won t give guidance on...   \n",
       "2012-07-18  abbott profit tops estimates as humira drug sa...   \n",
       "2012-07-19  citigroup sees charge on smith barney valuation .   \n",
       "2012-07-20  new sleeping pill thwarts brain s up all night...   \n",
       "2012-07-21  apple google s motorola unit each appeal paten...   \n",
       "\n",
       "                                                          2    \\\n",
       "date                                                            \n",
       "2006-10-20                                                      \n",
       "2006-10-23  shell looks to buy out canada unit for c xxx b...   \n",
       "2006-10-24  u . s . tech stocks fall on texas instruments ...   \n",
       "2006-10-25                    amazon profit beats forecasts .   \n",
       "2006-10-26  comcast third quarter profit up on record subs...   \n",
       "...                                                       ...   \n",
       "2012-07-17  intel s sales forecast falls short of some ana...   \n",
       "2012-07-18  turkey yields sink third day to 10 month low o...   \n",
       "2012-07-19  kazakhstan isn t planning to limit grain expor...   \n",
       "2012-07-20  acron agrees phosphate price with phosagro won...   \n",
       "2012-07-21  credit suisse won t sell investment bank chair...   \n",
       "\n",
       "                                                          3    \\\n",
       "date                                                            \n",
       "2006-10-20                                                      \n",
       "2006-10-23        ford is reviewing all products brands ceo .   \n",
       "2006-10-24  ge wal mart shenzhen bank tie up on china cred...   \n",
       "2006-10-25  honda q2 drops on finance losses yen lifts f c...   \n",
       "2006-10-26                microsoft profit rises 11 percent .   \n",
       "...                                                       ...   \n",
       "2012-07-17  volkswagen wins france with financing peugeot ...   \n",
       "2012-07-18  brazil said to plan tax rate cuts to lower ene...   \n",
       "2012-07-19             philly fed contracts home sales fall .   \n",
       "2012-07-20  eu wants google concessions for all platforms ...   \n",
       "2012-07-21  hollywood studios won t file box office sales ...   \n",
       "\n",
       "                                                          4    \\\n",
       "date                                                            \n",
       "2006-10-20                                                      \n",
       "2006-10-23                  at t earnings beat expectations .   \n",
       "2006-10-24                     lockheed martin ups forecast .   \n",
       "2006-10-25  existing home sales fall for 6th straight month .   \n",
       "2006-10-26    instant view 4 microsoft posts higher results .   \n",
       "...                                                       ...   \n",
       "2012-07-17  morgan stanley german chief notheis steps down...   \n",
       "2012-07-18  visa europe should match mastercard fee cut al...   \n",
       "2012-07-19  aig scorned by old republic for insuring homes...   \n",
       "2012-07-20   ge second quarter profit tops wall street view .   \n",
       "2012-07-21  robot clears bombs from home of suspect in mov...   \n",
       "\n",
       "                                                          5    \\\n",
       "date                                                            \n",
       "2006-10-20                                                      \n",
       "2006-10-23                      ford won t sell ford credit .   \n",
       "2006-10-24  microsoft to defer xxx billion in sales to thi...   \n",
       "2006-10-25   altria net hit by spain conwood lifts reynolds .   \n",
       "2006-10-26       dow chemical earnings rise on strong sales .   \n",
       "...                                                       ...   \n",
       "2012-07-17  bank of america syncora settle mortgage fraud ...   \n",
       "2012-07-18  thai beverage to pay s xxx billion for ocbc s ...   \n",
       "2012-07-19  kit digital shares fall to month low in prague...   \n",
       "2012-07-20  nasdaq to unveil facebook compensation plan ne...   \n",
       "2012-07-21  euro at 12 year low versus yen on crisis dolla...   \n",
       "\n",
       "                                                          6    \\\n",
       "date                                                            \n",
       "2006-10-20                                                      \n",
       "2006-10-23                                                      \n",
       "2006-10-24  jim cramer bare escentuals allergan medicis av...   \n",
       "2006-10-25     stocks seen up slightly after amazon results .   \n",
       "2006-10-26  nissan us sales on track for oct double digit ...   \n",
       "...                                                       ...   \n",
       "2012-07-17  mali preparing military action to take control...   \n",
       "2012-07-18  bernanke says inflation to remain near fed s 2...   \n",
       "2012-07-19    textron earnings soar past wall street target .   \n",
       "2012-07-20  wall street week ahead apple facebook take the...   \n",
       "2012-07-21             at t cwa reach agreements in concept .   \n",
       "\n",
       "                                                          7    \\\n",
       "date                                                            \n",
       "2006-10-20                                                      \n",
       "2006-10-23                                                      \n",
       "2006-10-24       pepsico looks to new products acquisitions .   \n",
       "2006-10-25        altria promises january details for kraft .   \n",
       "2006-10-26       us durable goods orders surge in september .   \n",
       "...                                                       ...   \n",
       "2012-07-17  german property sale said to draw blackstone m...   \n",
       "2012-07-18  franken questions facebook on facial recogniti...   \n",
       "2012-07-19  amr ceo said to tell suitor he won t be rushed...   \n",
       "2012-07-20  ups faces extended eu antitrust review over bi...   \n",
       "2012-07-21  thome s home run no . xxx moves him into seven...   \n",
       "\n",
       "                                                          8    \\\n",
       "date                                                            \n",
       "2006-10-20                                                      \n",
       "2006-10-23                                                      \n",
       "2006-10-24                 amazon profit beats expectations .   \n",
       "2006-10-25  gm signals it is closer to labor deal with del...   \n",
       "2006-10-26  stocks gain on strong profits microsoft up late .   \n",
       "...                                                       ...   \n",
       "2012-07-17  defense industry says budget cuts may cost 2 m...   \n",
       "2012-07-18  a netflix for magazines comes to ipad rich jar...   \n",
       "2012-07-19  exxon mobil said to sell fuel oil shipment to ...   \n",
       "2012-07-20         bank of america defends china s gdp data .   \n",
       "2012-07-21  pfizer loses prempro ruling must pay xxx milli...   \n",
       "\n",
       "                                                          9    ... 94  95   \\\n",
       "date                                                           ...           \n",
       "2006-10-20                                                     ...           \n",
       "2006-10-23                                                     ...           \n",
       "2006-10-24  phelps dodge net doubles but off wall st . tar...  ...           \n",
       "2006-10-25  gm posts profit but tough part of recovery loo...  ...           \n",
       "2006-10-26  microsoft cfo says tender offer lowered outlook .  ...           \n",
       "...                                                       ...  ...  ..  ..   \n",
       "2012-07-17  gross says u . s . nearing recession as blackr...  ...           \n",
       "2012-07-18  france will miss xxx offshore wind capacity ta...  ...           \n",
       "2012-07-19  russian weather center predicts southern rain ...  ...           \n",
       "2012-07-20  korea southern power to buy wood pellets for r...  ...           \n",
       "2012-07-21  nasdaq boosts facebook compensation plan to 62...  ...           \n",
       "\n",
       "           96  97  98  99  100 101 102 103  \n",
       "date                                        \n",
       "2006-10-20                                  \n",
       "2006-10-23                                  \n",
       "2006-10-24                                  \n",
       "2006-10-25                                  \n",
       "2006-10-26                                  \n",
       "...         ..  ..  ..  ..  ..  ..  ..  ..  \n",
       "2012-07-17                                  \n",
       "2012-07-18                                  \n",
       "2012-07-19                                  \n",
       "2012-07-20                                  \n",
       "2012-07-21                                  \n",
       "\n",
       "[1994 rows x 104 columns]"
      ]
     },
     "execution_count": 9,
     "metadata": {},
     "output_type": "execute_result"
    }
   ],
   "source": [
    "x_train"
   ]
  },
  {
   "cell_type": "code",
   "execution_count": 10,
   "metadata": {},
   "outputs": [
    {
     "data": {
      "text/plain": [
       "((1994, 104), (1411, 1))"
      ]
     },
     "execution_count": 10,
     "metadata": {},
     "output_type": "execute_result"
    }
   ],
   "source": [
    "x_train.shape, label.shape"
   ]
  },
  {
   "cell_type": "code",
   "execution_count": 11,
   "metadata": {},
   "outputs": [],
   "source": [
    "from keras.preprocessing import text,sequence\n",
    "from keras.preprocessing.text import Tokenizer\n",
    "from keras.preprocessing.sequence import pad_sequences"
   ]
  },
  {
   "cell_type": "code",
   "execution_count": 12,
   "metadata": {},
   "outputs": [],
   "source": [
    "seed = 7\n",
    "np.random.seed(seed)\n",
    "tf.set_random_seed(seed)\n",
    "sess = tf.Session(graph = tf.get_default_graph())\n",
    "K.set_session(sess)"
   ]
  },
  {
   "cell_type": "code",
   "execution_count": 13,
   "metadata": {},
   "outputs": [],
   "source": [
    "tokenizer = Tokenizer(lower = True,filters='\\n\\t')\n",
    "tokenizer.fit_on_texts(s)"
   ]
  },
  {
   "cell_type": "code",
   "execution_count": 14,
   "metadata": {},
   "outputs": [
    {
     "name": "stdout",
     "output_type": "stream",
     "text": [
      "vocabulary size:24759\n"
     ]
    }
   ],
   "source": [
    "#######################@@@@@@@@@@@@@@@@@@@@@@@@@@@@@@@@@@@@@@@@@@@@@@@@@@@@@@@@@@@@@@@@@@@@@@@@@@@@@@@@Vocabulary size\n",
    "vocab_size = len(tokenizer.word_index)+1\n",
    "print('vocabulary size:{}'.format(vocab_size))  #vocabulary size:23364"
   ]
  },
  {
   "cell_type": "code",
   "execution_count": 15,
   "metadata": {},
   "outputs": [],
   "source": [
    "x_train= tokenizer.texts_to_sequences(s_train)\n",
    "x_valid= tokenizer.texts_to_sequences(s_valid)\n",
    "x_test= tokenizer.texts_to_sequences(s_test)\n",
    "x_all = tokenizer.texts_to_sequences(s)"
   ]
  },
  {
   "cell_type": "code",
   "execution_count": 16,
   "metadata": {},
   "outputs": [
    {
     "data": {
      "text/plain": [
       "(38454, 13237, 11712, 63403)"
      ]
     },
     "execution_count": 16,
     "metadata": {},
     "output_type": "execute_result"
    }
   ],
   "source": [
    "word_num_train = [] #word_num in each sentence\n",
    "word_num_valid = [] \n",
    "word_num_test = [] \n",
    "word_num_all = []   #word_num_all与其他不一样\n",
    "\n",
    "for i in range(len(x_train)):\n",
    "    word_num_train.append(len(x_train[i]))\n",
    "#word_num \n",
    "for i in range(len(x_valid)):\n",
    "    word_num_valid.append(len(x_valid[i]))\n",
    "\n",
    "for i in range(len(x_test)):\n",
    "    word_num_test.append(len(x_test[i]))\n",
    "\n",
    "for i in range(len(x_all)):\n",
    "    word_num_all.append(len(x_all[i]))\n",
    "\n",
    "\n",
    "\n",
    "len(word_num_train),len(word_num_valid),len(word_num_test),len(word_num_all)"
   ]
  },
  {
   "cell_type": "code",
   "execution_count": 17,
   "metadata": {},
   "outputs": [
    {
     "data": {
      "text/plain": [
       "([110, 881, 465, 81, 2, 171, 2324, 667, 1],\n",
       " 'exxon mobil offers plan to end alaska dispute .',\n",
       " 9)"
      ]
     },
     "execution_count": 17,
     "metadata": {},
     "output_type": "execute_result"
    }
   ],
   "source": [
    "x_train[0],s_train[0],len(x_train[0])"
   ]
  },
  {
   "cell_type": "code",
   "execution_count": 18,
   "metadata": {},
   "outputs": [],
   "source": [
    "############################################################################## Training set, Validation set, Test set statistics\n",
    "#word_num_train  #training set里面每个sentence的句子长度"
   ]
  },
  {
   "cell_type": "code",
   "execution_count": 19,
   "metadata": {},
   "outputs": [
    {
     "data": {
      "text/plain": [
       "count    38454.000000\n",
       "mean        11.078795\n",
       "std          2.369729\n",
       "min          4.000000\n",
       "25%          9.000000\n",
       "50%         11.000000\n",
       "75%         13.000000\n",
       "max         22.000000\n",
       "dtype: float64"
      ]
     },
     "execution_count": 19,
     "metadata": {},
     "output_type": "execute_result"
    }
   ],
   "source": [
    "pd.Series(word_num_train).describe()"
   ]
  },
  {
   "cell_type": "code",
   "execution_count": 20,
   "metadata": {},
   "outputs": [
    {
     "data": {
      "text/plain": [
       "count    13237.000000\n",
       "mean        11.127219\n",
       "std          1.834530\n",
       "min          4.000000\n",
       "25%         10.000000\n",
       "50%         11.000000\n",
       "75%         12.000000\n",
       "max         19.000000\n",
       "dtype: float64"
      ]
     },
     "execution_count": 20,
     "metadata": {},
     "output_type": "execute_result"
    }
   ],
   "source": [
    "pd.Series(word_num_valid).describe()"
   ]
  },
  {
   "cell_type": "code",
   "execution_count": 21,
   "metadata": {},
   "outputs": [
    {
     "data": {
      "text/plain": [
       "count    11712.000000\n",
       "mean        11.261783\n",
       "std          1.885941\n",
       "min          5.000000\n",
       "25%         10.000000\n",
       "50%         11.000000\n",
       "75%         12.000000\n",
       "max         19.000000\n",
       "dtype: float64"
      ]
     },
     "execution_count": 21,
     "metadata": {},
     "output_type": "execute_result"
    }
   ],
   "source": [
    "pd.Series(word_num_test).describe()"
   ]
  },
  {
   "cell_type": "code",
   "execution_count": 22,
   "metadata": {},
   "outputs": [
    {
     "data": {
      "text/plain": [
       "count    63403.000000\n",
       "mean        11.122707\n",
       "std          2.184068\n",
       "min          4.000000\n",
       "25%         10.000000\n",
       "50%         11.000000\n",
       "75%         13.000000\n",
       "max         22.000000\n",
       "dtype: float64"
      ]
     },
     "execution_count": 22,
     "metadata": {},
     "output_type": "execute_result"
    }
   ],
   "source": [
    "pd.Series(word_num_all).describe()"
   ]
  },
  {
   "cell_type": "code",
   "execution_count": 23,
   "metadata": {},
   "outputs": [
    {
     "data": {
      "text/plain": [
       "count    63403.000000\n",
       "mean        58.866710\n",
       "std          9.296794\n",
       "min         19.000000\n",
       "25%         53.000000\n",
       "50%         59.000000\n",
       "75%         64.000000\n",
       "max         92.000000\n",
       "dtype: float64"
      ]
     },
     "execution_count": 23,
     "metadata": {},
     "output_type": "execute_result"
    }
   ],
   "source": [
    "word_num_all = []\n",
    "s_list = list(s)\n",
    "for i in range(len(s_list)):\n",
    "    word_num_all.append(len(s_list[i]))\n",
    "\n",
    "pd.Series(word_num_all).describe()"
   ]
  },
  {
   "cell_type": "code",
   "execution_count": 24,
   "metadata": {},
   "outputs": [
    {
     "data": {
      "image/png": "[encoded data removed]",
      "text/plain": [
       "<Figure size 432x288 with 1 Axes>"
      ]
     },
     "metadata": {
      "needs_background": "light"
     },
     "output_type": "display_data"
    }
   ],
   "source": [
    "import seaborn as sns\n",
    "import matplotlib.pyplot as plt\n",
    "\n",
    "sns.distplot(word_num_train, bins=15)\n",
    "plt.show()"
   ]
  },
  {
   "cell_type": "code",
   "execution_count": 25,
   "metadata": {},
   "outputs": [
    {
     "data": {
      "image/png": "[encoded data removed]",
      "text/plain": [
       "<Figure size 432x288 with 1 Axes>"
      ]
     },
     "metadata": {
      "needs_background": "light"
     },
     "output_type": "display_data"
    }
   ],
   "source": [
    "sns.distplot(word_num_valid, bins=15)\n",
    "plt.show()"
   ]
  },
  {
   "cell_type": "code",
   "execution_count": 26,
   "metadata": {},
   "outputs": [
    {
     "data": {
      "image/png": "[encoded data removed]",
      "text/plain": [
       "<Figure size 432x288 with 1 Axes>"
      ]
     },
     "metadata": {
      "needs_background": "light"
     },
     "output_type": "display_data"
    }
   ],
   "source": [
    "sns.distplot(word_num_test, bins=15)\n",
    "plt.show()"
   ]
  },
  {
   "cell_type": "code",
   "execution_count": 27,
   "metadata": {},
   "outputs": [
    {
     "data": {
      "image/png": "[encoded data removed]",
      "text/plain": [
       "<Figure size 432x288 with 1 Axes>"
      ]
     },
     "metadata": {
      "needs_background": "light"
     },
     "output_type": "display_data"
    }
   ],
   "source": [
    "sns.distplot(word_num_all, bins=15)\n",
    "plt.show()"
   ]
  },
  {
   "cell_type": "code",
   "execution_count": 30,
   "metadata": {},
   "outputs": [
    {
     "data": {
      "text/plain": [
       "('u . s . yield is two basis points from the month s low on u . s . growth outlook .',\n",
       " [13,\n",
       "  1,\n",
       "  3,\n",
       "  1,\n",
       "  198,\n",
       "  96,\n",
       "  64,\n",
       "  2500,\n",
       "  1659,\n",
       "  28,\n",
       "  79,\n",
       "  18,\n",
       "  3,\n",
       "  8,\n",
       "  5,\n",
       "  13,\n",
       "  1,\n",
       "  3,\n",
       "  1,\n",
       "  66,\n",
       "  124,\n",
       "  1],\n",
       " 22)"
      ]
     },
     "execution_count": 30,
     "metadata": {},
     "output_type": "execute_result"
    }
   ],
   "source": [
    "word_num_train.index(max(word_num_train))\n",
    "s_train[22634],x_train[22634],word_num_train[22634]"
   ]
  },
  {
   "cell_type": "code",
   "execution_count": 35,
   "metadata": {},
   "outputs": [
    {
     "data": {
      "text/plain": [
       "(19, 19, 92)"
      ]
     },
     "execution_count": 35,
     "metadata": {},
     "output_type": "execute_result"
    }
   ],
   "source": [
    "word_num_test.index(max(word_num_test))\n",
    "word_num_valid[532],word_num_test[2472],word_num_all[41465]"
   ]
  },
  {
   "cell_type": "code",
   "execution_count": 36,
   "metadata": {},
   "outputs": [
    {
     "data": {
      "text/plain": [
       "('u . k . gilt yields fall to fresh record low after u . s . jobs report .',\n",
       " [13, 1, 121, 1, 3196, 91, 43, 2, 2389, 46, 8, 23, 13, 1, 3, 1, 117, 61, 1],\n",
       " 19)"
      ]
     },
     "execution_count": 36,
     "metadata": {},
     "output_type": "execute_result"
    }
   ],
   "source": [
    "#word_num_valid.index(max(word_num_valid))\n",
    "s_valid[532],x_valid[532],word_num_valid[532]"
   ]
  },
  {
   "cell_type": "code",
   "execution_count": 38,
   "metadata": {},
   "outputs": [
    {
     "data": {
      "text/plain": [
       "('samsung sold xxx million smartphones in second quarter almost twice what apple sold report .',\n",
       " [170, 934, 7, 39, 2118, 4, 217, 97, 702, 4479, 725, 17, 934, 61, 1],\n",
       " 92,\n",
       " 92)"
      ]
     },
     "execution_count": 38,
     "metadata": {},
     "output_type": "execute_result"
    }
   ],
   "source": [
    "word_num_all.index(max(word_num_all))\n",
    "s[41465],x_all[41465],word_num_all[41465],len(s[41465])######### word_num_all 不等于 s"
   ]
  },
  {
   "cell_type": "code",
   "execution_count": null,
   "metadata": {},
   "outputs": [],
   "source": []
  }
 ],
 "metadata": {
  "kernelspec": {
   "display_name": "Python 3",
   "language": "python",
   "name": "python3"
  },
  "language_info": {
   "codemirror_mode": {
    "name": "ipython",
    "version": 3
   },
   "file_extension": ".py",
   "mimetype": "text/x-python",
   "name": "python",
   "nbconvert_exporter": "python",
   "pygments_lexer": "ipython3",
   "version": "3.7.6"
  }
 },
 "nbformat": 4,
 "nbformat_minor": 4
}
