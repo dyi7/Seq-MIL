{
 "cells": [
  {
   "cell_type": "code",
   "execution_count": 1,
   "metadata": {},
   "outputs": [],
   "source": [
    "import pandas as pd\n",
    "import numpy as np\n",
    "import matplotlib.pyplot as plt\n",
    "from datetime import datetime\n",
    "import matplotlib.dates as mdates\n",
    "from matplotlib.dates import DateFormatter, WeekdayLocator, DayLocator, MONDAY,YEARLY"
   ]
  },
  {
   "cell_type": "code",
   "execution_count": 2,
   "metadata": {},
   "outputs": [],
   "source": [
    "x_train = pd.read_csv('news_set/train(originalwrong).csv').set_index('date')\n",
    "#x_valid = pd.read_csv('news_set/validate(originalwrong).csv').set_index('date')\n",
    "#x_test = pd.read_csv('news_set/test(originalwrong).csv').set_index('date')\n",
    "x_train = x_train['title'].groupby(x_train.index).apply(list).apply(pd.Series)#.fillna('')\n",
    "#x_valid = x_valid['title'].groupby(x_valid.index).apply(list).apply(pd.Series).fillna('')\n",
    "#x_test = x_test['title'].groupby(x_test.index).apply(list).apply(pd.Series).fillna('')\n",
    "#label = pd.read_csv('price_set/train_label(original wrong).csv').set_index('Date')\n",
    "#y_train = label['Close'].values"
   ]
  },
  {
   "cell_type": "code",
   "execution_count": null,
   "metadata": {},
   "outputs": [],
   "source": []
  },
  {
   "cell_type": "markdown",
   "metadata": {},
   "source": [
    "news uncertainty in news amount"
   ]
  },
  {
   "cell_type": "code",
   "execution_count": 3,
   "metadata": {},
   "outputs": [
    {
     "data": {
      "text/html": [
       "<div>\n",
       "<style scoped>\n",
       "    .dataframe tbody tr th:only-of-type {\n",
       "        vertical-align: middle;\n",
       "    }\n",
       "\n",
       "    .dataframe tbody tr th {\n",
       "        vertical-align: top;\n",
       "    }\n",
       "\n",
       "    .dataframe thead th {\n",
       "        text-align: right;\n",
       "    }\n",
       "</style>\n",
       "<table border=\"1\" class=\"dataframe\">\n",
       "  <thead>\n",
       "    <tr style=\"text-align: right;\">\n",
       "      <th></th>\n",
       "      <th>0</th>\n",
       "      <th>1</th>\n",
       "      <th>2</th>\n",
       "      <th>3</th>\n",
       "      <th>4</th>\n",
       "      <th>5</th>\n",
       "      <th>6</th>\n",
       "      <th>7</th>\n",
       "      <th>8</th>\n",
       "      <th>9</th>\n",
       "      <th>...</th>\n",
       "      <th>94</th>\n",
       "      <th>95</th>\n",
       "      <th>96</th>\n",
       "      <th>97</th>\n",
       "      <th>98</th>\n",
       "      <th>99</th>\n",
       "      <th>100</th>\n",
       "      <th>101</th>\n",
       "      <th>102</th>\n",
       "      <th>103</th>\n",
       "    </tr>\n",
       "    <tr>\n",
       "      <th>date</th>\n",
       "      <th></th>\n",
       "      <th></th>\n",
       "      <th></th>\n",
       "      <th></th>\n",
       "      <th></th>\n",
       "      <th></th>\n",
       "      <th></th>\n",
       "      <th></th>\n",
       "      <th></th>\n",
       "      <th></th>\n",
       "      <th></th>\n",
       "      <th></th>\n",
       "      <th></th>\n",
       "      <th></th>\n",
       "      <th></th>\n",
       "      <th></th>\n",
       "      <th></th>\n",
       "      <th></th>\n",
       "      <th></th>\n",
       "      <th></th>\n",
       "      <th></th>\n",
       "    </tr>\n",
       "  </thead>\n",
       "  <tbody>\n",
       "    <tr>\n",
       "      <th>2006-10-20</th>\n",
       "      <td>exxon mobil offers plan to end alaska dispute .</td>\n",
       "      <td>NaN</td>\n",
       "      <td>NaN</td>\n",
       "      <td>NaN</td>\n",
       "      <td>NaN</td>\n",
       "      <td>NaN</td>\n",
       "      <td>NaN</td>\n",
       "      <td>NaN</td>\n",
       "      <td>NaN</td>\n",
       "      <td>NaN</td>\n",
       "      <td>...</td>\n",
       "      <td>NaN</td>\n",
       "      <td>NaN</td>\n",
       "      <td>NaN</td>\n",
       "      <td>NaN</td>\n",
       "      <td>NaN</td>\n",
       "      <td>NaN</td>\n",
       "      <td>NaN</td>\n",
       "      <td>NaN</td>\n",
       "      <td>NaN</td>\n",
       "      <td>NaN</td>\n",
       "    </tr>\n",
       "    <tr>\n",
       "      <th>2006-10-23</th>\n",
       "      <td>royal dutch bid for shell canada low sharehold...</td>\n",
       "      <td>dow ends at record high texas instruments off ...</td>\n",
       "      <td>shell looks to buy out canada unit for c xxx b...</td>\n",
       "      <td>ford is reviewing all products brands ceo .</td>\n",
       "      <td>at t earnings beat expectations .</td>\n",
       "      <td>ford won t sell ford credit .</td>\n",
       "      <td>NaN</td>\n",
       "      <td>NaN</td>\n",
       "      <td>NaN</td>\n",
       "      <td>NaN</td>\n",
       "      <td>...</td>\n",
       "      <td>NaN</td>\n",
       "      <td>NaN</td>\n",
       "      <td>NaN</td>\n",
       "      <td>NaN</td>\n",
       "      <td>NaN</td>\n",
       "      <td>NaN</td>\n",
       "      <td>NaN</td>\n",
       "      <td>NaN</td>\n",
       "      <td>NaN</td>\n",
       "      <td>NaN</td>\n",
       "    </tr>\n",
       "    <tr>\n",
       "      <th>2006-10-24</th>\n",
       "      <td>microsoft to start vista coupon plan for pc bu...</td>\n",
       "      <td>options scandal hits xxx companies us study .</td>\n",
       "      <td>u . s . tech stocks fall on texas instruments ...</td>\n",
       "      <td>ge wal mart shenzhen bank tie up on china cred...</td>\n",
       "      <td>lockheed martin ups forecast .</td>\n",
       "      <td>microsoft to defer xxx billion in sales to thi...</td>\n",
       "      <td>jim cramer bare escentuals allergan medicis av...</td>\n",
       "      <td>pepsico looks to new products acquisitions .</td>\n",
       "      <td>amazon profit beats expectations .</td>\n",
       "      <td>phelps dodge net doubles but off wall st . tar...</td>\n",
       "      <td>...</td>\n",
       "      <td>NaN</td>\n",
       "      <td>NaN</td>\n",
       "      <td>NaN</td>\n",
       "      <td>NaN</td>\n",
       "      <td>NaN</td>\n",
       "      <td>NaN</td>\n",
       "      <td>NaN</td>\n",
       "      <td>NaN</td>\n",
       "      <td>NaN</td>\n",
       "      <td>NaN</td>\n",
       "    </tr>\n",
       "    <tr>\n",
       "      <th>2006-10-25</th>\n",
       "      <td>boeing profit tops views but forecast disappoi...</td>\n",
       "      <td>u . s . stocks gain exxon and altria jump .</td>\n",
       "      <td>amazon profit beats forecasts .</td>\n",
       "      <td>honda q2 drops on finance losses yen lifts f c...</td>\n",
       "      <td>existing home sales fall for 6th straight month .</td>\n",
       "      <td>altria net hit by spain conwood lifts reynolds .</td>\n",
       "      <td>stocks seen up slightly after amazon results .</td>\n",
       "      <td>altria promises january details for kraft .</td>\n",
       "      <td>gm signals it is closer to labor deal with del...</td>\n",
       "      <td>gm posts profit but tough part of recovery loo...</td>\n",
       "      <td>...</td>\n",
       "      <td>NaN</td>\n",
       "      <td>NaN</td>\n",
       "      <td>NaN</td>\n",
       "      <td>NaN</td>\n",
       "      <td>NaN</td>\n",
       "      <td>NaN</td>\n",
       "      <td>NaN</td>\n",
       "      <td>NaN</td>\n",
       "      <td>NaN</td>\n",
       "      <td>NaN</td>\n",
       "    </tr>\n",
       "    <tr>\n",
       "      <th>2006-10-26</th>\n",
       "      <td>analysts sound note of caution on gm cash burn .</td>\n",
       "      <td>us airways reports loss after hedging .</td>\n",
       "      <td>comcast third quarter profit up on record subs...</td>\n",
       "      <td>microsoft profit rises 11 percent .</td>\n",
       "      <td>instant view 4 microsoft posts higher results .</td>\n",
       "      <td>dow chemical earnings rise on strong sales .</td>\n",
       "      <td>nissan us sales on track for oct double digit ...</td>\n",
       "      <td>us durable goods orders surge in september .</td>\n",
       "      <td>stocks gain on strong profits microsoft up late .</td>\n",
       "      <td>microsoft cfo says tender offer lowered outlook .</td>\n",
       "      <td>...</td>\n",
       "      <td>NaN</td>\n",
       "      <td>NaN</td>\n",
       "      <td>NaN</td>\n",
       "      <td>NaN</td>\n",
       "      <td>NaN</td>\n",
       "      <td>NaN</td>\n",
       "      <td>NaN</td>\n",
       "      <td>NaN</td>\n",
       "      <td>NaN</td>\n",
       "      <td>NaN</td>\n",
       "    </tr>\n",
       "    <tr>\n",
       "      <th>...</th>\n",
       "      <td>...</td>\n",
       "      <td>...</td>\n",
       "      <td>...</td>\n",
       "      <td>...</td>\n",
       "      <td>...</td>\n",
       "      <td>...</td>\n",
       "      <td>...</td>\n",
       "      <td>...</td>\n",
       "      <td>...</td>\n",
       "      <td>...</td>\n",
       "      <td>...</td>\n",
       "      <td>...</td>\n",
       "      <td>...</td>\n",
       "      <td>...</td>\n",
       "      <td>...</td>\n",
       "      <td>...</td>\n",
       "      <td>...</td>\n",
       "      <td>...</td>\n",
       "      <td>...</td>\n",
       "      <td>...</td>\n",
       "      <td>...</td>\n",
       "    </tr>\n",
       "    <tr>\n",
       "      <th>2012-07-17</th>\n",
       "      <td>bank of america wins initial approval of 20 mi...</td>\n",
       "      <td>german budget committee won t give guidance on...</td>\n",
       "      <td>intel s sales forecast falls short of some ana...</td>\n",
       "      <td>volkswagen wins france with financing peugeot ...</td>\n",
       "      <td>morgan stanley german chief notheis steps down...</td>\n",
       "      <td>bank of america syncora settle mortgage fraud ...</td>\n",
       "      <td>mali preparing military action to take control...</td>\n",
       "      <td>german property sale said to draw blackstone m...</td>\n",
       "      <td>defense industry says budget cuts may cost 2 m...</td>\n",
       "      <td>gross says u . s . nearing recession as blackr...</td>\n",
       "      <td>...</td>\n",
       "      <td>NaN</td>\n",
       "      <td>NaN</td>\n",
       "      <td>NaN</td>\n",
       "      <td>NaN</td>\n",
       "      <td>NaN</td>\n",
       "      <td>NaN</td>\n",
       "      <td>NaN</td>\n",
       "      <td>NaN</td>\n",
       "      <td>NaN</td>\n",
       "      <td>NaN</td>\n",
       "    </tr>\n",
       "    <tr>\n",
       "      <th>2012-07-18</th>\n",
       "      <td>u . s . bancorp sells xxx billion of bonds aft...</td>\n",
       "      <td>abbott profit tops estimates as humira drug sa...</td>\n",
       "      <td>turkey yields sink third day to 10 month low o...</td>\n",
       "      <td>brazil said to plan tax rate cuts to lower ene...</td>\n",
       "      <td>visa europe should match mastercard fee cut al...</td>\n",
       "      <td>thai beverage to pay s xxx billion for ocbc s ...</td>\n",
       "      <td>bernanke says inflation to remain near fed s 2...</td>\n",
       "      <td>franken questions facebook on facial recogniti...</td>\n",
       "      <td>a netflix for magazines comes to ipad rich jar...</td>\n",
       "      <td>france will miss xxx offshore wind capacity ta...</td>\n",
       "      <td>...</td>\n",
       "      <td>NaN</td>\n",
       "      <td>NaN</td>\n",
       "      <td>NaN</td>\n",
       "      <td>NaN</td>\n",
       "      <td>NaN</td>\n",
       "      <td>NaN</td>\n",
       "      <td>NaN</td>\n",
       "      <td>NaN</td>\n",
       "      <td>NaN</td>\n",
       "      <td>NaN</td>\n",
       "    </tr>\n",
       "    <tr>\n",
       "      <th>2012-07-19</th>\n",
       "      <td>morgan stanley cuts pay pool for investment ba...</td>\n",
       "      <td>citigroup sees charge on smith barney valuation .</td>\n",
       "      <td>kazakhstan isn t planning to limit grain expor...</td>\n",
       "      <td>philly fed contracts home sales fall .</td>\n",
       "      <td>aig scorned by old republic for insuring homes...</td>\n",
       "      <td>kit digital shares fall to month low in prague...</td>\n",
       "      <td>textron earnings soar past wall street target .</td>\n",
       "      <td>amr ceo said to tell suitor he won t be rushed...</td>\n",
       "      <td>exxon mobil said to sell fuel oil shipment to ...</td>\n",
       "      <td>russian weather center predicts southern rain ...</td>\n",
       "      <td>...</td>\n",
       "      <td>NaN</td>\n",
       "      <td>NaN</td>\n",
       "      <td>NaN</td>\n",
       "      <td>NaN</td>\n",
       "      <td>NaN</td>\n",
       "      <td>NaN</td>\n",
       "      <td>NaN</td>\n",
       "      <td>NaN</td>\n",
       "      <td>NaN</td>\n",
       "      <td>NaN</td>\n",
       "    </tr>\n",
       "    <tr>\n",
       "      <th>2012-07-20</th>\n",
       "      <td>nasdaq increases payout in facebook ipo to 62 ...</td>\n",
       "      <td>new sleeping pill thwarts brain s up all night...</td>\n",
       "      <td>acron agrees phosphate price with phosagro won...</td>\n",
       "      <td>eu wants google concessions for all platforms ...</td>\n",
       "      <td>ge second quarter profit tops wall street view .</td>\n",
       "      <td>nasdaq to unveil facebook compensation plan ne...</td>\n",
       "      <td>wall street week ahead apple facebook take the...</td>\n",
       "      <td>ups faces extended eu antitrust review over bi...</td>\n",
       "      <td>bank of america defends china s gdp data .</td>\n",
       "      <td>korea southern power to buy wood pellets for r...</td>\n",
       "      <td>...</td>\n",
       "      <td>NaN</td>\n",
       "      <td>NaN</td>\n",
       "      <td>NaN</td>\n",
       "      <td>NaN</td>\n",
       "      <td>NaN</td>\n",
       "      <td>NaN</td>\n",
       "      <td>NaN</td>\n",
       "      <td>NaN</td>\n",
       "      <td>NaN</td>\n",
       "      <td>NaN</td>\n",
       "    </tr>\n",
       "    <tr>\n",
       "      <th>2012-07-21</th>\n",
       "      <td>ecopetrol halts pumping at southern colombia w...</td>\n",
       "      <td>apple google s motorola unit each appeal paten...</td>\n",
       "      <td>credit suisse won t sell investment bank chair...</td>\n",
       "      <td>hollywood studios won t file box office sales ...</td>\n",
       "      <td>robot clears bombs from home of suspect in mov...</td>\n",
       "      <td>euro at 12 year low versus yen on crisis dolla...</td>\n",
       "      <td>at t cwa reach agreements in concept .</td>\n",
       "      <td>thome s home run no . xxx moves him into seven...</td>\n",
       "      <td>pfizer loses prempro ruling must pay xxx milli...</td>\n",
       "      <td>nasdaq boosts facebook compensation plan to 62...</td>\n",
       "      <td>...</td>\n",
       "      <td>NaN</td>\n",
       "      <td>NaN</td>\n",
       "      <td>NaN</td>\n",
       "      <td>NaN</td>\n",
       "      <td>NaN</td>\n",
       "      <td>NaN</td>\n",
       "      <td>NaN</td>\n",
       "      <td>NaN</td>\n",
       "      <td>NaN</td>\n",
       "      <td>NaN</td>\n",
       "    </tr>\n",
       "  </tbody>\n",
       "</table>\n",
       "<p>1994 rows × 104 columns</p>\n",
       "</div>"
      ],
      "text/plain": [
       "                                                          0    \\\n",
       "date                                                            \n",
       "2006-10-20    exxon mobil offers plan to end alaska dispute .   \n",
       "2006-10-23  royal dutch bid for shell canada low sharehold...   \n",
       "2006-10-24  microsoft to start vista coupon plan for pc bu...   \n",
       "2006-10-25  boeing profit tops views but forecast disappoi...   \n",
       "2006-10-26   analysts sound note of caution on gm cash burn .   \n",
       "...                                                       ...   \n",
       "2012-07-17  bank of america wins initial approval of 20 mi...   \n",
       "2012-07-18  u . s . bancorp sells xxx billion of bonds aft...   \n",
       "2012-07-19  morgan stanley cuts pay pool for investment ba...   \n",
       "2012-07-20  nasdaq increases payout in facebook ipo to 62 ...   \n",
       "2012-07-21  ecopetrol halts pumping at southern colombia w...   \n",
       "\n",
       "                                                          1    \\\n",
       "date                                                            \n",
       "2006-10-20                                                NaN   \n",
       "2006-10-23  dow ends at record high texas instruments off ...   \n",
       "2006-10-24      options scandal hits xxx companies us study .   \n",
       "2006-10-25        u . s . stocks gain exxon and altria jump .   \n",
       "2006-10-26            us airways reports loss after hedging .   \n",
       "...                                                       ...   \n",
       "2012-07-17  german budget committee won t give guidance on...   \n",
       "2012-07-18  abbott profit tops estimates as humira drug sa...   \n",
       "2012-07-19  citigroup sees charge on smith barney valuation .   \n",
       "2012-07-20  new sleeping pill thwarts brain s up all night...   \n",
       "2012-07-21  apple google s motorola unit each appeal paten...   \n",
       "\n",
       "                                                          2    \\\n",
       "date                                                            \n",
       "2006-10-20                                                NaN   \n",
       "2006-10-23  shell looks to buy out canada unit for c xxx b...   \n",
       "2006-10-24  u . s . tech stocks fall on texas instruments ...   \n",
       "2006-10-25                    amazon profit beats forecasts .   \n",
       "2006-10-26  comcast third quarter profit up on record subs...   \n",
       "...                                                       ...   \n",
       "2012-07-17  intel s sales forecast falls short of some ana...   \n",
       "2012-07-18  turkey yields sink third day to 10 month low o...   \n",
       "2012-07-19  kazakhstan isn t planning to limit grain expor...   \n",
       "2012-07-20  acron agrees phosphate price with phosagro won...   \n",
       "2012-07-21  credit suisse won t sell investment bank chair...   \n",
       "\n",
       "                                                          3    \\\n",
       "date                                                            \n",
       "2006-10-20                                                NaN   \n",
       "2006-10-23        ford is reviewing all products brands ceo .   \n",
       "2006-10-24  ge wal mart shenzhen bank tie up on china cred...   \n",
       "2006-10-25  honda q2 drops on finance losses yen lifts f c...   \n",
       "2006-10-26                microsoft profit rises 11 percent .   \n",
       "...                                                       ...   \n",
       "2012-07-17  volkswagen wins france with financing peugeot ...   \n",
       "2012-07-18  brazil said to plan tax rate cuts to lower ene...   \n",
       "2012-07-19             philly fed contracts home sales fall .   \n",
       "2012-07-20  eu wants google concessions for all platforms ...   \n",
       "2012-07-21  hollywood studios won t file box office sales ...   \n",
       "\n",
       "                                                          4    \\\n",
       "date                                                            \n",
       "2006-10-20                                                NaN   \n",
       "2006-10-23                  at t earnings beat expectations .   \n",
       "2006-10-24                     lockheed martin ups forecast .   \n",
       "2006-10-25  existing home sales fall for 6th straight month .   \n",
       "2006-10-26    instant view 4 microsoft posts higher results .   \n",
       "...                                                       ...   \n",
       "2012-07-17  morgan stanley german chief notheis steps down...   \n",
       "2012-07-18  visa europe should match mastercard fee cut al...   \n",
       "2012-07-19  aig scorned by old republic for insuring homes...   \n",
       "2012-07-20   ge second quarter profit tops wall street view .   \n",
       "2012-07-21  robot clears bombs from home of suspect in mov...   \n",
       "\n",
       "                                                          5    \\\n",
       "date                                                            \n",
       "2006-10-20                                                NaN   \n",
       "2006-10-23                      ford won t sell ford credit .   \n",
       "2006-10-24  microsoft to defer xxx billion in sales to thi...   \n",
       "2006-10-25   altria net hit by spain conwood lifts reynolds .   \n",
       "2006-10-26       dow chemical earnings rise on strong sales .   \n",
       "...                                                       ...   \n",
       "2012-07-17  bank of america syncora settle mortgage fraud ...   \n",
       "2012-07-18  thai beverage to pay s xxx billion for ocbc s ...   \n",
       "2012-07-19  kit digital shares fall to month low in prague...   \n",
       "2012-07-20  nasdaq to unveil facebook compensation plan ne...   \n",
       "2012-07-21  euro at 12 year low versus yen on crisis dolla...   \n",
       "\n",
       "                                                          6    \\\n",
       "date                                                            \n",
       "2006-10-20                                                NaN   \n",
       "2006-10-23                                                NaN   \n",
       "2006-10-24  jim cramer bare escentuals allergan medicis av...   \n",
       "2006-10-25     stocks seen up slightly after amazon results .   \n",
       "2006-10-26  nissan us sales on track for oct double digit ...   \n",
       "...                                                       ...   \n",
       "2012-07-17  mali preparing military action to take control...   \n",
       "2012-07-18  bernanke says inflation to remain near fed s 2...   \n",
       "2012-07-19    textron earnings soar past wall street target .   \n",
       "2012-07-20  wall street week ahead apple facebook take the...   \n",
       "2012-07-21             at t cwa reach agreements in concept .   \n",
       "\n",
       "                                                          7    \\\n",
       "date                                                            \n",
       "2006-10-20                                                NaN   \n",
       "2006-10-23                                                NaN   \n",
       "2006-10-24       pepsico looks to new products acquisitions .   \n",
       "2006-10-25        altria promises january details for kraft .   \n",
       "2006-10-26       us durable goods orders surge in september .   \n",
       "...                                                       ...   \n",
       "2012-07-17  german property sale said to draw blackstone m...   \n",
       "2012-07-18  franken questions facebook on facial recogniti...   \n",
       "2012-07-19  amr ceo said to tell suitor he won t be rushed...   \n",
       "2012-07-20  ups faces extended eu antitrust review over bi...   \n",
       "2012-07-21  thome s home run no . xxx moves him into seven...   \n",
       "\n",
       "                                                          8    \\\n",
       "date                                                            \n",
       "2006-10-20                                                NaN   \n",
       "2006-10-23                                                NaN   \n",
       "2006-10-24                 amazon profit beats expectations .   \n",
       "2006-10-25  gm signals it is closer to labor deal with del...   \n",
       "2006-10-26  stocks gain on strong profits microsoft up late .   \n",
       "...                                                       ...   \n",
       "2012-07-17  defense industry says budget cuts may cost 2 m...   \n",
       "2012-07-18  a netflix for magazines comes to ipad rich jar...   \n",
       "2012-07-19  exxon mobil said to sell fuel oil shipment to ...   \n",
       "2012-07-20         bank of america defends china s gdp data .   \n",
       "2012-07-21  pfizer loses prempro ruling must pay xxx milli...   \n",
       "\n",
       "                                                          9    ...  94   95   \\\n",
       "date                                                           ...             \n",
       "2006-10-20                                                NaN  ...  NaN  NaN   \n",
       "2006-10-23                                                NaN  ...  NaN  NaN   \n",
       "2006-10-24  phelps dodge net doubles but off wall st . tar...  ...  NaN  NaN   \n",
       "2006-10-25  gm posts profit but tough part of recovery loo...  ...  NaN  NaN   \n",
       "2006-10-26  microsoft cfo says tender offer lowered outlook .  ...  NaN  NaN   \n",
       "...                                                       ...  ...  ...  ...   \n",
       "2012-07-17  gross says u . s . nearing recession as blackr...  ...  NaN  NaN   \n",
       "2012-07-18  france will miss xxx offshore wind capacity ta...  ...  NaN  NaN   \n",
       "2012-07-19  russian weather center predicts southern rain ...  ...  NaN  NaN   \n",
       "2012-07-20  korea southern power to buy wood pellets for r...  ...  NaN  NaN   \n",
       "2012-07-21  nasdaq boosts facebook compensation plan to 62...  ...  NaN  NaN   \n",
       "\n",
       "            96   97   98   99   100  101  102  103  \n",
       "date                                                \n",
       "2006-10-20  NaN  NaN  NaN  NaN  NaN  NaN  NaN  NaN  \n",
       "2006-10-23  NaN  NaN  NaN  NaN  NaN  NaN  NaN  NaN  \n",
       "2006-10-24  NaN  NaN  NaN  NaN  NaN  NaN  NaN  NaN  \n",
       "2006-10-25  NaN  NaN  NaN  NaN  NaN  NaN  NaN  NaN  \n",
       "2006-10-26  NaN  NaN  NaN  NaN  NaN  NaN  NaN  NaN  \n",
       "...         ...  ...  ...  ...  ...  ...  ...  ...  \n",
       "2012-07-17  NaN  NaN  NaN  NaN  NaN  NaN  NaN  NaN  \n",
       "2012-07-18  NaN  NaN  NaN  NaN  NaN  NaN  NaN  NaN  \n",
       "2012-07-19  NaN  NaN  NaN  NaN  NaN  NaN  NaN  NaN  \n",
       "2012-07-20  NaN  NaN  NaN  NaN  NaN  NaN  NaN  NaN  \n",
       "2012-07-21  NaN  NaN  NaN  NaN  NaN  NaN  NaN  NaN  \n",
       "\n",
       "[1994 rows x 104 columns]"
      ]
     },
     "execution_count": 3,
     "metadata": {},
     "output_type": "execute_result"
    }
   ],
   "source": [
    "x_train"
   ]
  },
  {
   "cell_type": "code",
   "execution_count": null,
   "metadata": {},
   "outputs": [],
   "source": []
  },
  {
   "cell_type": "code",
   "execution_count": 4,
   "metadata": {},
   "outputs": [],
   "source": [
    "#x_train.to_csv('Result.csv') \n",
    "x2006 = x_train['2006-10-20':'2006-12-30']\n",
    "x2007 = x_train['2007-01-02':'2007-12-31']\n",
    "x2008 = x_train['2008-01-01':'2008-12-31']\n",
    "x2009 = x_train['2009-01-01':'2009-12-31']\n",
    "x2010 = x_train['2010-01-01':'2010-12-31']\n",
    "x2011 = x_train['2011-01-01':'2011-12-31']"
   ]
  },
  {
   "cell_type": "code",
   "execution_count": 5,
   "metadata": {},
   "outputs": [
    {
     "data": {
      "text/plain": [
       "Index(['2007-01-02', '2007-01-03', '2007-01-04', '2007-01-05', '2007-01-07',\n",
       "       '2007-01-08', '2007-01-09', '2007-01-10', '2007-01-11', '2007-01-12',\n",
       "       ...\n",
       "       '2007-12-20', '2007-12-21', '2007-12-22', '2007-12-23', '2007-12-24',\n",
       "       '2007-12-26', '2007-12-27', '2007-12-28', '2007-12-30', '2007-12-31'],\n",
       "      dtype='object', name='date', length=335)"
      ]
     },
     "execution_count": 5,
     "metadata": {},
     "output_type": "execute_result"
    }
   ],
   "source": [
    "x2007.index"
   ]
  },
  {
   "cell_type": "code",
   "execution_count": 6,
   "metadata": {},
   "outputs": [],
   "source": [
    "count = []\n",
    "for i in x_train.index:\n",
    "    c = x_train.loc[i].count()\n",
    "    count.append(c)    \n",
    "#count"
   ]
  },
  {
   "cell_type": "code",
   "execution_count": 13,
   "metadata": {},
   "outputs": [
    {
     "data": {
      "text/plain": [
       "date\n",
       "2006-10-20     1\n",
       "2006-10-23     6\n",
       "2006-10-24    10\n",
       "2006-10-25    12\n",
       "2006-10-26    13\n",
       "              ..\n",
       "2012-07-17    51\n",
       "2012-07-18    65\n",
       "2012-07-19    71\n",
       "2012-07-20    43\n",
       "2012-07-21    10\n",
       "Length: 1994, dtype: int64"
      ]
     },
     "execution_count": 13,
     "metadata": {},
     "output_type": "execute_result"
    }
   ],
   "source": [
    "s = pd.Series(count, index=x_train.index)\n",
    "s"
   ]
  },
  {
   "cell_type": "code",
   "execution_count": null,
   "metadata": {},
   "outputs": [],
   "source": []
  },
  {
   "cell_type": "code",
   "execution_count": 6,
   "metadata": {},
   "outputs": [],
   "source": [
    "count_2006 = []\n",
    "count_2007 = []\n",
    "count_2008 = []\n",
    "count_2009 = []\n",
    "count_2010 = []\n",
    "count_2011 = []\n",
    "\n",
    "for i in x2007.index:\n",
    "    c = x2007.loc[i].count()\n",
    "    count_2007.append(c)\n",
    "    \n",
    "for i in x2008.index:\n",
    "    c = x2008.loc[i].count()\n",
    "    count_2008.append(c)\n",
    "\n",
    "for i in x2006.index:\n",
    "    c = x2006.loc[i].count()\n",
    "    count_2006.append(c)\n",
    "    \n",
    "for i in x2009.index:\n",
    "    c = x2009.loc[i].count()\n",
    "    count_2009.append(c)\n",
    "    \n",
    "for i in x2010.index:\n",
    "    c = x2010.loc[i].count()\n",
    "    count_2010.append(c)\n",
    "    \n",
    "for i in x2011.index:\n",
    "    c = x2011.loc[i].count()\n",
    "    count_2011.append(c)\n",
    "    \n",
    "#count_2007"
   ]
  },
  {
   "cell_type": "code",
   "execution_count": 7,
   "metadata": {},
   "outputs": [],
   "source": [
    "s2006 = pd.Series(count_2006, index=x2006.index)\n",
    "s2007 = pd.Series(count_2007, index=x2007.index)\n",
    "s2008 = pd.Series(count_2008, index=x2008.index)\n",
    "s2009 = pd.Series(count_2009, index=x2009.index)\n",
    "s2010 = pd.Series(count_2010, index=x2010.index)\n",
    "s2011 = pd.Series(count_2011, index=x2011.index)"
   ]
  },
  {
   "cell_type": "code",
   "execution_count": 26,
   "metadata": {},
   "outputs": [
    {
     "data": {
      "text/plain": [
       "Index(['2006-10-20', '2006-10-23', '2006-10-24', '2006-10-25', '2006-10-26',\n",
       "       '2006-10-27', '2006-10-28', '2006-10-30', '2006-10-31', '2006-11-01',\n",
       "       '2006-11-02', '2006-11-03', '2006-11-05', '2006-11-06', '2006-11-07',\n",
       "       '2006-11-08', '2006-11-09', '2006-11-10', '2006-11-11', '2006-11-13',\n",
       "       '2006-11-14', '2006-11-15', '2006-11-16', '2006-11-17', '2006-11-18',\n",
       "       '2006-11-19', '2006-11-20', '2006-11-21', '2006-11-22', '2006-11-23',\n",
       "       '2006-11-24', '2006-11-25', '2006-11-26', '2006-11-28', '2006-11-29',\n",
       "       '2006-11-30', '2006-12-01', '2006-12-02', '2006-12-03', '2006-12-04',\n",
       "       '2006-12-05', '2006-12-06', '2006-12-07', '2006-12-08', '2006-12-10',\n",
       "       '2006-12-11', '2006-12-12', '2006-12-13', '2006-12-14', '2006-12-15',\n",
       "       '2006-12-16', '2006-12-17', '2006-12-18', '2006-12-19', '2006-12-20',\n",
       "       '2006-12-21', '2006-12-22', '2006-12-24', '2006-12-26', '2006-12-27',\n",
       "       '2006-12-28', '2006-12-29', '2006-12-30'],\n",
       "      dtype='object', name='date')"
      ]
     },
     "execution_count": 26,
     "metadata": {},
     "output_type": "execute_result"
    }
   ],
   "source": [
    "x2006.index"
   ]
  },
  {
   "cell_type": "code",
   "execution_count": 26,
   "metadata": {},
   "outputs": [],
   "source": [
    "#s2007 = s2007.resample('D').sum()#, how='sum')\n",
    "#s2007.plot(title='resampled plot',kind='bar')"
   ]
  },
  {
   "cell_type": "code",
   "execution_count": 21,
   "metadata": {},
   "outputs": [
    {
     "data": {
      "text/plain": [
       "1994"
      ]
     },
     "execution_count": 21,
     "metadata": {},
     "output_type": "execute_result"
    }
   ],
   "source": [
    "#x_train.loc['2011-04-23'].count()\n",
    "len(count)"
   ]
  },
  {
   "cell_type": "code",
   "execution_count": 31,
   "metadata": {},
   "outputs": [
    {
     "data": {
      "image/png": "[encoded data removed]",
      "text/plain": [
       "<Figure size 432x288 with 1 Axes>"
      ]
     },
     "metadata": {
      "needs_background": "light"
     },
     "output_type": "display_data"
    }
   ],
   "source": [
    "# 生成数据\n",
    "# 生成图形\n",
    "\n",
    "x = np.arange(len(count))\n",
    "plt.bar(x,count)\n",
    "#plt.plot(x,count_see)\n",
    "\n",
    "# 显示图形\n",
    "plt.show()"
   ]
  },
  {
   "cell_type": "code",
   "execution_count": null,
   "metadata": {},
   "outputs": [],
   "source": [
    "plt.bar(x,count)"
   ]
  },
  {
   "cell_type": "code",
   "execution_count": 8,
   "metadata": {},
   "outputs": [
    {
     "data": {
      "image/png": "[encoded data removed]",
      "text/plain": [
       "<Figure size 432x288 with 1 Axes>"
      ]
     },
     "metadata": {
      "needs_background": "light"
     },
     "output_type": "display_data"
    },
    {
     "data": {
      "text/plain": [
       "<Figure size 432x288 with 0 Axes>"
      ]
     },
     "metadata": {},
     "output_type": "display_data"
    }
   ],
   "source": [
    "s2006.index = pd.to_datetime(s2006.index)\n",
    "# 配置横坐标\n",
    "plt.gca().xaxis.set_major_formatter(mdates.DateFormatter('%m/%d/%Y'))\n",
    "plt.gca().xaxis.set_major_locator(mdates.MonthLocator())\n",
    "# Plot\n",
    "plt.bar(s2006.index, count_2006)\n",
    "plt.title(\"Daily news numbers in Year 2006\")\n",
    "#plt.xlabel(\"days\")\n",
    "plt.ylabel(\"news number\")\n",
    "plt.gcf().autofmt_xdate()  # 自动旋转日期标记\n",
    "plt.show()\n",
    "\n",
    "plt.savefig(\"2006.jpg\")\n",
    "#monthsLoc = mpl.dates.MonthLocator()\n",
    "#ax1.xaxis.set_major_locator(monthsLoc)"
   ]
  },
  {
   "cell_type": "code",
   "execution_count": 45,
   "metadata": {},
   "outputs": [
    {
     "data": {
      "image/png": "[encoded data removed]",
      "text/plain": [
       "<Figure size 432x288 with 1 Axes>"
      ]
     },
     "metadata": {
      "needs_background": "light"
     },
     "output_type": "display_data"
    }
   ],
   "source": [
    "x6 = np.arange(len(count_2006))\n",
    "plt.bar(x6,count_2006)\n",
    "plt.title(\"Daily news numbers in Year 2006\")\n",
    "plt.xlabel(\"days\")\n",
    "plt.ylabel(\"news number\")\n",
    "\n",
    "plt.show()"
   ]
  },
  {
   "cell_type": "code",
   "execution_count": 9,
   "metadata": {},
   "outputs": [
    {
     "data": {
      "image/png": "[encoded data removed]",
      "text/plain": [
       "<Figure size 432x288 with 1 Axes>"
      ]
     },
     "metadata": {
      "needs_background": "light"
     },
     "output_type": "display_data"
    }
   ],
   "source": [
    "s2007.index = pd.to_datetime(s2007.index)\n",
    "# 配置横坐标\n",
    "plt.gca().xaxis.set_major_formatter(mdates.DateFormatter('%m/%d/%Y'))\n",
    "plt.gca().xaxis.set_major_locator(mdates.MonthLocator())\n",
    "# Plot\n",
    "plt.bar(s2007.index, count_2007)\n",
    "plt.title(\"Daily news numbers in Year 2007\")\n",
    "#plt.xlabel(\"days\")\n",
    "plt.ylabel(\"news number\")\n",
    "plt.gcf().autofmt_xdate()  # 自动旋转日期标记\n",
    "\n",
    "plt.savefig(\"2007.jpg\")\n",
    "plt.show()\n",
    "\n",
    "\n",
    "#monthsLoc = mpl.dates.MonthLocator()\n",
    "#ax1.xaxis.set_major_locator(monthsLoc)"
   ]
  },
  {
   "cell_type": "code",
   "execution_count": 40,
   "metadata": {},
   "outputs": [
    {
     "data": {
      "image/png": "[encoded data removed]",
      "text/plain": [
       "<Figure size 432x288 with 1 Axes>"
      ]
     },
     "metadata": {
      "needs_background": "light"
     },
     "output_type": "display_data"
    }
   ],
   "source": [
    "x7 = np.arange(len(count_2007))\n",
    "plt.bar(x7,count_2007)\n",
    "plt.title(\"Daily news numbers in Year 2007\")\n",
    "plt.xlabel(\"days\")\n",
    "plt.ylabel(\"news number\")\n",
    "plt.show()"
   ]
  },
  {
   "cell_type": "code",
   "execution_count": 10,
   "metadata": {},
   "outputs": [
    {
     "data": {
      "image/png": "[encoded data removed]",
      "text/plain": [
       "<Figure size 432x288 with 1 Axes>"
      ]
     },
     "metadata": {
      "needs_background": "light"
     },
     "output_type": "display_data"
    }
   ],
   "source": [
    "s2008.index = pd.to_datetime(s2008.index)\n",
    "# 配置横坐标\n",
    "plt.gca().xaxis.set_major_formatter(mdates.DateFormatter('%m/%d/%Y'))\n",
    "plt.gca().xaxis.set_major_locator(mdates.MonthLocator())\n",
    "# Plot\n",
    "plt.bar(s2008.index, count_2008)\n",
    "plt.title(\"Daily news numbers in Year 2008\")\n",
    "#plt.xlabel(\"days\")\n",
    "plt.ylabel(\"news number\")\n",
    "plt.gcf().autofmt_xdate()  # 自动旋转日期标记\n",
    "plt.savefig(\"2008.jpg\")\n",
    "plt.show()\n",
    "\n",
    "\n",
    "#monthsLoc = mpl.dates.MonthLocator()\n",
    "#ax1.xaxis.set_major_locator(monthsLoc)"
   ]
  },
  {
   "cell_type": "code",
   "execution_count": 41,
   "metadata": {},
   "outputs": [
    {
     "data": {
      "image/png": "[encoded data removed]",
      "text/plain": [
       "<Figure size 432x288 with 1 Axes>"
      ]
     },
     "metadata": {
      "needs_background": "light"
     },
     "output_type": "display_data"
    }
   ],
   "source": [
    "x8 = np.arange(len(count_2008))\n",
    "plt.bar(x8,count_2008)\n",
    "plt.title(\"Daily news numbers in Year 2008\")\n",
    "plt.xlabel(\"days\")\n",
    "plt.ylabel(\"news number\")\n",
    "plt.show()"
   ]
  },
  {
   "cell_type": "code",
   "execution_count": 11,
   "metadata": {},
   "outputs": [
    {
     "data": {
      "image/png": "[encoded data removed]",
      "text/plain": [
       "<Figure size 432x288 with 1 Axes>"
      ]
     },
     "metadata": {
      "needs_background": "light"
     },
     "output_type": "display_data"
    }
   ],
   "source": [
    "s2009.index = pd.to_datetime(s2009.index)\n",
    "# 配置横坐标\n",
    "plt.gca().xaxis.set_major_formatter(mdates.DateFormatter('%m/%d/%Y'))\n",
    "plt.gca().xaxis.set_major_locator(mdates.MonthLocator())\n",
    "# Plot\n",
    "plt.bar(s2009.index, count_2009)\n",
    "plt.title(\"Daily news numbers in Year 2009\")\n",
    "#plt.xlabel(\"days\")\n",
    "plt.ylabel(\"news number\")\n",
    "plt.gcf().autofmt_xdate()  # 自动旋转日期标记\n",
    "plt.savefig(\"2009.jpg\")\n",
    "plt.show()\n",
    "\n",
    "\n",
    "#monthsLoc = mpl.dates.MonthLocator()\n",
    "#ax1.xaxis.set_major_locator(monthsLoc)"
   ]
  },
  {
   "cell_type": "code",
   "execution_count": 42,
   "metadata": {},
   "outputs": [
    {
     "data": {
      "image/png": "[encoded data removed]",
      "text/plain": [
       "<Figure size 432x288 with 1 Axes>"
      ]
     },
     "metadata": {
      "needs_background": "light"
     },
     "output_type": "display_data"
    }
   ],
   "source": [
    "x9 = np.arange(len(count_2009))\n",
    "plt.bar(x9,count_2009)\n",
    "plt.title(\"Daily news numbers in Year 2009\")\n",
    "plt.xlabel(\"days\")\n",
    "plt.ylabel(\"news number\")\n",
    "plt.show()"
   ]
  },
  {
   "cell_type": "code",
   "execution_count": 12,
   "metadata": {},
   "outputs": [
    {
     "data": {
      "image/png": "[encoded data removed]",
      "text/plain": [
       "<Figure size 432x288 with 1 Axes>"
      ]
     },
     "metadata": {
      "needs_background": "light"
     },
     "output_type": "display_data"
    }
   ],
   "source": [
    "s2010.index = pd.to_datetime(s2010.index)\n",
    "# 配置横坐标\n",
    "plt.gca().xaxis.set_major_formatter(mdates.DateFormatter('%m/%d/%Y'))\n",
    "plt.gca().xaxis.set_major_locator(mdates.MonthLocator())\n",
    "# Plot\n",
    "plt.bar(s2010.index, count_2010)\n",
    "plt.title(\"Daily news numbers in Year 2010\")\n",
    "#plt.xlabel(\"days\")\n",
    "plt.ylabel(\"news number\")\n",
    "plt.gcf().autofmt_xdate()  # 自动旋转日期标记\n",
    "plt.savefig(\"2010.jpg\")\n",
    "plt.show()\n",
    "\n",
    "\n",
    "#monthsLoc = mpl.dates.MonthLocator()\n",
    "#ax1.xaxis.set_major_locator(monthsLoc)"
   ]
  },
  {
   "cell_type": "code",
   "execution_count": 43,
   "metadata": {},
   "outputs": [
    {
     "data": {
      "image/png": "[encoded data removed]",
      "text/plain": [
       "<Figure size 432x288 with 1 Axes>"
      ]
     },
     "metadata": {
      "needs_background": "light"
     },
     "output_type": "display_data"
    }
   ],
   "source": [
    "x10 = np.arange(len(count_2010))\n",
    "plt.bar(x10,count_2010)\n",
    "plt.title(\"Daily news numbers in Year 2010\")\n",
    "plt.xlabel(\"days\")\n",
    "plt.ylabel(\"news number\")\n",
    "plt.show()"
   ]
  },
  {
   "cell_type": "code",
   "execution_count": 13,
   "metadata": {},
   "outputs": [
    {
     "data": {
      "image/png": "[encoded data removed]",
      "text/plain": [
       "<Figure size 432x288 with 1 Axes>"
      ]
     },
     "metadata": {
      "needs_background": "light"
     },
     "output_type": "display_data"
    }
   ],
   "source": [
    "s2011.index = pd.to_datetime(s2011.index)\n",
    "# 配置横坐标\n",
    "plt.gca().xaxis.set_major_formatter(mdates.DateFormatter('%m/%d/%Y'))\n",
    "plt.gca().xaxis.set_major_locator(mdates.MonthLocator())\n",
    "# Plot\n",
    "plt.bar(s2011.index, count_2011)\n",
    "plt.title(\"Daily news numbers in Year 2011\")\n",
    "#plt.xlabel(\"days\")\n",
    "plt.ylabel(\"news number\")\n",
    "plt.gcf().autofmt_xdate()  # 自动旋转日期标记\n",
    "plt.savefig(\"2011.jpg\")\n",
    "plt.show()\n",
    "\n",
    "\n",
    "#monthsLoc = mpl.dates.MonthLocator()\n",
    "#ax1.xaxis.set_major_locator(monthsLoc)"
   ]
  },
  {
   "cell_type": "code",
   "execution_count": 44,
   "metadata": {},
   "outputs": [
    {
     "data": {
      "image/png": "[encoded data removed]",
      "text/plain": [
       "<Figure size 432x288 with 1 Axes>"
      ]
     },
     "metadata": {
      "needs_background": "light"
     },
     "output_type": "display_data"
    }
   ],
   "source": [
    "x11 = np.arange(len(count_2011))\n",
    "plt.bar(x11,count_2011)\n",
    "plt.title(\"Daily news numbers in Year 2011\")\n",
    "plt.xlabel(\"days\")\n",
    "plt.ylabel(\"news number\")\n",
    "plt.show()"
   ]
  },
  {
   "cell_type": "code",
   "execution_count": null,
   "metadata": {},
   "outputs": [],
   "source": []
  },
  {
   "cell_type": "markdown",
   "metadata": {},
   "source": [
    "news uncertainty in unknown composition of individuals"
   ]
  },
  {
   "cell_type": "code",
   "execution_count": 14,
   "metadata": {},
   "outputs": [],
   "source": [
    "exm = x_train.loc['2011-09-20'] #Series"
   ]
  },
  {
   "cell_type": "code",
   "execution_count": null,
   "metadata": {},
   "outputs": [],
   "source": [
    "#Using NLTK’s Pre-Trained Sentiment Analyzer\n",
    "#NLTK already has a built-in, pretrained sentiment analyzer called VADER (Valence Aware Dictionary and sEntiment Reasoner)."
   ]
  },
  {
   "cell_type": "code",
   "execution_count": 15,
   "metadata": {},
   "outputs": [],
   "source": [
    "ema = exm.tolist()"
   ]
  },
  {
   "cell_type": "code",
   "execution_count": 57,
   "metadata": {},
   "outputs": [],
   "source": [
    "#len(ema)#104"
   ]
  },
  {
   "cell_type": "code",
   "execution_count": 60,
   "metadata": {},
   "outputs": [
    {
     "name": "stderr",
     "output_type": "stream",
     "text": [
      "[nltk_data] Downloading package vader_lexicon to\n",
      "[nltk_data]     /userhome/35/yqdeng/nltk_data...\n"
     ]
    },
    {
     "data": {
      "text/plain": [
       "True"
      ]
     },
     "execution_count": 60,
     "metadata": {},
     "output_type": "execute_result"
    }
   ],
   "source": [
    "import nltk\n",
    "nltk.download('vader_lexicon')"
   ]
  },
  {
   "cell_type": "code",
   "execution_count": 16,
   "metadata": {},
   "outputs": [],
   "source": [
    "from nltk.sentiment import SentimentIntensityAnalyzer\n",
    "ana = SentimentIntensityAnalyzer()\n",
    "polar = []\n",
    "for news in ema:\n",
    "    scores = ana.polarity_scores(news)\n",
    "    polar.append(scores)"
   ]
  },
  {
   "cell_type": "code",
   "execution_count": null,
   "metadata": {},
   "outputs": [],
   "source": []
  },
  {
   "cell_type": "code",
   "execution_count": 17,
   "metadata": {},
   "outputs": [
    {
     "data": {
      "text/plain": [
       "[{'neg': 0.0, 'neu': 0.667, 'pos': 0.333, 'compound': 0.4588},\n",
       " {'neg': 0.0, 'neu': 1.0, 'pos': 0.0, 'compound': 0.0},\n",
       " {'neg': 0.0, 'neu': 1.0, 'pos': 0.0, 'compound': 0.0},\n",
       " {'neg': 0.0, 'neu': 1.0, 'pos': 0.0, 'compound': 0.0},\n",
       " {'neg': 0.0, 'neu': 0.792, 'pos': 0.208, 'compound': 0.2732},\n",
       " {'neg': 0.211, 'neu': 0.789, 'pos': 0.0, 'compound': -0.34},\n",
       " {'neg': 0.684, 'neu': 0.316, 'pos': 0.0, 'compound': -0.8689},\n",
       " {'neg': 0.0, 'neu': 0.736, 'pos': 0.264, 'compound': 0.2846},\n",
       " {'neg': 0.369, 'neu': 0.631, 'pos': 0.0, 'compound': -0.6249},\n",
       " {'neg': 0.0, 'neu': 1.0, 'pos': 0.0, 'compound': 0.0},\n",
       " {'neg': 0.0, 'neu': 1.0, 'pos': 0.0, 'compound': 0.0},\n",
       " {'neg': 0.0, 'neu': 0.734, 'pos': 0.266, 'compound': 0.4404},\n",
       " {'neg': 0.0, 'neu': 1.0, 'pos': 0.0, 'compound': 0.0},\n",
       " {'neg': 0.0, 'neu': 1.0, 'pos': 0.0, 'compound': 0.0},\n",
       " {'neg': 0.0, 'neu': 0.864, 'pos': 0.136, 'compound': 0.0258},\n",
       " {'neg': 0.0, 'neu': 0.556, 'pos': 0.444, 'compound': 0.7506},\n",
       " {'neg': 0.174, 'neu': 0.826, 'pos': 0.0, 'compound': -0.2732},\n",
       " {'neg': 0.198, 'neu': 0.66, 'pos': 0.142, 'compound': -0.1531},\n",
       " {'neg': 0.0, 'neu': 0.602, 'pos': 0.398, 'compound': 0.6486},\n",
       " {'neg': 0.189, 'neu': 0.811, 'pos': 0.0, 'compound': -0.2732},\n",
       " {'neg': 0.267, 'neu': 0.497, 'pos': 0.236, 'compound': -0.128},\n",
       " {'neg': 0.316, 'neu': 0.684, 'pos': 0.0, 'compound': -0.4019},\n",
       " {'neg': 0.196, 'neu': 0.804, 'pos': 0.0, 'compound': -0.296},\n",
       " {'neg': 0.0, 'neu': 0.769, 'pos': 0.231, 'compound': 0.4019},\n",
       " {'neg': 0.0, 'neu': 0.583, 'pos': 0.417, 'compound': 0.6124},\n",
       " {'neg': 0.0, 'neu': 0.732, 'pos': 0.268, 'compound': 0.5106},\n",
       " {'neg': 0.208, 'neu': 0.792, 'pos': 0.0, 'compound': -0.2732},\n",
       " {'neg': 0.0, 'neu': 1.0, 'pos': 0.0, 'compound': 0.0},\n",
       " {'neg': 0.0, 'neu': 0.748, 'pos': 0.252, 'compound': 0.4019},\n",
       " {'neg': 0.2, 'neu': 0.666, 'pos': 0.134, 'compound': -0.223},\n",
       " {'neg': 0.158, 'neu': 0.576, 'pos': 0.266, 'compound': 0.128},\n",
       " {'neg': 0.318, 'neu': 0.682, 'pos': 0.0, 'compound': -0.4939},\n",
       " {'neg': 0.0, 'neu': 1.0, 'pos': 0.0, 'compound': 0.0},\n",
       " {'neg': 0.363, 'neu': 0.495, 'pos': 0.143, 'compound': -0.6124},\n",
       " {'neg': 0.149, 'neu': 0.851, 'pos': 0.0, 'compound': -0.2732},\n",
       " {'neg': 0.344, 'neu': 0.656, 'pos': 0.0, 'compound': -0.4939},\n",
       " {'neg': 0.107, 'neu': 0.893, 'pos': 0.0, 'compound': -0.0516},\n",
       " {'neg': 0.554, 'neu': 0.446, 'pos': 0.0, 'compound': -0.8271},\n",
       " {'neg': 0.301, 'neu': 0.699, 'pos': 0.0, 'compound': -0.5106},\n",
       " {'neg': 0.189, 'neu': 0.811, 'pos': 0.0, 'compound': -0.2732},\n",
       " {'neg': 0.0, 'neu': 1.0, 'pos': 0.0, 'compound': 0.0},\n",
       " {'neg': 0.0, 'neu': 1.0, 'pos': 0.0, 'compound': 0.0},\n",
       " {'neg': 0.0, 'neu': 0.811, 'pos': 0.189, 'compound': 0.4215},\n",
       " {'neg': 0.363, 'neu': 0.495, 'pos': 0.143, 'compound': -0.6124},\n",
       " {'neg': 0.0, 'neu': 1.0, 'pos': 0.0, 'compound': 0.0},\n",
       " {'neg': 0.144, 'neu': 0.678, 'pos': 0.178, 'compound': 0.1027},\n",
       " {'neg': 0.0, 'neu': 0.811, 'pos': 0.189, 'compound': 0.2732},\n",
       " {'neg': 0.0, 'neu': 0.575, 'pos': 0.425, 'compound': 0.5719},\n",
       " {'neg': 0.0, 'neu': 1.0, 'pos': 0.0, 'compound': 0.0},\n",
       " {'neg': 0.174, 'neu': 0.826, 'pos': 0.0, 'compound': -0.2732},\n",
       " {'neg': 0.0, 'neu': 0.894, 'pos': 0.106, 'compound': 0.0772},\n",
       " {'neg': 0.0, 'neu': 0.833, 'pos': 0.167, 'compound': 0.296},\n",
       " {'neg': 0.0, 'neu': 0.556, 'pos': 0.444, 'compound': 0.802},\n",
       " {'neg': 0.0, 'neu': 1.0, 'pos': 0.0, 'compound': 0.0},\n",
       " {'neg': 0.189, 'neu': 0.811, 'pos': 0.0, 'compound': -0.2732},\n",
       " {'neg': 0.2, 'neu': 0.8, 'pos': 0.0, 'compound': -0.128},\n",
       " {'neg': 0.326, 'neu': 0.674, 'pos': 0.0, 'compound': -0.7003},\n",
       " {'neg': 0.211, 'neu': 0.703, 'pos': 0.086, 'compound': -0.3818},\n",
       " {'neg': 0.0, 'neu': 0.847, 'pos': 0.153, 'compound': 0.2023},\n",
       " {'neg': 0.164, 'neu': 0.329, 'pos': 0.507, 'compound': 0.6378},\n",
       " {'neg': 0.174, 'neu': 0.826, 'pos': 0.0, 'compound': -0.2732},\n",
       " {'neg': 0.0, 'neu': 0.833, 'pos': 0.167, 'compound': 0.2023},\n",
       " {'neg': 0.0, 'neu': 0.748, 'pos': 0.252, 'compound': 0.4019},\n",
       " {'neg': 0.0, 'neu': 0.68, 'pos': 0.32, 'compound': 0.5106},\n",
       " {'neg': 0.14, 'neu': 0.662, 'pos': 0.199, 'compound': 0.2023},\n",
       " {'neg': 0.379, 'neu': 0.435, 'pos': 0.186, 'compound': -0.4767},\n",
       " {'neg': 0.0, 'neu': 1.0, 'pos': 0.0, 'compound': 0.0},\n",
       " {'neg': 0.0, 'neu': 1.0, 'pos': 0.0, 'compound': 0.0},\n",
       " {'neg': 0.338, 'neu': 0.662, 'pos': 0.0, 'compound': -0.5574},\n",
       " {'neg': 0.272, 'neu': 0.533, 'pos': 0.195, 'compound': -0.0772},\n",
       " {'neg': 0.0, 'neu': 0.826, 'pos': 0.174, 'compound': 0.2732},\n",
       " {'neg': 0.208, 'neu': 0.792, 'pos': 0.0, 'compound': -0.2732},\n",
       " {'neg': 0.0, 'neu': 1.0, 'pos': 0.0, 'compound': 0.0},\n",
       " {'neg': 0.349, 'neu': 0.461, 'pos': 0.191, 'compound': -0.34},\n",
       " {'neg': 0.0, 'neu': 1.0, 'pos': 0.0, 'compound': 0.0},\n",
       " {'neg': 0.0, 'neu': 0.684, 'pos': 0.316, 'compound': 0.5719},\n",
       " {'neg': 0.213, 'neu': 0.787, 'pos': 0.0, 'compound': -0.4019},\n",
       " {'neg': 0.174, 'neu': 0.826, 'pos': 0.0, 'compound': -0.2732},\n",
       " {'neg': 0.0, 'neu': 1.0, 'pos': 0.0, 'compound': 0.0},\n",
       " {'neg': 0.0, 'neu': 1.0, 'pos': 0.0, 'compound': 0.0},\n",
       " {'neg': 0.475, 'neu': 0.396, 'pos': 0.129, 'compound': -0.7184},\n",
       " {'neg': 0.0, 'neu': 0.783, 'pos': 0.217, 'compound': 0.3612},\n",
       " {'neg': 0.156, 'neu': 0.593, 'pos': 0.252, 'compound': 0.3182},\n",
       " {'neg': 0.0, 'neu': 0.73, 'pos': 0.27, 'compound': 0.5719},\n",
       " {'neg': 0.135, 'neu': 0.865, 'pos': 0.0, 'compound': -0.144},\n",
       " {'neg': 0.0, 'neu': 1.0, 'pos': 0.0, 'compound': 0.0},\n",
       " {'neg': 0.0, 'neu': 0.654, 'pos': 0.346, 'compound': 0.5719},\n",
       " {'neg': 0.238, 'neu': 0.762, 'pos': 0.0, 'compound': -0.3612},\n",
       " {'neg': 0.483, 'neu': 0.517, 'pos': 0.0, 'compound': -0.8126},\n",
       " {'neg': 0.333, 'neu': 0.667, 'pos': 0.0, 'compound': -0.5423},\n",
       " {'neg': 0.189, 'neu': 0.811, 'pos': 0.0, 'compound': -0.2732},\n",
       " {'neg': 0.259, 'neu': 0.741, 'pos': 0.0, 'compound': -0.2732},\n",
       " {'neg': 0.0, 'neu': 1.0, 'pos': 0.0, 'compound': 0.0},\n",
       " {'neg': 0.259, 'neu': 0.741, 'pos': 0.0, 'compound': -0.4939},\n",
       " {'neg': 0.0, 'neu': 0.769, 'pos': 0.231, 'compound': 0.4019},\n",
       " {'neg': 0.211, 'neu': 0.612, 'pos': 0.177, 'compound': -0.128},\n",
       " {'neg': 0.339, 'neu': 0.452, 'pos': 0.209, 'compound': -0.3182},\n",
       " {'neg': 0.16, 'neu': 0.84, 'pos': 0.0, 'compound': -0.2732},\n",
       " {'neg': 0.0, 'neu': 0.702, 'pos': 0.298, 'compound': 0.1779},\n",
       " {'neg': 0.0, 'neu': 1.0, 'pos': 0.0, 'compound': 0.0},\n",
       " {'neg': 0.0, 'neu': 1.0, 'pos': 0.0, 'compound': 0.0},\n",
       " {'neg': 0.0, 'neu': 1.0, 'pos': 0.0, 'compound': 0.0},\n",
       " {'neg': 0.0, 'neu': 1.0, 'pos': 0.0, 'compound': 0.0},\n",
       " {'neg': 0.485, 'neu': 0.352, 'pos': 0.163, 'compound': -0.743}]"
      ]
     },
     "execution_count": 17,
     "metadata": {},
     "output_type": "execute_result"
    }
   ],
   "source": [
    "polar"
   ]
  },
  {
   "cell_type": "code",
   "execution_count": 18,
   "metadata": {},
   "outputs": [
    {
     "data": {
      "text/html": [
       "<div>\n",
       "<style scoped>\n",
       "    .dataframe tbody tr th:only-of-type {\n",
       "        vertical-align: middle;\n",
       "    }\n",
       "\n",
       "    .dataframe tbody tr th {\n",
       "        vertical-align: top;\n",
       "    }\n",
       "\n",
       "    .dataframe thead th {\n",
       "        text-align: right;\n",
       "    }\n",
       "</style>\n",
       "<table border=\"1\" class=\"dataframe\">\n",
       "  <thead>\n",
       "    <tr style=\"text-align: right;\">\n",
       "      <th></th>\n",
       "      <th>neg</th>\n",
       "      <th>neu</th>\n",
       "      <th>pos</th>\n",
       "      <th>compound</th>\n",
       "    </tr>\n",
       "  </thead>\n",
       "  <tbody>\n",
       "    <tr>\n",
       "      <th>0</th>\n",
       "      <td>0.000</td>\n",
       "      <td>0.667</td>\n",
       "      <td>0.333</td>\n",
       "      <td>0.4588</td>\n",
       "    </tr>\n",
       "    <tr>\n",
       "      <th>1</th>\n",
       "      <td>0.000</td>\n",
       "      <td>1.000</td>\n",
       "      <td>0.000</td>\n",
       "      <td>0.0000</td>\n",
       "    </tr>\n",
       "    <tr>\n",
       "      <th>2</th>\n",
       "      <td>0.000</td>\n",
       "      <td>1.000</td>\n",
       "      <td>0.000</td>\n",
       "      <td>0.0000</td>\n",
       "    </tr>\n",
       "    <tr>\n",
       "      <th>3</th>\n",
       "      <td>0.000</td>\n",
       "      <td>1.000</td>\n",
       "      <td>0.000</td>\n",
       "      <td>0.0000</td>\n",
       "    </tr>\n",
       "    <tr>\n",
       "      <th>4</th>\n",
       "      <td>0.000</td>\n",
       "      <td>0.792</td>\n",
       "      <td>0.208</td>\n",
       "      <td>0.2732</td>\n",
       "    </tr>\n",
       "    <tr>\n",
       "      <th>...</th>\n",
       "      <td>...</td>\n",
       "      <td>...</td>\n",
       "      <td>...</td>\n",
       "      <td>...</td>\n",
       "    </tr>\n",
       "    <tr>\n",
       "      <th>99</th>\n",
       "      <td>0.000</td>\n",
       "      <td>1.000</td>\n",
       "      <td>0.000</td>\n",
       "      <td>0.0000</td>\n",
       "    </tr>\n",
       "    <tr>\n",
       "      <th>100</th>\n",
       "      <td>0.000</td>\n",
       "      <td>1.000</td>\n",
       "      <td>0.000</td>\n",
       "      <td>0.0000</td>\n",
       "    </tr>\n",
       "    <tr>\n",
       "      <th>101</th>\n",
       "      <td>0.000</td>\n",
       "      <td>1.000</td>\n",
       "      <td>0.000</td>\n",
       "      <td>0.0000</td>\n",
       "    </tr>\n",
       "    <tr>\n",
       "      <th>102</th>\n",
       "      <td>0.000</td>\n",
       "      <td>1.000</td>\n",
       "      <td>0.000</td>\n",
       "      <td>0.0000</td>\n",
       "    </tr>\n",
       "    <tr>\n",
       "      <th>103</th>\n",
       "      <td>0.485</td>\n",
       "      <td>0.352</td>\n",
       "      <td>0.163</td>\n",
       "      <td>-0.7430</td>\n",
       "    </tr>\n",
       "  </tbody>\n",
       "</table>\n",
       "<p>104 rows × 4 columns</p>\n",
       "</div>"
      ],
      "text/plain": [
       "       neg    neu    pos  compound\n",
       "0    0.000  0.667  0.333    0.4588\n",
       "1    0.000  1.000  0.000    0.0000\n",
       "2    0.000  1.000  0.000    0.0000\n",
       "3    0.000  1.000  0.000    0.0000\n",
       "4    0.000  0.792  0.208    0.2732\n",
       "..     ...    ...    ...       ...\n",
       "99   0.000  1.000  0.000    0.0000\n",
       "100  0.000  1.000  0.000    0.0000\n",
       "101  0.000  1.000  0.000    0.0000\n",
       "102  0.000  1.000  0.000    0.0000\n",
       "103  0.485  0.352  0.163   -0.7430\n",
       "\n",
       "[104 rows x 4 columns]"
      ]
     },
     "execution_count": 18,
     "metadata": {},
     "output_type": "execute_result"
    }
   ],
   "source": [
    "df = pd.DataFrame.from_records(polar)\n",
    "df"
   ]
  },
  {
   "cell_type": "code",
   "execution_count": 19,
   "metadata": {},
   "outputs": [
    {
     "data": {
      "text/html": [
       "<div>\n",
       "<style scoped>\n",
       "    .dataframe tbody tr th:only-of-type {\n",
       "        vertical-align: middle;\n",
       "    }\n",
       "\n",
       "    .dataframe tbody tr th {\n",
       "        vertical-align: top;\n",
       "    }\n",
       "\n",
       "    .dataframe thead th {\n",
       "        text-align: right;\n",
       "    }\n",
       "</style>\n",
       "<table border=\"1\" class=\"dataframe\">\n",
       "  <thead>\n",
       "    <tr style=\"text-align: right;\">\n",
       "      <th></th>\n",
       "      <th>neg</th>\n",
       "      <th>neu</th>\n",
       "      <th>pos</th>\n",
       "      <th>compound</th>\n",
       "      <th>label</th>\n",
       "    </tr>\n",
       "  </thead>\n",
       "  <tbody>\n",
       "    <tr>\n",
       "      <th>0</th>\n",
       "      <td>0.000</td>\n",
       "      <td>0.667</td>\n",
       "      <td>0.333</td>\n",
       "      <td>0.4588</td>\n",
       "      <td>1</td>\n",
       "    </tr>\n",
       "    <tr>\n",
       "      <th>1</th>\n",
       "      <td>0.000</td>\n",
       "      <td>1.000</td>\n",
       "      <td>0.000</td>\n",
       "      <td>0.0000</td>\n",
       "      <td>0</td>\n",
       "    </tr>\n",
       "    <tr>\n",
       "      <th>2</th>\n",
       "      <td>0.000</td>\n",
       "      <td>1.000</td>\n",
       "      <td>0.000</td>\n",
       "      <td>0.0000</td>\n",
       "      <td>0</td>\n",
       "    </tr>\n",
       "    <tr>\n",
       "      <th>3</th>\n",
       "      <td>0.000</td>\n",
       "      <td>1.000</td>\n",
       "      <td>0.000</td>\n",
       "      <td>0.0000</td>\n",
       "      <td>0</td>\n",
       "    </tr>\n",
       "    <tr>\n",
       "      <th>4</th>\n",
       "      <td>0.000</td>\n",
       "      <td>0.792</td>\n",
       "      <td>0.208</td>\n",
       "      <td>0.2732</td>\n",
       "      <td>1</td>\n",
       "    </tr>\n",
       "    <tr>\n",
       "      <th>...</th>\n",
       "      <td>...</td>\n",
       "      <td>...</td>\n",
       "      <td>...</td>\n",
       "      <td>...</td>\n",
       "      <td>...</td>\n",
       "    </tr>\n",
       "    <tr>\n",
       "      <th>99</th>\n",
       "      <td>0.000</td>\n",
       "      <td>1.000</td>\n",
       "      <td>0.000</td>\n",
       "      <td>0.0000</td>\n",
       "      <td>0</td>\n",
       "    </tr>\n",
       "    <tr>\n",
       "      <th>100</th>\n",
       "      <td>0.000</td>\n",
       "      <td>1.000</td>\n",
       "      <td>0.000</td>\n",
       "      <td>0.0000</td>\n",
       "      <td>0</td>\n",
       "    </tr>\n",
       "    <tr>\n",
       "      <th>101</th>\n",
       "      <td>0.000</td>\n",
       "      <td>1.000</td>\n",
       "      <td>0.000</td>\n",
       "      <td>0.0000</td>\n",
       "      <td>0</td>\n",
       "    </tr>\n",
       "    <tr>\n",
       "      <th>102</th>\n",
       "      <td>0.000</td>\n",
       "      <td>1.000</td>\n",
       "      <td>0.000</td>\n",
       "      <td>0.0000</td>\n",
       "      <td>0</td>\n",
       "    </tr>\n",
       "    <tr>\n",
       "      <th>103</th>\n",
       "      <td>0.485</td>\n",
       "      <td>0.352</td>\n",
       "      <td>0.163</td>\n",
       "      <td>-0.7430</td>\n",
       "      <td>-1</td>\n",
       "    </tr>\n",
       "  </tbody>\n",
       "</table>\n",
       "<p>104 rows × 5 columns</p>\n",
       "</div>"
      ],
      "text/plain": [
       "       neg    neu    pos  compound  label\n",
       "0    0.000  0.667  0.333    0.4588      1\n",
       "1    0.000  1.000  0.000    0.0000      0\n",
       "2    0.000  1.000  0.000    0.0000      0\n",
       "3    0.000  1.000  0.000    0.0000      0\n",
       "4    0.000  0.792  0.208    0.2732      1\n",
       "..     ...    ...    ...       ...    ...\n",
       "99   0.000  1.000  0.000    0.0000      0\n",
       "100  0.000  1.000  0.000    0.0000      0\n",
       "101  0.000  1.000  0.000    0.0000      0\n",
       "102  0.000  1.000  0.000    0.0000      0\n",
       "103  0.485  0.352  0.163   -0.7430     -1\n",
       "\n",
       "[104 rows x 5 columns]"
      ]
     },
     "execution_count": 19,
     "metadata": {},
     "output_type": "execute_result"
    }
   ],
   "source": [
    "#positive sentiment: compound score >= 0.05\n",
    "#neutral sentiment: (compound score > -0.05) and (compound score < 0.05)\n",
    "#negative sentiment: compound score <= -0.05\n",
    "#pos, neu, neu, neu, pos, neg, neg, pos, neg, \n",
    "df['label'] = 0\n",
    "df.loc[df['compound'] > 0.2, 'label'] = 1\n",
    "df.loc[df['compound'] < -0.2, 'label'] = -1\n",
    "df"
   ]
  },
  {
   "cell_type": "code",
   "execution_count": 20,
   "metadata": {},
   "outputs": [
    {
     "name": "stdout",
     "output_type": "stream",
     "text": [
      "-1    38\n",
      " 0    38\n",
      " 1    28\n",
      "Name: label, dtype: int64\n"
     ]
    }
   ],
   "source": [
    "print(df.label.value_counts())"
   ]
  },
  {
   "cell_type": "code",
   "execution_count": 35,
   "metadata": {},
   "outputs": [
    {
     "data": {
      "image/png": "[encoded data removed]",
      "text/plain": [
       "<Figure size 576x576 with 1 Axes>"
      ]
     },
     "metadata": {},
     "output_type": "display_data"
    }
   ],
   "source": [
    "import seaborn as sns\n",
    "sns.set(style='darkgrid', context='talk', palette='Dark2')\n",
    "\n",
    "fig, ax = plt.subplots(figsize=(8, 8))\n",
    " \n",
    "counts = df.label.value_counts(normalize=True) * 100\n",
    " \n",
    "sns.barplot(x=counts.index, y=counts, ax=ax)\n",
    " \n",
    "ax.set_xticklabels(['Negative', 'Neutral', 'Positive'])\n",
    "ax.set_ylabel(\"Percentage\")\n",
    " \n",
    "plt.show()"
   ]
  },
  {
   "cell_type": "code",
   "execution_count": 38,
   "metadata": {},
   "outputs": [
    {
     "data": {
      "image/png": "[encoded data removed]",
      "text/plain": [
       "<Figure size 432x288 with 1 Axes>"
      ]
     },
     "metadata": {},
     "output_type": "display_data"
    }
   ],
   "source": [
    "# 饼图\n",
    "from pylab import *  \n",
    "mpl.rcParams['font.sans-serif'] = ['SimHei'] \n",
    "\n",
    "labels = (\"Negative\",\"Neural\",\"Positive\")\n",
    "#colors = (\"red\",\"blue\",\"yellow\")\n",
    "colors = ['yellowgreen','lightskyblue','yellow']\n",
    "fracs = [38,38,28]\n",
    "\n",
    "plt.pie(fracs,labels=labels,colors=colors,autopct='%1.0f%%')\n",
    "plt.show()"
   ]
  },
  {
   "cell_type": "code",
   "execution_count": 22,
   "metadata": {},
   "outputs": [
    {
     "data": {
      "image/png": "[encoded data removed]",
      "text/plain": [
       "<Figure size 432x648 with 1 Axes>"
      ]
     },
     "metadata": {},
     "output_type": "display_data"
    }
   ],
   "source": [
    "plt.figure(figsize=(6,9)) #调节图形大小\n",
    "labels = (\"Negative\",\"Neural\",\"Positive\")\n",
    "sizes = [38,38,28] #每块值\n",
    "colors = ['yellowgreen','lightskyblue','yellow'] #每块颜色定义\n",
    "explode = (0.01,0.01,0.01) #将某一块分割出来，值越大分割出的间隙越大\n",
    "patches,text1,text2 = plt.pie(sizes,\n",
    "                      explode=explode,\n",
    "                      labels=labels,\n",
    "                      colors=colors,\n",
    "                      autopct = '%3.2f%%', #数值保留固定小数位\n",
    "                      shadow = True, #无阴影设置\n",
    "                      startangle =90, #逆时针起始角度设置\n",
    "                      pctdistance = 0.6) #数值距圆心半径倍数距离\n",
    "#patches饼图的返回值，texts1饼图外label的文本，texts2饼图内部的文本\n",
    "# x，y轴刻度设置一致，保证饼图为圆形\n",
    "plt.axis('equal')\n",
    "plt.legend(labels, loc=\"best\")        # 绘制图的图例为name，位置为最佳\n",
    "#plt.title(\"unknown individual composition of news in one trading day\")     # 饼图的名称4\n",
    "plt.savefig(\"news weak composition.jpg\")\n",
    "plt.show()"
   ]
  },
  {
   "cell_type": "code",
   "execution_count": null,
   "metadata": {},
   "outputs": [],
   "source": []
  },
  {
   "cell_type": "code",
   "execution_count": 24,
   "metadata": {},
   "outputs": [
    {
     "data": {
      "image/png": "[encoded data removed]",
      "text/plain": [
       "<Figure size 720x360 with 1 Axes>"
      ]
     },
     "metadata": {},
     "output_type": "display_data"
    }
   ],
   "source": [
    "import seaborn as sns\n",
    "sns.set(style='darkgrid', context='talk', palette='Dark2')\n",
    "\n",
    "fig, ax = plt.subplots(figsize=(10, 5))\n",
    "y = ['56.38','57.22','58.83','64.21','57.92','60.79','57.59','61.93','58.52','59.09','60.23',\n",
    "    '63.06']\n",
    "x = np.arange(len(y))\n",
    "sns.barplot(x, y, ax=ax)\n",
    "\n",
    "plt.tick_params(labelsize=11)\n",
    "ax = plt.gca()\n",
    "for label in ax.xaxis.get_ticklabels():\n",
    "    label.set_rotation(30)\n",
    "    \n",
    "ax.set_xticklabels(['BW-SVM', 'W-CNN', 'E-NN','EB-CNN','S-NN','S-LSTM','Att-NN','Att-LSTM','S-GICF','Att-GICF','MIL-s','MIL-rep'])\n",
    "ax.set_xlabel(\"Model comprison\",fontsize=13)\n",
    "ax.set_ylabel(\"Accuracy percentage\",fontsize=13)\n",
    "  \n",
    "plt.savefig(\"results.jpg\")\n",
    "plt.show()"
   ]
  },
  {
   "cell_type": "code",
   "execution_count": null,
   "metadata": {},
   "outputs": [],
   "source": []
  },
  {
   "cell_type": "code",
   "execution_count": null,
   "metadata": {},
   "outputs": [],
   "source": []
  },
  {
   "cell_type": "code",
   "execution_count": 9,
   "metadata": {},
   "outputs": [
    {
     "data": {
      "text/plain": [
       "<matplotlib.axes._subplots.AxesSubplot at 0x15480f15ecd0>"
      ]
     },
     "execution_count": 9,
     "metadata": {},
     "output_type": "execute_result"
    },
    {
     "data": {
      "image/png": "[encoded data removed]",
      "text/plain": [
       "<Figure size 720x360 with 1 Axes>"
      ]
     },
     "metadata": {
      "needs_background": "light"
     },
     "output_type": "display_data"
    }
   ],
   "source": [
    "%matplotlib inline\n",
    "x_train.groupby(x_train.index).size().plot(kind='bar', figsize = (10,5))"
   ]
  },
  {
   "cell_type": "code",
   "execution_count": null,
   "metadata": {},
   "outputs": [],
   "source": []
  }
 ],
 "metadata": {
  "kernelspec": {
   "display_name": "Python 3",
   "language": "python",
   "name": "python3"
  },
  "language_info": {
   "codemirror_mode": {
    "name": "ipython",
    "version": 3
   },
   "file_extension": ".py",
   "mimetype": "text/x-python",
   "name": "python",
   "nbconvert_exporter": "python",
   "pygments_lexer": "ipython3",
   "version": "3.7.6"
  }
 },
 "nbformat": 4,
 "nbformat_minor": 4
}
